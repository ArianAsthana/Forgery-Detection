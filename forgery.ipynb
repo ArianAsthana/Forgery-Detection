{
 "cells": [
  {
   "cell_type": "code",
   "execution_count": 1,
   "id": "ce28211f",
   "metadata": {},
   "outputs": [
    {
     "name": "stderr",
     "output_type": "stream",
     "text": [
      "/home/hasan/anaconda3/envs/gpu_ml/lib/python3.10/site-packages/numpy/core/getlimits.py:500: UserWarning: The value of the smallest subnormal for <class 'numpy.float64'> type is zero.\n",
      "  setattr(self, word, getattr(machar, word).flat[0])\n",
      "/home/hasan/anaconda3/envs/gpu_ml/lib/python3.10/site-packages/numpy/core/getlimits.py:89: UserWarning: The value of the smallest subnormal for <class 'numpy.float64'> type is zero.\n",
      "  return self._float_to_str(self.smallest_subnormal)\n",
      "/home/hasan/anaconda3/envs/gpu_ml/lib/python3.10/site-packages/numpy/core/getlimits.py:500: UserWarning: The value of the smallest subnormal for <class 'numpy.float32'> type is zero.\n",
      "  setattr(self, word, getattr(machar, word).flat[0])\n",
      "/home/hasan/anaconda3/envs/gpu_ml/lib/python3.10/site-packages/numpy/core/getlimits.py:89: UserWarning: The value of the smallest subnormal for <class 'numpy.float32'> type is zero.\n",
      "  return self._float_to_str(self.smallest_subnormal)\n"
     ]
    }
   ],
   "source": [
    "# Improved Document Forgery Detection Model\n",
    "import os\n",
    "import cv2\n",
    "import torch\n",
    "import numpy as np\n",
    "import torch.nn as nn\n",
    "import torch.optim as optim\n",
    "from tqdm.notebook import tqdm\n",
    "from torchvision import transforms\n",
    "from torchvision.models import convnext_tiny, ConvNeXt_Tiny_Weights\n",
    "from torch.utils.data import Dataset, DataLoader, ConcatDataset\n",
    "from preprocessing import apply_clahe, apply_hsv_equalization, apply_lthe\n",
    "from torch.optim.lr_scheduler import ReduceLROnPlateau, CosineAnnealingLR\n",
    "import copy\n",
    "from PIL import Image\n",
    "import easyocr\n",
    "from sklearn.model_selection import train_test_split\n",
    "from sklearn.metrics import classification_report, confusion_matrix\n",
    "import matplotlib.pyplot as plt\n",
    "import seaborn as sns\n",
    "\n",
    "torch.backends.cudnn.benchmark = True"
   ]
  },
  {
   "cell_type": "code",
   "execution_count": 2,
   "id": "b16a519e",
   "metadata": {},
   "outputs": [],
   "source": [
    "class EnhancedDocumentDataset(Dataset):\n",
    "    def __init__(self, samples, transform=None, use_ocr=False):\n",
    "        self.samples = samples\n",
    "        self.transform = transform\n",
    "        self.use_ocr = use_ocr\n",
    "        if use_ocr:\n",
    "            self.ocr_reader = easyocr.Reader(['en'])\n",
    "    \n",
    "    def __len__(self):\n",
    "        return len(self.samples)\n",
    "    \n",
    "    def extract_text_features(self, img):\n",
    "        \"\"\"Extract text-based features that might indicate forgery\"\"\"\n",
    "        try:\n",
    "            results = self.ocr_reader.readtext(img)\n",
    "            text_features = []\n",
    "            \n",
    "            for (bbox, text, confidence) in results:\n",
    "                # Extract bounding box coordinates\n",
    "                x1, y1 = int(min([point[0] for point in bbox])), int(min([point[1] for point in bbox]))\n",
    "                x2, y2 = int(max([point[0] for point in bbox])), int(max([point[1] for point in bbox]))\n",
    "                \n",
    "                # Extract text region\n",
    "                text_region = img[y1:y2, x1:x2]\n",
    "                if text_region.size > 0:\n",
    "                    # Analyze text region for potential forgery indicators\n",
    "                    # Check for inconsistent font characteristics, blurriness, etc.\n",
    "                    gray_region = cv2.cvtColor(text_region, cv2.COLOR_BGR2GRAY)\n",
    "                    \n",
    "                    # Calculate sharpness (Laplacian variance)\n",
    "                    sharpness = cv2.Laplacian(gray_region, cv2.CV_64F).var()\n",
    "                    \n",
    "                    # Calculate edge density\n",
    "                    edges = cv2.Canny(gray_region, 50, 150)\n",
    "                    edge_density = np.sum(edges > 0) / edges.size\n",
    "                    \n",
    "                    text_features.extend([confidence, sharpness, edge_density])\n",
    "            \n",
    "            # Pad or truncate to fixed size\n",
    "            target_size = 20  # 10 text regions * 3 features each\n",
    "            if len(text_features) < target_size:\n",
    "                text_features.extend([0.0] * (target_size - len(text_features)))\n",
    "            else:\n",
    "                text_features = text_features[:target_size]\n",
    "                \n",
    "            return np.array(text_features, dtype=np.float32)\n",
    "        except:\n",
    "            return np.zeros(30, dtype=np.float32)\n",
    "    \n",
    "    def advanced_preprocessing(self, img, path):\n",
    "        \"\"\"Enhanced preprocessing pipeline\"\"\"\n",
    "        # Apply different preprocessing based on document type\n",
    "        if \"ID\" in path:\n",
    "            # Enhanced preprocessing for ID documents\n",
    "            img = apply_clahe(img)\n",
    "            img = apply_hsv_equalization(img)\n",
    "            gray = cv2.cvtColor(img, cv2.COLOR_BGR2GRAY)\n",
    "            mask = apply_lthe(gray)\n",
    "            img = cv2.cvtColor(mask, cv2.COLOR_GRAY2BGR)\n",
    "        \n",
    "        # Additional preprocessing for better feature extraction\n",
    "        # Enhance contrast\n",
    "        lab = cv2.cvtColor(img, cv2.COLOR_BGR2LAB)\n",
    "        l_channel = lab[:,:,0]\n",
    "        clahe = cv2.createCLAHE(clipLimit=2.0, tileGridSize=(8,8))\n",
    "        l_channel = clahe.apply(l_channel)\n",
    "        lab[:,:,0] = l_channel\n",
    "        img = cv2.cvtColor(lab, cv2.COLOR_LAB2BGR)\n",
    "        \n",
    "        # Noise reduction\n",
    "        img = cv2.bilateralFilter(img, 5, 50, 50)\n",
    "        \n",
    "        return img\n",
    "    \n",
    "    def __getitem__(self, idx):\n",
    "        path, label = self.samples[idx]\n",
    "        img = cv2.imread(path)\n",
    "        \n",
    "        # Apply advanced preprocessing\n",
    "        img = self.advanced_preprocessing(img, path)\n",
    "        \n",
    "        # Extract text features if OCR is enabled\n",
    "        text_features = None\n",
    "        if self.use_ocr:\n",
    "            text_features = self.extract_text_features(img)\n",
    "        \n",
    "        if self.transform:\n",
    "            img = self.transform(img)\n",
    "        \n",
    "        if text_features is not None:\n",
    "            return img, torch.tensor(text_features), label\n",
    "        else:\n",
    "            return img, label"
   ]
  },
  {
   "cell_type": "code",
   "execution_count": 3,
   "id": "37850754",
   "metadata": {},
   "outputs": [],
   "source": [
    "class ImprovedConvNextModel(nn.Module):\n",
    "    def __init__(self, num_classes=2, use_text_features=False, dropout_rate=0.3):\n",
    "        super(ImprovedConvNextModel, self).__init__()\n",
    "        \n",
    "        # Load pretrained ConvNeXt\n",
    "        self.backbone = convnext_tiny(weights=ConvNeXt_Tiny_Weights.IMAGENET1K_V1)\n",
    "        \n",
    "        # Remove the original classifier\n",
    "        self.features = self.backbone.features\n",
    "        self.avgpool = self.backbone.avgpool\n",
    "        \n",
    "        # Enhanced classifier with additional layers\n",
    "        feature_dim = 768\n",
    "        self.use_text_features = use_text_features\n",
    "        \n",
    "        if use_text_features:\n",
    "            # Text feature processor\n",
    "            self.text_processor = nn.Sequential(\n",
    "                nn.Linear(30, 64),\n",
    "                nn.ReLU(),\n",
    "                nn.Dropout(dropout_rate),\n",
    "                nn.Linear(64, 32),\n",
    "                nn.ReLU(),\n",
    "                nn.Dropout(dropout_rate)\n",
    "            )\n",
    "            feature_dim += 32\n",
    "        \n",
    "        # Enhanced classifier\n",
    "        self.classifier = nn.Sequential(\n",
    "            nn.Dropout(dropout_rate),\n",
    "            nn.Linear(feature_dim, 512),\n",
    "            nn.ReLU(),\n",
    "            nn.BatchNorm1d(512),\n",
    "            nn.Dropout(dropout_rate),\n",
    "            nn.Linear(512, 256),\n",
    "            nn.ReLU(),\n",
    "            nn.BatchNorm1d(256),\n",
    "            nn.Dropout(dropout_rate),\n",
    "            nn.Linear(256, 128),\n",
    "            nn.ReLU(),\n",
    "            nn.BatchNorm1d(128),\n",
    "            nn.Dropout(dropout_rate),\n",
    "            nn.Linear(128, num_classes)\n",
    "        )\n",
    "        \n",
    "        # Initialize weights\n",
    "        self._initialize_weights()\n",
    "    \n",
    "    def _initialize_weights(self):\n",
    "        for m in self.classifier.modules():\n",
    "            if isinstance(m, nn.Linear):\n",
    "                nn.init.xavier_uniform_(m.weight)\n",
    "                if m.bias is not None:\n",
    "                    nn.init.constant_(m.bias, 0)\n",
    "            elif isinstance(m, nn.BatchNorm1d):\n",
    "                nn.init.constant_(m.weight, 1)\n",
    "                nn.init.constant_(m.bias, 0)\n",
    "    \n",
    "    def forward(self, x, text_features=None):\n",
    "        # Extract visual features\n",
    "        x = self.features(x)\n",
    "        x = self.avgpool(x)\n",
    "        x = torch.flatten(x, 1)\n",
    "        \n",
    "        # Combine with text features if available\n",
    "        if self.use_text_features and text_features is not None:\n",
    "            text_feat = self.text_processor(text_features)\n",
    "            x = torch.cat([x, text_feat], dim=1)\n",
    "        \n",
    "        x = self.classifier(x)\n",
    "        return x"
   ]
  },
  {
   "cell_type": "code",
   "execution_count": 4,
   "id": "cdc9999a",
   "metadata": {},
   "outputs": [],
   "source": [
    "def get_enhanced_model(device, use_text_features=False, dropout_rate=0.3):\n",
    "    model = ImprovedConvNextModel(\n",
    "        num_classes=2, \n",
    "        use_text_features=use_text_features,\n",
    "        dropout_rate=dropout_rate\n",
    "    )\n",
    "    return model.to(device)\n"
   ]
  },
  {
   "cell_type": "code",
   "execution_count": 5,
   "id": "6da7616c",
   "metadata": {},
   "outputs": [],
   "source": [
    "def get_split_datasets(root_dir, doc_types, transform, use_ocr=False):\n",
    "    all_samples = []\n",
    "    for doc_type in doc_types:\n",
    "        for label in [\"Real\", \"Forged\"]:\n",
    "            img_dir = os.path.join(root_dir, doc_type, label, \"Images\")\n",
    "            if os.path.exists(img_dir):\n",
    "                for fname in os.listdir(img_dir):\n",
    "                    if fname.lower().endswith(('.png', '.jpg', '.jpeg')):\n",
    "                        path = os.path.join(img_dir, fname)\n",
    "                        lbl = 0 if label == \"Real\" else 1\n",
    "                        all_samples.append((path, lbl))\n",
    "\n",
    "    # Stratified split\n",
    "    train_val, test = train_test_split(\n",
    "        all_samples, test_size=0.15, \n",
    "        stratify=[s[1] for s in all_samples], \n",
    "        random_state=42\n",
    "    )\n",
    "    train, val = train_test_split(\n",
    "        train_val, test_size=0.15 / 0.85, \n",
    "        stratify=[s[1] for s in train_val], \n",
    "        random_state=42\n",
    "    )\n",
    "\n",
    "    train_ds = EnhancedDocumentDataset(train, transform, use_ocr)\n",
    "    val_ds = EnhancedDocumentDataset(val, transform, use_ocr)\n",
    "    test_ds = EnhancedDocumentDataset(test, transform, use_ocr)\n",
    "\n",
    "    return train_ds, val_ds, test_ds"
   ]
  },
  {
   "cell_type": "code",
   "execution_count": 6,
   "id": "47221939",
   "metadata": {},
   "outputs": [],
   "source": [
    "def train_enhanced_forgery_model():\n",
    "    device = torch.device(\"cuda\" if torch.cuda.is_available() else \"cpu\")\n",
    "    print(f\"Using device: {device}\")\n",
    "    \n",
    "    # Enhanced data augmentation\n",
    "    train_transform = transforms.Compose([\n",
    "        transforms.ToPILImage(),\n",
    "        transforms.Resize((224, 224)),\n",
    "        transforms.RandomRotation(degrees=2),\n",
    "        transforms.ColorJitter(brightness=0.1, contrast=0.1, saturation=0.1, hue=0.05),\n",
    "        transforms.RandomPerspective(distortion_scale=0.1, p=0.3),\n",
    "        transforms.ToTensor(),\n",
    "        transforms.Normalize(mean=[0.485, 0.456, 0.406], std=[0.229, 0.224, 0.225])\n",
    "    ])\n",
    "    \n",
    "    val_transform = transforms.Compose([\n",
    "        transforms.ToPILImage(),\n",
    "        transforms.Resize((224, 224)),\n",
    "        transforms.ToTensor(),\n",
    "        transforms.Normalize(mean=[0.485, 0.456, 0.406], std=[0.229, 0.224, 0.225])\n",
    "    ])\n",
    "\n",
    "    doc_types = [\"budget\", \"ID\", \"invoice\", \"form\", \"memo\", \"letter\"]\n",
    "    \n",
    "    # Try with OCR features (set to False if easyocr is not available)\n",
    "    use_ocr = True\n",
    "    try:\n",
    "        import easyocr\n",
    "    except ImportError:\n",
    "        print(\"EasyOCR not available, using visual features only\")\n",
    "        use_ocr = False\n",
    "    \n",
    "    # Get datasets with different transforms for train/val\n",
    "    train_ds, _, _ = get_split_datasets(\"/home/hasan/datasets/datasets\", doc_types, train_transform, use_ocr)\n",
    "    _, val_ds, test_ds = get_split_datasets(\"/home/hasan/datasets/datasets\", doc_types, val_transform, use_ocr)\n",
    "\n",
    "    # Data loaders with better configurations\n",
    "    train_loader = DataLoader(\n",
    "        train_ds, batch_size=32, shuffle=True, \n",
    "        pin_memory=True, num_workers=6, \n",
    "        persistent_workers=True, drop_last=True, prefetch_factor=4\n",
    "    )\n",
    "    val_loader = DataLoader(\n",
    "        val_ds, batch_size=32, shuffle=False, \n",
    "        pin_memory=True, num_workers=4\n",
    "    )\n",
    "    test_loader = DataLoader(\n",
    "        test_ds, batch_size=16, shuffle=False, \n",
    "        pin_memory=True, num_workers=4\n",
    "    )\n",
    "\n",
    "    # Enhanced model\n",
    "    model = get_enhanced_model(device, use_text_features=use_ocr, dropout_rate=0.4)\n",
    "    \n",
    "    # Improved loss function with label smoothing\n",
    "    class LabelSmoothingLoss(nn.Module):\n",
    "        def __init__(self, smoothing=0.1):\n",
    "            super().__init__()\n",
    "            self.smoothing = smoothing\n",
    "        \n",
    "        def forward(self, pred, target):\n",
    "            confidence = 1.0 - self.smoothing\n",
    "            log_probs = torch.log_softmax(pred, dim=1)\n",
    "            nll_loss = -log_probs.gather(dim=1, index=target.unsqueeze(1)).squeeze(1)\n",
    "            smooth_loss = -log_probs.mean(dim=1)\n",
    "            loss = confidence * nll_loss + self.smoothing * smooth_loss\n",
    "            return loss.mean()\n",
    "    \n",
    "    criterion = LabelSmoothingLoss(smoothing=0.1)\n",
    "    \n",
    "    # Improved optimizer with different learning rates for backbone and classifier\n",
    "    backbone_params = list(model.features.parameters())\n",
    "    classifier_params = list(model.classifier.parameters())\n",
    "    if use_ocr:\n",
    "        classifier_params.extend(list(model.text_processor.parameters()))\n",
    "    \n",
    "    optimizer = torch.optim.AdamW([\n",
    "        {'params': backbone_params, 'lr': 2e-5, 'weight_decay': 1e-4},\n",
    "        {'params': classifier_params, 'lr': 5e-4, 'weight_decay': 1e-3}\n",
    "    ])\n",
    "    \n",
    "    # Mixed precision training\n",
    "    scaler = torch.amp.GradScaler('cuda')\n",
    "    \n",
    "    # Improved scheduler\n",
    "    scheduler = CosineAnnealingLR(optimizer, T_max=30, eta_min=1e-7)\n",
    "    \n",
    "    # Training tracking\n",
    "    train_losses, val_losses = [], []\n",
    "    train_accs, val_accs = [], []\n",
    "    best_val_acc = 0.0\n",
    "    best_model_wts = copy.deepcopy(model.state_dict())\n",
    "    patience = 8\n",
    "    wait = 0\n",
    "\n",
    "    print(\"Starting enhanced training...\")\n",
    "    for epoch in range(30):\n",
    "        # Training phase\n",
    "        model.train()\n",
    "        running_loss = 0.0\n",
    "        correct_train = 0\n",
    "        total_train = 0\n",
    "\n",
    "        progress_bar = tqdm(train_loader, desc=f\"Epoch {epoch+1}/30\", leave=False)\n",
    "        for batch_data in progress_bar:\n",
    "            if use_ocr:\n",
    "                images, text_features, labels = batch_data\n",
    "                text_features = text_features.to(device, non_blocking=True)\n",
    "            else:\n",
    "                images, labels = batch_data\n",
    "                text_features = None\n",
    "            \n",
    "            images = images.to(device, non_blocking=True)\n",
    "            labels = labels.to(device, non_blocking=True)\n",
    "\n",
    "            optimizer.zero_grad()\n",
    "            \n",
    "            with torch.amp.autocast('cuda'):\n",
    "                outputs = model(images, text_features)\n",
    "                loss = criterion(outputs, labels)\n",
    "\n",
    "            scaler.scale(loss).backward()\n",
    "            scaler.step(optimizer)\n",
    "            scaler.update()\n",
    "\n",
    "            running_loss += loss.item()\n",
    "            _, preds = torch.max(outputs, 1)\n",
    "            correct_train += (preds == labels).sum().item()\n",
    "            total_train += labels.size(0)\n",
    "            \n",
    "            if total_train % 128 == 0:  # Update every 128 samples\n",
    "                progress_bar.set_postfix({\n",
    "                    'Loss': f'{loss.item():.4f}',\n",
    "                    'Acc': f'{100 * correct_train / total_train:.2f}%'\n",
    "                })\n",
    "\n",
    "        train_loss = running_loss / len(train_loader)\n",
    "        train_acc = 100 * correct_train / total_train\n",
    "\n",
    "        # Validation phase\n",
    "        model.eval()\n",
    "        val_loss = 0.0\n",
    "        correct_val = 0\n",
    "        total_val = 0\n",
    "        \n",
    "        with torch.no_grad():\n",
    "            for batch_data in val_loader:\n",
    "                if use_ocr:\n",
    "                    images, text_features, labels = batch_data\n",
    "                    text_features = text_features.to(device)\n",
    "                else:\n",
    "                    images, labels = batch_data\n",
    "                    text_features = None\n",
    "                \n",
    "                images = images.to(device)\n",
    "                labels = labels.to(device)\n",
    "                \n",
    "                with torch.amp.autocast('cuda'):\n",
    "                    outputs = model(images, text_features)\n",
    "                    loss = criterion(outputs, labels)\n",
    "                \n",
    "                val_loss += loss.item()\n",
    "                _, preds = torch.max(outputs, 1)\n",
    "                correct_val += (preds == labels).sum().item()\n",
    "                total_val += labels.size(0)\n",
    "\n",
    "        val_loss /= len(val_loader)\n",
    "        val_acc = 100 * correct_val / total_val\n",
    "        \n",
    "        # Update scheduler\n",
    "        scheduler.step()\n",
    "        \n",
    "        # Store metrics\n",
    "        train_losses.append(train_loss)\n",
    "        val_losses.append(val_loss)\n",
    "        train_accs.append(train_acc)\n",
    "        val_accs.append(val_acc)\n",
    "\n",
    "        print(f\"Epoch {epoch+1:2d} | Train Loss: {train_loss:.4f} | Train Acc: {train_acc:.2f}% | \"\n",
    "              f\"Val Loss: {val_loss:.4f} | Val Acc: {val_acc:.2f}% | LR: {optimizer.param_groups[0]['lr']:.2e}\")\n",
    "\n",
    "        # Save best model\n",
    "        if val_acc > best_val_acc:\n",
    "            best_val_acc = val_acc\n",
    "            best_model_wts = copy.deepcopy(model.state_dict())\n",
    "            wait = 0\n",
    "            print(f\"New best validation accuracy: {best_val_acc:.2f}%\")\n",
    "        else:\n",
    "            wait += 1\n",
    "            if wait >= patience:\n",
    "                print(\"Early stopping triggered.\")\n",
    "                break\n",
    "\n",
    "    # Load best model\n",
    "    model.load_state_dict(best_model_wts)\n",
    "    torch.save(model.state_dict(), \"enhanced_forgery_model_best.pth\")\n",
    "    \n",
    "    # Plot training curves\n",
    "    plt.figure(figsize=(15, 5))\n",
    "    \n",
    "    plt.subplot(1, 3, 1)\n",
    "    plt.plot(train_losses, label='Train Loss')\n",
    "    plt.plot(val_losses, label='Val Loss')\n",
    "    plt.xlabel('Epoch')\n",
    "    plt.ylabel('Loss')\n",
    "    plt.legend()\n",
    "    plt.title('Training and Validation Loss')\n",
    "    \n",
    "    plt.subplot(1, 3, 2)\n",
    "    plt.plot(train_accs, label='Train Acc')\n",
    "    plt.plot(val_accs, label='Val Acc')\n",
    "    plt.xlabel('Epoch')\n",
    "    plt.ylabel('Accuracy (%)')\n",
    "    plt.legend()\n",
    "    plt.title('Training and Validation Accuracy')\n",
    "    \n",
    "    plt.tight_layout()\n",
    "    plt.show()\n",
    "    \n",
    "    print(\"Enhanced training complete.\")\n",
    "    torch.cuda.empty_cache()\n",
    "    return test_loader, model, use_ocr"
   ]
  },
  {
   "cell_type": "code",
   "execution_count": 7,
   "id": "26e2be10",
   "metadata": {},
   "outputs": [],
   "source": [
    "def evaluate_enhanced_model(model_path, test_loader, device, use_ocr=False):\n",
    "    model = get_enhanced_model(device, use_text_features=use_ocr)\n",
    "    model.load_state_dict(torch.load(model_path, map_location=device))\n",
    "    model.eval()\n",
    "\n",
    "    all_preds = []\n",
    "    all_labels = []\n",
    "    correct = 0\n",
    "    total = 0\n",
    "    \n",
    "    with torch.no_grad():\n",
    "        for batch_data in tqdm(test_loader, desc=\"Evaluating\"):\n",
    "            if use_ocr:\n",
    "                images, text_features, labels = batch_data\n",
    "                text_features = text_features.to(device)\n",
    "            else:\n",
    "                images, labels = batch_data\n",
    "                text_features = None\n",
    "            \n",
    "            images = images.to(device)\n",
    "            labels = labels.to(device)\n",
    "\n",
    "            outputs = model(images, text_features)\n",
    "            _, preds = torch.max(outputs, 1)\n",
    "            \n",
    "            all_preds.extend(preds.cpu().numpy())\n",
    "            all_labels.extend(labels.cpu().numpy())\n",
    "            \n",
    "            correct += (preds == labels).sum().item()\n",
    "            total += labels.size(0)\n",
    "\n",
    "    accuracy = 100 * correct / total\n",
    "    print(f\"Test Accuracy: {accuracy:.2f}%\")\n",
    "    \n",
    "    # Detailed classification report\n",
    "    print(\"\\nClassification Report:\")\n",
    "    print(classification_report(all_labels, all_preds, target_names=['Real', 'Forged']))\n",
    "    \n",
    "    # Confusion matrix\n",
    "    cm = confusion_matrix(all_labels, all_preds)\n",
    "    plt.figure(figsize=(8, 6))\n",
    "    sns.heatmap(cm, annot=True, fmt='d', cmap='Blues', \n",
    "                xticklabels=['Real', 'Forged'], \n",
    "                yticklabels=['Real', 'Forged'])\n",
    "    plt.title('Confusion Matrix')\n",
    "    plt.ylabel('True Label')\n",
    "    plt.xlabel('Predicted Label')\n",
    "    plt.show()\n",
    "    \n",
    "    return accuracy"
   ]
  },
  {
   "cell_type": "code",
   "execution_count": 8,
   "id": "bb6efe20",
   "metadata": {},
   "outputs": [
    {
     "name": "stdout",
     "output_type": "stream",
     "text": [
      "Using device: cuda\n",
      "Starting enhanced training...\n"
     ]
    },
    {
     "data": {
      "application/vnd.jupyter.widget-view+json": {
       "model_id": "",
       "version_major": 2,
       "version_minor": 0
      },
      "text/plain": [
       "Epoch 1/30:   0%|          | 0/612 [00:00<?, ?it/s]"
      ]
     },
     "metadata": {},
     "output_type": "display_data"
    },
    {
     "name": "stdout",
     "output_type": "stream",
     "text": [
      "Epoch  1 | Train Loss: 0.8658 | Train Acc: 51.56% | Val Loss: 0.6789 | Val Acc: 55.48% | LR: 1.99e-05\n",
      "New best validation accuracy: 55.48%\n"
     ]
    },
    {
     "data": {
      "application/vnd.jupyter.widget-view+json": {
       "model_id": "",
       "version_major": 2,
       "version_minor": 0
      },
      "text/plain": [
       "Epoch 2/30:   0%|          | 0/612 [00:00<?, ?it/s]"
      ]
     },
     "metadata": {},
     "output_type": "display_data"
    },
    {
     "name": "stdout",
     "output_type": "stream",
     "text": [
      "Epoch  2 | Train Loss: 0.7064 | Train Acc: 53.32% | Val Loss: 0.6786 | Val Acc: 52.13% | LR: 1.98e-05\n"
     ]
    },
    {
     "data": {
      "application/vnd.jupyter.widget-view+json": {
       "model_id": "",
       "version_major": 2,
       "version_minor": 0
      },
      "text/plain": [
       "Epoch 3/30:   0%|          | 0/612 [00:00<?, ?it/s]"
      ]
     },
     "metadata": {},
     "output_type": "display_data"
    },
    {
     "name": "stdout",
     "output_type": "stream",
     "text": [
      "Epoch  3 | Train Loss: 0.6856 | Train Acc: 53.68% | Val Loss: 0.6757 | Val Acc: 55.41% | LR: 1.95e-05\n"
     ]
    },
    {
     "data": {
      "application/vnd.jupyter.widget-view+json": {
       "model_id": "",
       "version_major": 2,
       "version_minor": 0
      },
      "text/plain": [
       "Epoch 4/30:   0%|          | 0/612 [00:00<?, ?it/s]"
      ]
     },
     "metadata": {},
     "output_type": "display_data"
    },
    {
     "name": "stdout",
     "output_type": "stream",
     "text": [
      "Epoch  4 | Train Loss: 0.6825 | Train Acc: 55.16% | Val Loss: 0.6750 | Val Acc: 56.79% | LR: 1.91e-05\n",
      "New best validation accuracy: 56.79%\n"
     ]
    },
    {
     "data": {
      "application/vnd.jupyter.widget-view+json": {
       "model_id": "",
       "version_major": 2,
       "version_minor": 0
      },
      "text/plain": [
       "Epoch 5/30:   0%|          | 0/612 [00:00<?, ?it/s]"
      ]
     },
     "metadata": {},
     "output_type": "display_data"
    },
    {
     "name": "stdout",
     "output_type": "stream",
     "text": [
      "Epoch  5 | Train Loss: 0.6808 | Train Acc: 55.28% | Val Loss: 0.6679 | Val Acc: 60.43% | LR: 1.87e-05\n",
      "New best validation accuracy: 60.43%\n"
     ]
    },
    {
     "data": {
      "application/vnd.jupyter.widget-view+json": {
       "model_id": "",
       "version_major": 2,
       "version_minor": 0
      },
      "text/plain": [
       "Epoch 6/30:   0%|          | 0/612 [00:00<?, ?it/s]"
      ]
     },
     "metadata": {},
     "output_type": "display_data"
    },
    {
     "name": "stdout",
     "output_type": "stream",
     "text": [
      "Epoch  6 | Train Loss: 0.6197 | Train Acc: 67.66% | Val Loss: 0.5537 | Val Acc: 74.61% | LR: 1.81e-05\n",
      "New best validation accuracy: 74.61%\n"
     ]
    },
    {
     "data": {
      "application/vnd.jupyter.widget-view+json": {
       "model_id": "",
       "version_major": 2,
       "version_minor": 0
      },
      "text/plain": [
       "Epoch 7/30:   0%|          | 0/612 [00:00<?, ?it/s]"
      ]
     },
     "metadata": {},
     "output_type": "display_data"
    },
    {
     "name": "stdout",
     "output_type": "stream",
     "text": [
      "Epoch  7 | Train Loss: 0.5723 | Train Acc: 73.26% | Val Loss: 0.5344 | Val Acc: 76.37% | LR: 1.74e-05\n",
      "New best validation accuracy: 76.37%\n"
     ]
    },
    {
     "data": {
      "application/vnd.jupyter.widget-view+json": {
       "model_id": "",
       "version_major": 2,
       "version_minor": 0
      },
      "text/plain": [
       "Epoch 8/30:   0%|          | 0/612 [00:00<?, ?it/s]"
      ]
     },
     "metadata": {},
     "output_type": "display_data"
    },
    {
     "name": "stdout",
     "output_type": "stream",
     "text": [
      "Epoch  8 | Train Loss: 0.5516 | Train Acc: 75.15% | Val Loss: 0.5250 | Val Acc: 77.37% | LR: 1.67e-05\n",
      "New best validation accuracy: 77.37%\n"
     ]
    },
    {
     "data": {
      "application/vnd.jupyter.widget-view+json": {
       "model_id": "",
       "version_major": 2,
       "version_minor": 0
      },
      "text/plain": [
       "Epoch 9/30:   0%|          | 0/612 [00:00<?, ?it/s]"
      ]
     },
     "metadata": {},
     "output_type": "display_data"
    },
    {
     "name": "stdout",
     "output_type": "stream",
     "text": [
      "Epoch  9 | Train Loss: 0.5378 | Train Acc: 76.49% | Val Loss: 0.5167 | Val Acc: 77.92% | LR: 1.59e-05\n",
      "New best validation accuracy: 77.92%\n"
     ]
    },
    {
     "data": {
      "application/vnd.jupyter.widget-view+json": {
       "model_id": "",
       "version_major": 2,
       "version_minor": 0
      },
      "text/plain": [
       "Epoch 10/30:   0%|          | 0/612 [00:00<?, ?it/s]"
      ]
     },
     "metadata": {},
     "output_type": "display_data"
    },
    {
     "name": "stdout",
     "output_type": "stream",
     "text": [
      "Epoch 10 | Train Loss: 0.5252 | Train Acc: 77.51% | Val Loss: 0.5057 | Val Acc: 78.99% | LR: 1.50e-05\n",
      "New best validation accuracy: 78.99%\n"
     ]
    },
    {
     "data": {
      "application/vnd.jupyter.widget-view+json": {
       "model_id": "",
       "version_major": 2,
       "version_minor": 0
      },
      "text/plain": [
       "Epoch 11/30:   0%|          | 0/612 [00:00<?, ?it/s]"
      ]
     },
     "metadata": {},
     "output_type": "display_data"
    },
    {
     "name": "stdout",
     "output_type": "stream",
     "text": [
      "Epoch 11 | Train Loss: 0.5061 | Train Acc: 79.39% | Val Loss: 0.4984 | Val Acc: 79.90% | LR: 1.41e-05\n",
      "New best validation accuracy: 79.90%\n"
     ]
    },
    {
     "data": {
      "application/vnd.jupyter.widget-view+json": {
       "model_id": "",
       "version_major": 2,
       "version_minor": 0
      },
      "text/plain": [
       "Epoch 12/30:   0%|          | 0/612 [00:00<?, ?it/s]"
      ]
     },
     "metadata": {},
     "output_type": "display_data"
    },
    {
     "name": "stdout",
     "output_type": "stream",
     "text": [
      "Epoch 12 | Train Loss: 0.4919 | Train Acc: 80.47% | Val Loss: 0.4847 | Val Acc: 81.35% | LR: 1.31e-05\n",
      "New best validation accuracy: 81.35%\n"
     ]
    },
    {
     "data": {
      "application/vnd.jupyter.widget-view+json": {
       "model_id": "",
       "version_major": 2,
       "version_minor": 0
      },
      "text/plain": [
       "Epoch 13/30:   0%|          | 0/612 [00:00<?, ?it/s]"
      ]
     },
     "metadata": {},
     "output_type": "display_data"
    },
    {
     "name": "stdout",
     "output_type": "stream",
     "text": [
      "Epoch 13 | Train Loss: 0.4751 | Train Acc: 81.81% | Val Loss: 0.4755 | Val Acc: 82.11% | LR: 1.21e-05\n",
      "New best validation accuracy: 82.11%\n"
     ]
    },
    {
     "data": {
      "application/vnd.jupyter.widget-view+json": {
       "model_id": "",
       "version_major": 2,
       "version_minor": 0
      },
      "text/plain": [
       "Epoch 14/30:   0%|          | 0/612 [00:00<?, ?it/s]"
      ]
     },
     "metadata": {},
     "output_type": "display_data"
    },
    {
     "name": "stdout",
     "output_type": "stream",
     "text": [
      "Epoch 14 | Train Loss: 0.4608 | Train Acc: 83.07% | Val Loss: 0.4631 | Val Acc: 83.06% | LR: 1.11e-05\n",
      "New best validation accuracy: 83.06%\n"
     ]
    },
    {
     "data": {
      "application/vnd.jupyter.widget-view+json": {
       "model_id": "",
       "version_major": 2,
       "version_minor": 0
      },
      "text/plain": [
       "Epoch 15/30:   0%|          | 0/612 [00:00<?, ?it/s]"
      ]
     },
     "metadata": {},
     "output_type": "display_data"
    },
    {
     "name": "stdout",
     "output_type": "stream",
     "text": [
      "Epoch 15 | Train Loss: 0.4531 | Train Acc: 83.89% | Val Loss: 0.4665 | Val Acc: 83.15% | LR: 1.01e-05\n",
      "New best validation accuracy: 83.15%\n"
     ]
    },
    {
     "data": {
      "application/vnd.jupyter.widget-view+json": {
       "model_id": "",
       "version_major": 2,
       "version_minor": 0
      },
      "text/plain": [
       "Epoch 16/30:   0%|          | 0/612 [00:00<?, ?it/s]"
      ]
     },
     "metadata": {},
     "output_type": "display_data"
    },
    {
     "name": "stdout",
     "output_type": "stream",
     "text": [
      "Epoch 16 | Train Loss: 0.4426 | Train Acc: 84.42% | Val Loss: 0.4621 | Val Acc: 83.11% | LR: 9.01e-06\n"
     ]
    },
    {
     "data": {
      "application/vnd.jupyter.widget-view+json": {
       "model_id": "",
       "version_major": 2,
       "version_minor": 0
      },
      "text/plain": [
       "Epoch 17/30:   0%|          | 0/612 [00:00<?, ?it/s]"
      ]
     },
     "metadata": {},
     "output_type": "display_data"
    },
    {
     "name": "stdout",
     "output_type": "stream",
     "text": [
      "Epoch 17 | Train Loss: 0.4370 | Train Acc: 84.88% | Val Loss: 0.4642 | Val Acc: 83.65% | LR: 7.98e-06\n",
      "New best validation accuracy: 83.65%\n"
     ]
    },
    {
     "data": {
      "application/vnd.jupyter.widget-view+json": {
       "model_id": "",
       "version_major": 2,
       "version_minor": 0
      },
      "text/plain": [
       "Epoch 18/30:   0%|          | 0/612 [00:00<?, ?it/s]"
      ]
     },
     "metadata": {},
     "output_type": "display_data"
    },
    {
     "name": "stdout",
     "output_type": "stream",
     "text": [
      "Epoch 18 | Train Loss: 0.4303 | Train Acc: 85.18% | Val Loss: 0.4634 | Val Acc: 83.75% | LR: 6.98e-06\n",
      "New best validation accuracy: 83.75%\n"
     ]
    },
    {
     "data": {
      "application/vnd.jupyter.widget-view+json": {
       "model_id": "",
       "version_major": 2,
       "version_minor": 0
      },
      "text/plain": [
       "Epoch 19/30:   0%|          | 0/612 [00:00<?, ?it/s]"
      ]
     },
     "metadata": {},
     "output_type": "display_data"
    },
    {
     "name": "stdout",
     "output_type": "stream",
     "text": [
      "Epoch 19 | Train Loss: 0.4225 | Train Acc: 85.81% | Val Loss: 0.4748 | Val Acc: 82.96% | LR: 6.00e-06\n"
     ]
    },
    {
     "data": {
      "application/vnd.jupyter.widget-view+json": {
       "model_id": "",
       "version_major": 2,
       "version_minor": 0
      },
      "text/plain": [
       "Epoch 20/30:   0%|          | 0/612 [00:00<?, ?it/s]"
      ]
     },
     "metadata": {},
     "output_type": "display_data"
    },
    {
     "name": "stdout",
     "output_type": "stream",
     "text": [
      "Epoch 20 | Train Loss: 0.4147 | Train Acc: 86.59% | Val Loss: 0.4694 | Val Acc: 82.75% | LR: 5.08e-06\n"
     ]
    },
    {
     "data": {
      "application/vnd.jupyter.widget-view+json": {
       "model_id": "",
       "version_major": 2,
       "version_minor": 0
      },
      "text/plain": [
       "Epoch 21/30:   0%|          | 0/612 [00:00<?, ?it/s]"
      ]
     },
     "metadata": {},
     "output_type": "display_data"
    },
    {
     "name": "stdout",
     "output_type": "stream",
     "text": [
      "Epoch 21 | Train Loss: 0.4109 | Train Acc: 86.52% | Val Loss: 0.4800 | Val Acc: 82.44% | LR: 4.20e-06\n"
     ]
    },
    {
     "data": {
      "application/vnd.jupyter.widget-view+json": {
       "model_id": "",
       "version_major": 2,
       "version_minor": 0
      },
      "text/plain": [
       "Epoch 22/30:   0%|          | 0/612 [00:00<?, ?it/s]"
      ]
     },
     "metadata": {},
     "output_type": "display_data"
    },
    {
     "name": "stdout",
     "output_type": "stream",
     "text": [
      "Epoch 22 | Train Loss: 0.4103 | Train Acc: 86.60% | Val Loss: 0.4796 | Val Acc: 82.44% | LR: 3.39e-06\n"
     ]
    },
    {
     "data": {
      "application/vnd.jupyter.widget-view+json": {
       "model_id": "",
       "version_major": 2,
       "version_minor": 0
      },
      "text/plain": [
       "Epoch 23/30:   0%|          | 0/612 [00:00<?, ?it/s]"
      ]
     },
     "metadata": {},
     "output_type": "display_data"
    },
    {
     "name": "stdout",
     "output_type": "stream",
     "text": [
      "Epoch 23 | Train Loss: 0.4037 | Train Acc: 87.04% | Val Loss: 0.4822 | Val Acc: 82.99% | LR: 2.66e-06\n"
     ]
    },
    {
     "data": {
      "application/vnd.jupyter.widget-view+json": {
       "model_id": "",
       "version_major": 2,
       "version_minor": 0
      },
      "text/plain": [
       "Epoch 24/30:   0%|          | 0/612 [00:00<?, ?it/s]"
      ]
     },
     "metadata": {},
     "output_type": "display_data"
    },
    {
     "name": "stdout",
     "output_type": "stream",
     "text": [
      "Epoch 24 | Train Loss: 0.4013 | Train Acc: 87.35% | Val Loss: 0.4829 | Val Acc: 82.70% | LR: 2.00e-06\n"
     ]
    },
    {
     "data": {
      "application/vnd.jupyter.widget-view+json": {
       "model_id": "",
       "version_major": 2,
       "version_minor": 0
      },
      "text/plain": [
       "Epoch 25/30:   0%|          | 0/612 [00:00<?, ?it/s]"
      ]
     },
     "metadata": {},
     "output_type": "display_data"
    },
    {
     "name": "stdout",
     "output_type": "stream",
     "text": [
      "Epoch 25 | Train Loss: 0.3958 | Train Acc: 87.63% | Val Loss: 0.4882 | Val Acc: 82.30% | LR: 1.43e-06\n"
     ]
    },
    {
     "data": {
      "application/vnd.jupyter.widget-view+json": {
       "model_id": "",
       "version_major": 2,
       "version_minor": 0
      },
      "text/plain": [
       "Epoch 26/30:   0%|          | 0/612 [00:00<?, ?it/s]"
      ]
     },
     "metadata": {},
     "output_type": "display_data"
    },
    {
     "name": "stdout",
     "output_type": "stream",
     "text": [
      "Epoch 26 | Train Loss: 0.3934 | Train Acc: 87.84% | Val Loss: 0.4758 | Val Acc: 83.23% | LR: 9.60e-07\n",
      "Early stopping triggered.\n"
     ]
    },
    {
     "data": {
      "image/png": "[encoded data removed]",
      "text/plain": [
       "<Figure size 1500x500 with 2 Axes>"
      ]
     },
     "metadata": {},
     "output_type": "display_data"
    },
    {
     "name": "stdout",
     "output_type": "stream",
     "text": [
      "Enhanced training complete.\n"
     ]
    },
    {
     "data": {
      "application/vnd.jupyter.widget-view+json": {
       "model_id": "953015e6b7be4716bf5ec420632aa708",
       "version_major": 2,
       "version_minor": 0
      },
      "text/plain": [
       "Evaluating:   0%|          | 0/263 [00:00<?, ?it/s]"
      ]
     },
     "metadata": {},
     "output_type": "display_data"
    },
    {
     "name": "stdout",
     "output_type": "stream",
     "text": [
      "Test Accuracy: 83.39%\n",
      "\n",
      "Classification Report:\n",
      "              precision    recall  f1-score   support\n",
      "\n",
      "        Real       0.81      0.86      0.83      2017\n",
      "      Forged       0.86      0.81      0.83      2186\n",
      "\n",
      "    accuracy                           0.83      4203\n",
      "   macro avg       0.83      0.84      0.83      4203\n",
      "weighted avg       0.84      0.83      0.83      4203\n",
      "\n"
     ]
    },
    {
     "data": {
      "image/png": "[encoded data removed]",
      "text/plain": [
       "<Figure size 800x600 with 2 Axes>"
      ]
     },
     "metadata": {},
     "output_type": "display_data"
    }
   ],
   "source": [
    "if __name__ == \"__main__\":\n",
    "    test_loader, trained_model, use_ocr_flag = train_enhanced_forgery_model()\n",
    "    device = torch.device(\"cuda\" if torch.cuda.is_available() else \"cpu\")\n",
    "    evaluate_enhanced_model(\"enhanced_forgery_model_best.pth\", test_loader, device, use_ocr_flag)"
   ]
  },
  {
   "cell_type": "code",
   "execution_count": null,
   "id": "2e39a443",
   "metadata": {},
   "outputs": [],
   "source": []
  }
 ],
 "metadata": {
  "kernelspec": {
   "display_name": "Python (gpu_ml)",
   "language": "python",
   "name": "gpu_ml"
  },
  "language_info": {
   "codemirror_mode": {
    "name": "ipython",
    "version": 3
   },
   "file_extension": ".py",
   "mimetype": "text/x-python",
   "name": "python",
   "nbconvert_exporter": "python",
   "pygments_lexer": "ipython3",
   "version": "3.10.16"
  }
 },
 "nbformat": 4,
 "nbformat_minor": 5
}
