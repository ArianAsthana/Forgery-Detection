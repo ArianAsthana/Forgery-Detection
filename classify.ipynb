{
 "cells": [
  {
   "cell_type": "code",
   "execution_count": 1,
   "id": "ed311baa",
   "metadata": {},
   "outputs": [],
   "source": [
    "import os\n",
    "os.environ['TOKENIZERS_PARALLELISM'] = 'false'"
   ]
  },
  {
   "cell_type": "code",
   "execution_count": 2,
   "id": "9c3bc0a6",
   "metadata": {},
   "outputs": [
    {
     "name": "stderr",
     "output_type": "stream",
     "text": [
      "/home/hasan/anaconda3/envs/gpu_ml/lib/python3.10/site-packages/numpy/core/getlimits.py:518: UserWarning: The value of the smallest subnormal for <class 'numpy.float64'> type is zero.\n",
      "  setattr(self, word, getattr(machar, word).flat[0])\n",
      "/home/hasan/anaconda3/envs/gpu_ml/lib/python3.10/site-packages/numpy/core/getlimits.py:89: UserWarning: The value of the smallest subnormal for <class 'numpy.float64'> type is zero.\n",
      "  return self._float_to_str(self.smallest_subnormal)\n",
      "/home/hasan/anaconda3/envs/gpu_ml/lib/python3.10/site-packages/numpy/core/getlimits.py:518: UserWarning: The value of the smallest subnormal for <class 'numpy.float32'> type is zero.\n",
      "  setattr(self, word, getattr(machar, word).flat[0])\n",
      "/home/hasan/anaconda3/envs/gpu_ml/lib/python3.10/site-packages/numpy/core/getlimits.py:89: UserWarning: The value of the smallest subnormal for <class 'numpy.float32'> type is zero.\n",
      "  return self._float_to_str(self.smallest_subnormal)\n"
     ]
    },
    {
     "name": "stdout",
     "output_type": "stream",
     "text": [
      "EasyOCR initialized with GPU: True\n"
     ]
    },
    {
     "name": "stderr",
     "output_type": "stream",
     "text": [
      "2025-06-13 19:30:05.533324: I tensorflow/core/util/port.cc:113] oneDNN custom operations are on. You may see slightly different numerical results due to floating-point round-off errors from different computation orders. To turn them off, set the environment variable `TF_ENABLE_ONEDNN_OPTS=0`.\n",
      "2025-06-13 19:30:06.061084: E external/local_xla/xla/stream_executor/cuda/cuda_dnn.cc:9261] Unable to register cuDNN factory: Attempting to register factory for plugin cuDNN when one has already been registered\n",
      "2025-06-13 19:30:06.061416: E external/local_xla/xla/stream_executor/cuda/cuda_fft.cc:607] Unable to register cuFFT factory: Attempting to register factory for plugin cuFFT when one has already been registered\n",
      "2025-06-13 19:30:06.144725: E external/local_xla/xla/stream_executor/cuda/cuda_blas.cc:1515] Unable to register cuBLAS factory: Attempting to register factory for plugin cuBLAS when one has already been registered\n",
      "2025-06-13 19:30:06.316233: I tensorflow/core/platform/cpu_feature_guard.cc:182] This TensorFlow binary is optimized to use available CPU instructions in performance-critical operations.\n",
      "To enable the following instructions: AVX2 AVX_VNNI FMA, in other operations, rebuild TensorFlow with the appropriate compiler flags.\n",
      "2025-06-13 19:30:07.775105: W tensorflow/compiler/tf2tensorrt/utils/py_utils.cc:38] TF-TRT Warning: Could not find TensorRT\n",
      "Some weights of LayoutLMv3ForTokenClassification were not initialized from the model checkpoint at microsoft/layoutlmv3-base and are newly initialized: ['classifier.bias', 'classifier.weight']\n",
      "You should probably TRAIN this model on a down-stream task to be able to use it for predictions and inference.\n"
     ]
    },
    {
     "data": {
      "text/plain": [
       "LayoutLMv3ForTokenClassification(\n",
       "  (layoutlmv3): LayoutLMv3Model(\n",
       "    (embeddings): LayoutLMv3TextEmbeddings(\n",
       "      (word_embeddings): Embedding(50265, 768, padding_idx=1)\n",
       "      (token_type_embeddings): Embedding(1, 768)\n",
       "      (LayerNorm): LayerNorm((768,), eps=1e-05, elementwise_affine=True)\n",
       "      (dropout): Dropout(p=0.1, inplace=False)\n",
       "      (position_embeddings): Embedding(514, 768, padding_idx=1)\n",
       "      (x_position_embeddings): Embedding(1024, 128)\n",
       "      (y_position_embeddings): Embedding(1024, 128)\n",
       "      (h_position_embeddings): Embedding(1024, 128)\n",
       "      (w_position_embeddings): Embedding(1024, 128)\n",
       "    )\n",
       "    (patch_embed): LayoutLMv3PatchEmbeddings(\n",
       "      (proj): Conv2d(3, 768, kernel_size=(16, 16), stride=(16, 16))\n",
       "    )\n",
       "    (pos_drop): Dropout(p=0.0, inplace=False)\n",
       "    (LayerNorm): LayerNorm((768,), eps=1e-05, elementwise_affine=True)\n",
       "    (dropout): Dropout(p=0.1, inplace=False)\n",
       "    (norm): LayerNorm((768,), eps=1e-06, elementwise_affine=True)\n",
       "    (encoder): LayoutLMv3Encoder(\n",
       "      (layer): ModuleList(\n",
       "        (0-11): 12 x LayoutLMv3Layer(\n",
       "          (attention): LayoutLMv3Attention(\n",
       "            (self): LayoutLMv3SelfAttention(\n",
       "              (query): Linear(in_features=768, out_features=768, bias=True)\n",
       "              (key): Linear(in_features=768, out_features=768, bias=True)\n",
       "              (value): Linear(in_features=768, out_features=768, bias=True)\n",
       "              (dropout): Dropout(p=0.1, inplace=False)\n",
       "            )\n",
       "            (output): LayoutLMv3SelfOutput(\n",
       "              (dense): Linear(in_features=768, out_features=768, bias=True)\n",
       "              (LayerNorm): LayerNorm((768,), eps=1e-05, elementwise_affine=True)\n",
       "              (dropout): Dropout(p=0.1, inplace=False)\n",
       "            )\n",
       "          )\n",
       "          (intermediate): LayoutLMv3Intermediate(\n",
       "            (dense): Linear(in_features=768, out_features=3072, bias=True)\n",
       "            (intermediate_act_fn): GELUActivation()\n",
       "          )\n",
       "          (output): LayoutLMv3Output(\n",
       "            (dense): Linear(in_features=3072, out_features=768, bias=True)\n",
       "            (LayerNorm): LayerNorm((768,), eps=1e-05, elementwise_affine=True)\n",
       "            (dropout): Dropout(p=0.1, inplace=False)\n",
       "          )\n",
       "        )\n",
       "      )\n",
       "      (rel_pos_bias): Linear(in_features=32, out_features=12, bias=False)\n",
       "      (rel_pos_x_bias): Linear(in_features=64, out_features=12, bias=False)\n",
       "      (rel_pos_y_bias): Linear(in_features=64, out_features=12, bias=False)\n",
       "    )\n",
       "  )\n",
       "  (dropout): Dropout(p=0.1, inplace=False)\n",
       "  (classifier): Linear(in_features=768, out_features=2, bias=True)\n",
       ")"
      ]
     },
     "execution_count": 2,
     "metadata": {},
     "output_type": "execute_result"
    }
   ],
   "source": [
    "\n",
    "import sys\n",
    "if \"ipykernel\" in sys.argv[0]:\n",
    "    sys.argv = [sys.argv[0]]\n",
    "\n",
    "# Safe fallback if argparse fails in notebook\n",
    "try:\n",
    "    import argparse\n",
    "    parser = argparse.ArgumentParser()\n",
    "    parser.add_argument('--data_dir', type=str, default='datasets')\n",
    "    parser.add_argument('--epochs', type=int, default=10)\n",
    "    parser.add_argument('--batch_size', type=int, default=16)\n",
    "    parser.add_argument('--learning_rate', type=float, default=2e-5)\n",
    "    parser.add_argument('--no_cache', action='store_true')\n",
    "    args = parser.parse_args()\n",
    "except:\n",
    "    from types import SimpleNamespace\n",
    "    args = SimpleNamespace(data_dir='datasets', epochs=10, batch_size=16, learning_rate=2e-5, no_cache=False)\n",
    "\n",
    "# GPU setup for EasyOCR\n",
    "import torch\n",
    "import easyocr\n",
    "\n",
    "gpu_available = torch.cuda.is_available()\n",
    "reader = easyocr.Reader(['en'], gpu=gpu_available)\n",
    "print(\"EasyOCR initialized with GPU:\", gpu_available)\n",
    "\n",
    "# LayoutLMv3 import only\n",
    "from transformers import LayoutLMv3Processor, LayoutLMv3ForTokenClassification\n",
    "\n",
    "# Load model & processor\n",
    "model = LayoutLMv3ForTokenClassification.from_pretrained(\"microsoft/layoutlmv3-base\", num_labels=2)\n",
    "processor = LayoutLMv3Processor.from_pretrained(\"microsoft/layoutlmv3-base\")\n",
    "\n",
    "# Send model to GPU if available\n",
    "device = torch.device(\"cuda\" if torch.cuda.is_available() else \"cpu\")\n",
    "model.to(device)\n"
   ]
  },
  {
   "cell_type": "code",
   "execution_count": 3,
   "id": "ef753365",
   "metadata": {},
   "outputs": [
    {
     "name": "stdout",
     "output_type": "stream",
     "text": [
      "✅ CUDA cache cleared.\n",
      "🧹 Python garbage collection completed.\n"
     ]
    }
   ],
   "source": [
    "import torch, gc\n",
    "\n",
    "def clear_cuda_cache():\n",
    "    if torch.cuda.is_available():\n",
    "        torch.cuda.empty_cache()\n",
    "        torch.cuda.synchronize()\n",
    "        print(\"✅ CUDA cache cleared.\")\n",
    "    gc.collect()\n",
    "    print(\"🧹 Python garbage collection completed.\")\n",
    "\n",
    "clear_cuda_cache()\n"
   ]
  },
  {
   "cell_type": "code",
   "execution_count": 4,
   "id": "061ff39d",
   "metadata": {},
   "outputs": [
    {
     "name": "stdout",
     "output_type": "stream",
     "text": [
      "Transformers version: 4.52.4\n",
      "✅ Using LayoutLMv3\n",
      "🔧 Configuration:\n",
      "   Model: microsoft/layoutlmv3-base\n",
      "   Device: cuda\n",
      "   Batch size: 1\n",
      "   Max length: 512\n",
      "   Learning rate: 2e-05\n",
      "   Epochs: 3\n",
      "✅ Processor loaded successfully\n",
      "🔄 Attempting to initialize EasyOCR (attempt 1/3)\n",
      "✅ EasyOCR initialized successfully\n"
     ]
    }
   ],
   "source": [
    "\n",
    "import os\n",
    "import torch\n",
    "import numpy as np\n",
    "from PIL import Image\n",
    "from torch import nn\n",
    "from torch.utils.data import Dataset as TorchDataset, DataLoader\n",
    "from sklearn.metrics import classification_report, confusion_matrix, accuracy_score, f1_score\n",
    "import matplotlib.pyplot as plt\n",
    "import seaborn as sns\n",
    "import easyocr\n",
    "import gc\n",
    "import pickle\n",
    "from tqdm import tqdm\n",
    "import argparse\n",
    "from datetime import datetime\n",
    "import json\n",
    "import tempfile\n",
    "import warnings\n",
    "warnings.filterwarnings(\"ignore\")\n",
    "\n",
    "try:\n",
    "    import transformers\n",
    "    print(f\"Transformers version: {transformers.__version__}\")\n",
    "    \n",
    "    try:\n",
    "        from transformers import LayoutLMv3Processor, LayoutLMv3ForSequenceClassification\n",
    "        MODEL_NAME = \"microsoft/layoutlmv3-base\"\n",
    "        PROCESSOR_CLASS = LayoutLMv3Processor\n",
    "        MODEL_CLASS = LayoutLMv3ForSequenceClassification\n",
    "        print(\"✅ Using LayoutLMv3\")\n",
    "    except ImportError:\n",
    "        print(\"❌ LayoutLMv3 not available, trying LayoutLMv2...\")\n",
    "        try:\n",
    "            from transformers import LayoutLMv2Processor, LayoutLMv2ForSequenceClassification\n",
    "            MODEL_NAME = \"microsoft/layoutlmv2-base-uncased\"\n",
    "            PROCESSOR_CLASS = LayoutLMv2Processor\n",
    "            MODEL_CLASS = LayoutLMv2ForSequenceClassification\n",
    "            print(\"✅ Using LayoutLMv2\")\n",
    "        except ImportError:\n",
    "            print(\"❌ Neither LayoutLMv3 nor LayoutLMv2 available\")\n",
    "            print(\"📝 Please upgrade transformers: pip install transformers>=4.21.0\")\n",
    "            raise ImportError(\"LayoutLM models not available. Please upgrade transformers library.\")\n",
    "            \n",
    "except ImportError as e:\n",
    "    print(f\"❌ Transformers library not found: {e}\")\n",
    "    print(\"📝 Please install transformers: pip install transformers>=4.21.0\")\n",
    "    raise\n",
    "\n",
    "DATA_DIR = \"/home/hasan/datasets/classify/test\"\n",
    "MAX_LENGTH = 512\n",
    "BATCH_SIZE = 1\n",
    "EPOCHS = 3\n",
    "LEARNING_RATE = 2e-5\n",
    "USE_GPU = torch.cuda.is_available()\n",
    "DEVICE = torch.device(\"cuda\" if torch.cuda.is_available() else \"cpu\")\n",
    "CACHE_DIR = \"./cache\"\n",
    "PROCESS_BATCH_SIZE = 10\n",
    "SAVE_DIR = \"./models\"\n",
    "\n",
    "# Enhanced CUDA environment setup\n",
    "os.environ['CUDA_LAUNCH_BLOCKING'] = '1'\n",
    "os.environ['TORCH_USE_CUDA_DSA'] = '1'\n",
    "# Additional environment variables for CUDA stability\n",
    "os.environ['CUDA_VISIBLE_DEVICES'] = '0'  # Use only first GPU if multiple available\n",
    "os.environ['PYTORCH_CUDA_ALLOC_CONF'] = 'max_split_size_mb:128'\n",
    "\n",
    "os.makedirs(CACHE_DIR, exist_ok=True)\n",
    "os.makedirs(SAVE_DIR, exist_ok=True)\n",
    "\n",
    "print(f\"🔧 Configuration:\")\n",
    "print(f\"   Model: {MODEL_NAME}\")\n",
    "print(f\"   Device: {DEVICE}\")\n",
    "print(f\"   Batch size: {BATCH_SIZE}\")\n",
    "print(f\"   Max length: {MAX_LENGTH}\")\n",
    "print(f\"   Learning rate: {LEARNING_RATE}\")\n",
    "print(f\"   Epochs: {EPOCHS}\")\n",
    "\n",
    "try:\n",
    "    processor = PROCESSOR_CLASS.from_pretrained(MODEL_NAME, apply_ocr=False)\n",
    "    print(\"✅ Processor loaded successfully\")\n",
    "except Exception as e:\n",
    "    print(f\"❌ Failed to load processor: {e}\")\n",
    "    raise\n",
    "\n",
    "# Enhanced EasyOCR initialization with better error handling\n",
    "def initialize_easyocr(max_retries=3):\n",
    "    \"\"\"Initialize EasyOCR with multiple fallback strategies\"\"\"\n",
    "    \n",
    "    for attempt in range(max_retries):\n",
    "        try:\n",
    "            print(f\"🔄 Attempting to initialize EasyOCR (attempt {attempt + 1}/{max_retries})\")\n",
    "            \n",
    "            # Clear GPU cache before initializing\n",
    "            if torch.cuda.is_available():\n",
    "                torch.cuda.empty_cache()\n",
    "                torch.cuda.synchronize()\n",
    "            \n",
    "            # Try different initialization strategies\n",
    "            if attempt == 0:\n",
    "                # First attempt: Use GPU if available\n",
    "                reader = easyocr.Reader(['en'], gpu=True, model_storage_directory='./easyocr_models')\n",
    "            elif attempt == 1:\n",
    "                # Second attempt: Force CPU mode\n",
    "                print(\"🔄 Retrying with CPU mode...\")\n",
    "                reader = easyocr.Reader(['en'], gpu=False, model_storage_directory='./easyocr_models')\n",
    "            else:\n",
    "                # Third attempt: CPU with verbose output\n",
    "                print(\"🔄 Final attempt with CPU and verbose output...\")\n",
    "                reader = easyocr.Reader(['en'], gpu=False, verbose=True, model_storage_directory='./easyocr_models')\n",
    "            \n",
    "            # Test the reader with a simple operation\n",
    "            test_image = np.ones((100, 100, 3), dtype=np.uint8) * 255\n",
    "            _ = reader.readtext(test_image, detail=0)\n",
    "            \n",
    "            print(\"✅ EasyOCR initialized successfully\")\n",
    "            return reader\n",
    "            \n",
    "        except Exception as e:\n",
    "            print(f\"❌ EasyOCR initialization attempt {attempt + 1} failed: {e}\")\n",
    "            \n",
    "            if \"CUDA\" in str(e) or \"device-side assert\" in str(e):\n",
    "                print(\"🔧 CUDA error detected, will try CPU mode...\")\n",
    "                USE_GPU = False\n",
    "                if torch.cuda.is_available():\n",
    "                    torch.cuda.empty_cache()\n",
    "                    torch.cuda.synchronize()\n",
    "            \n",
    "            if attempt == max_retries - 1:\n",
    "                print(\"❌ All EasyOCR initialization attempts failed\")\n",
    "                raise e\n",
    "    \n",
    "    return None\n",
    "\n",
    "# Initialize EasyOCR with enhanced error handling\n",
    "try:\n",
    "    reader = initialize_easyocr()\n",
    "except Exception as e:\n",
    "    print(f\"❌ Failed to initialize EasyOCR after all attempts: {e}\")\n",
    "    print(\"📝 Possible solutions:\")\n",
    "    print(\"   1. Restart your Python session\")\n",
    "    print(\"   2. Clear GPU memory: nvidia-smi --gpu-reset\")\n",
    "    print(\"   3. Install EasyOCR: pip install easyocr\")\n",
    "    print(\"   4. Try running on CPU only\")\n",
    "    raise\n",
    "\n",
    "def clear_memory():\n",
    "    \"\"\"Enhanced memory clearing function\"\"\"\n",
    "    if torch.cuda.is_available():\n",
    "        torch.cuda.empty_cache()\n",
    "        torch.cuda.synchronize()\n",
    "    gc.collect()\n",
    "\n",
    "def get_memory_usage():\n",
    "    if torch.cuda.is_available():\n",
    "        return torch.cuda.memory_allocated() / 1024**3\n",
    "    return 0\n",
    "\n",
    "def load_data(data_dir):\n",
    "    if not os.path.exists(data_dir):\n",
    "        raise FileNotFoundError(f\"Data directory not found: {data_dir}\")\n",
    "    \n",
    "    samples = []\n",
    "    label_map = {}\n",
    "    label_id = 0\n",
    "\n",
    "    for label_name in sorted(os.listdir(data_dir)):\n",
    "        label_path = os.path.join(data_dir, label_name)\n",
    "        if not os.path.isdir(label_path):\n",
    "            continue\n",
    "\n",
    "        if label_name not in label_map:\n",
    "            label_map[label_name] = label_id\n",
    "            label_id += 1\n",
    "\n",
    "        for file in os.listdir(label_path):\n",
    "            if file.lower().endswith((\".jpg\", \".jpeg\", \".png\", \".bmp\", \".tiff\")):\n",
    "                samples.append({\n",
    "                    \"image_path\": os.path.join(label_path, file),\n",
    "                    \"label\": label_map[label_name],\n",
    "                    \"filename\": file\n",
    "                })\n",
    "\n",
    "    print(f\"📊 Dataset Summary:\")\n",
    "    print(f\"   Unique labels: {sorted(label_map.items(), key=lambda x: x[1])}\")\n",
    "    print(f\"   Total samples: {len(samples)}\")\n",
    "    \n",
    "    if len(samples) == 0:\n",
    "        raise ValueError(\"No image files found in the dataset directory\")\n",
    "    \n",
    "    return samples, label_map\n",
    "\n",
    "def safe_save_cache(data, filepath):\n",
    "    temp_file = None\n",
    "    try:\n",
    "        temp_dir = os.path.dirname(filepath)\n",
    "        with tempfile.NamedTemporaryFile(dir=temp_dir, delete=False, suffix='.tmp') as f:\n",
    "            temp_file = f.name\n",
    "            pickle.dump(data, f)\n",
    "        \n",
    "        os.rename(temp_file, filepath)\n",
    "        return True\n",
    "    except Exception as e:\n",
    "        print(f\"Failed to save cache {filepath}: {e}\")\n",
    "        if temp_file and os.path.exists(temp_file):\n",
    "            os.unlink(temp_file)\n",
    "        return False\n",
    "\n",
    "def safe_load_cache(filepath):\n",
    "    if not os.path.exists(filepath):\n",
    "        return None\n",
    "    \n",
    "    try:\n",
    "        with open(filepath, 'rb') as f:\n",
    "            data = pickle.load(f)\n",
    "        return data\n",
    "    except (EOFError, pickle.UnpicklingError, Exception) as e:\n",
    "        print(f\"Cache file corrupted: {filepath}, error: {e}\")\n",
    "        print(\"Deleting corrupted cache file...\")\n",
    "        try:\n",
    "            os.unlink(filepath)\n",
    "        except:\n",
    "            pass\n",
    "        return None\n",
    "\n",
    "def validate_and_fix_boxes(boxes, image_width, image_height):\n",
    "    fixed_boxes = []\n",
    "    for box in boxes:\n",
    "        x0, y0, x1, y1 = box\n",
    "        \n",
    "        x0 = max(0, min(x0, image_width - 1))\n",
    "        y0 = max(0, min(y0, image_height - 1))\n",
    "        x1 = max(x0 + 1, min(x1, image_width))\n",
    "        y1 = max(y0 + 1, min(y1, image_height))\n",
    "        \n",
    "        if x1 - x0 < 1:\n",
    "            x1 = x0 + 1\n",
    "        if y1 - y0 < 1:\n",
    "            y1 = y0 + 1\n",
    "            \n",
    "        fixed_boxes.append([int(x0), int(y0), int(x1), int(y1)])\n",
    "    \n",
    "    return fixed_boxes\n",
    "\n",
    "def safe_ocr_processing(image_array, max_retries=2):\n",
    "    \"\"\"Safely perform OCR with error handling\"\"\"\n",
    "    for attempt in range(max_retries + 1):\n",
    "        try:\n",
    "            # Clear memory before OCR\n",
    "            clear_memory()\n",
    "            \n",
    "            # Ensure image is in correct format\n",
    "            if len(image_array.shape) == 3 and image_array.shape[2] == 3:\n",
    "                # Convert to uint8 if needed\n",
    "                if image_array.dtype != np.uint8:\n",
    "                    image_array = image_array.astype(np.uint8)\n",
    "                \n",
    "                results = reader.readtext(image_array, detail=1, paragraph=False)\n",
    "                return results\n",
    "            else:\n",
    "                print(f\"Invalid image format: {image_array.shape}\")\n",
    "                return []\n",
    "                \n",
    "        except Exception as ocr_error:\n",
    "            print(f\"OCR attempt {attempt + 1} failed: {ocr_error}\")\n",
    "            clear_memory()\n",
    "            \n",
    "            if attempt == max_retries:\n",
    "                print(\"All OCR attempts failed, returning empty results\")\n",
    "                return []\n",
    "    \n",
    "    return []\n",
    "\n",
    "def process_single(sample, max_retries=2):\n",
    "    for attempt in range(max_retries + 1):\n",
    "        try:\n",
    "            image_path = sample[\"image_path\"]\n",
    "            \n",
    "            # Load and preprocess image\n",
    "            image = Image.open(image_path).convert(\"RGB\")\n",
    "            original_width, original_height = image.size\n",
    "            \n",
    "            # Resize if too large\n",
    "            max_size = 1024\n",
    "            if max(image.size) > max_size:\n",
    "                ratio = max_size / max(image.size)\n",
    "                new_size = tuple(int(dim * ratio) for dim in image.size)\n",
    "                image = image.resize(new_size, Image.Resampling.LANCZOS)\n",
    "            \n",
    "            current_width, current_height = image.size\n",
    "            img_np = np.array(image)\n",
    "            \n",
    "            # Perform OCR with enhanced error handling\n",
    "            results = safe_ocr_processing(img_np)\n",
    "            \n",
    "            words, boxes = [], []\n",
    "            \n",
    "            for detection in results:\n",
    "                try:\n",
    "                    box, text, conf = detection\n",
    "                    if conf > 0.3 and text.strip():\n",
    "                        clean_text = text.strip().replace('\\n', ' ').replace('\\t', ' ')\n",
    "                        if len(clean_text) > 0:\n",
    "                            words.append(clean_text)\n",
    "                            \n",
    "                            x_coords = [pt[0] for pt in box]\n",
    "                            y_coords = [pt[1] for pt in box]\n",
    "                            x0 = min(x_coords)\n",
    "                            y0 = min(y_coords)\n",
    "                            x1 = max(x_coords)\n",
    "                            y1 = max(y_coords)\n",
    "                            \n",
    "                            boxes.append([x0, y0, x1, y1])\n",
    "                except Exception as e:\n",
    "                    print(f\"Error processing OCR result: {e}\")\n",
    "                    continue\n",
    "\n",
    "            # Handle empty OCR results\n",
    "            if not words:\n",
    "                words = [\"[NO_TEXT_DETECTED]\"]\n",
    "                boxes = [[0, 0, min(50, current_width-1), min(20, current_height-1)]]\n",
    "\n",
    "            boxes = validate_and_fix_boxes(boxes, current_width, current_height)\n",
    "            \n",
    "            # Limit number of words to prevent memory issues\n",
    "            max_words = min(len(words), MAX_LENGTH // 4)\n",
    "            if len(words) > max_words:\n",
    "                words = words[:max_words]\n",
    "                boxes = boxes[:max_words]\n",
    "\n",
    "            if not words:\n",
    "                words = [\"[EMPTY]\"]\n",
    "                boxes = [[0, 0, min(50, current_width-1), min(20, current_height-1)]]\n",
    "\n",
    "            print(f\"Processing {sample['filename']}: {len(words)} words detected\")\n",
    "\n",
    "            # Process with transformers\n",
    "            try:\n",
    "                encoded = processor(\n",
    "                    images=image,\n",
    "                    text=words,\n",
    "                    boxes=boxes,\n",
    "                    truncation=True,\n",
    "                    padding=\"max_length\",\n",
    "                    max_length=MAX_LENGTH,\n",
    "                    return_tensors=\"pt\",\n",
    "                    return_attention_mask=True,\n",
    "                    return_token_type_ids=True if 'v2' in MODEL_NAME.lower() else False\n",
    "                )\n",
    "            except Exception as proc_error:\n",
    "                print(f\"Processor error for {sample['filename']}: {proc_error}\")\n",
    "                # Fallback to minimal processing\n",
    "                encoded = processor(\n",
    "                    images=Image.new(\"RGB\", (224, 224), \"white\"),\n",
    "                    text=[\"[ERROR]\"],\n",
    "                    boxes=[[0, 0, 50, 20]],\n",
    "                    truncation=True,\n",
    "                    padding=\"max_length\",\n",
    "                    max_length=MAX_LENGTH,\n",
    "                    return_tensors=\"pt\"\n",
    "                )\n",
    "\n",
    "            # Prepare result\n",
    "            result = {}\n",
    "            for k, v in encoded.items():\n",
    "                if isinstance(v, torch.Tensor):\n",
    "                    tensor = v.squeeze(0)\n",
    "                    \n",
    "                    if k == 'input_ids':\n",
    "                        vocab_size = processor.tokenizer.vocab_size\n",
    "                        tensor = torch.clamp(tensor, 0, vocab_size - 1)\n",
    "                    \n",
    "                    result[k] = tensor\n",
    "                else:\n",
    "                    result[k] = v\n",
    "\n",
    "            label_value = sample[\"label\"]\n",
    "            if not isinstance(label_value, int) or label_value < 0:\n",
    "                print(f\"Invalid label for {sample['filename']}: {label_value}\")\n",
    "                label_value = 0\n",
    "                \n",
    "            result[\"labels\"] = torch.tensor(label_value, dtype=torch.long)\n",
    "            \n",
    "            # Validate tensor shapes\n",
    "            expected_length = MAX_LENGTH\n",
    "            for key in ['input_ids', 'attention_mask']:\n",
    "                if key in result and result[key].shape[0] != expected_length:\n",
    "                    print(f\"Warning: {key} has unexpected length {result[key].shape[0]}, expected {expected_length}\")\n",
    "            \n",
    "            # Clean up\n",
    "            del image, img_np, encoded\n",
    "            clear_memory()\n",
    "            \n",
    "            return result\n",
    "\n",
    "        except Exception as e:\n",
    "            print(f\"Attempt {attempt + 1} failed for {sample['filename']}: {e}\")\n",
    "            clear_memory()\n",
    "            \n",
    "            if attempt == max_retries:\n",
    "                print(f\"Creating minimal dummy sample for {sample['filename']}\")\n",
    "                try:\n",
    "                    dummy_image = Image.new(\"RGB\", (224, 224), color=\"white\")\n",
    "                    dummy = processor(\n",
    "                        images=dummy_image,\n",
    "                        text=[\"[ERROR_FALLBACK]\"],\n",
    "                        boxes=[[0, 0, 50, 20]],\n",
    "                        truncation=True,\n",
    "                        padding=\"max_length\",  \n",
    "                        max_length=MAX_LENGTH,\n",
    "                        return_tensors=\"pt\"\n",
    "                    )\n",
    "                    dummy = {k: v.squeeze(0) for k, v in dummy.items()}\n",
    "                    dummy[\"labels\"] = torch.tensor(sample.get(\"label\", 0), dtype=torch.long)\n",
    "                    return dummy\n",
    "                except Exception as dummy_error:\n",
    "                    print(f\"Even dummy creation failed: {dummy_error}\")\n",
    "                    return None\n",
    "\n",
    "def process_samples_in_batches(samples, batch_size=PROCESS_BATCH_SIZE):\n",
    "    processed_samples = []\n",
    "    \n",
    "    cache_pattern = os.path.join(CACHE_DIR, \"chunk_*.pkl\")\n",
    "    import glob\n",
    "    existing_chunks = sorted(glob.glob(cache_pattern))\n",
    "    \n",
    "    if existing_chunks:\n",
    "        print(f\"📦 Found {len(existing_chunks)} existing cache chunks\")\n",
    "        print(\"🔄 Loading from cache chunks...\")\n",
    "        \n",
    "        for chunk_file in tqdm(existing_chunks, desc=\"Loading cache chunks\"):\n",
    "            chunk_data = safe_load_cache(chunk_file)\n",
    "            if chunk_data:\n",
    "                valid_samples = []\n",
    "                for sample in chunk_data:\n",
    "                    if sample is not None and 'labels' in sample:\n",
    "                        valid_samples.append(sample)\n",
    "                processed_samples.extend(valid_samples)\n",
    "            else:\n",
    "                print(f\"Skipping corrupted chunk: {os.path.basename(chunk_file)}\")\n",
    "        \n",
    "        print(f\"✅ Loaded {len(processed_samples)} valid samples from cache\")\n",
    "        \n",
    "        if len(processed_samples) >= len(samples):\n",
    "            return processed_samples[:len(samples)]\n",
    "        else:\n",
    "            print(f\"⚠️  Cache incomplete ({len(processed_samples)}/{len(samples)}), processing remaining...\")\n",
    "            remaining_samples = samples[len(processed_samples):]\n",
    "            start_chunk = len(existing_chunks)\n",
    "    else:\n",
    "        print(f\"🔄 Processing {len(samples)} samples in batches of {batch_size}...\")\n",
    "        remaining_samples = samples\n",
    "        start_chunk = 0\n",
    "    \n",
    "    if 'remaining_samples' in locals() and remaining_samples:\n",
    "        for i in tqdm(range(0, len(remaining_samples), batch_size), desc=\"Processing batches\"):\n",
    "            batch = remaining_samples[i:i + batch_size]\n",
    "            batch_processed = []\n",
    "            \n",
    "            for j, sample in enumerate(batch):\n",
    "                try:\n",
    "                    processed = process_single(sample)\n",
    "                    if processed is not None:\n",
    "                        batch_processed.append(processed)\n",
    "                    \n",
    "                    current_idx = len(processed_samples) + j + 1\n",
    "                    if current_idx % 50 == 0:\n",
    "                        mem_usage = get_memory_usage()\n",
    "                        print(f\"Processed {current_idx}/{len(samples)} samples. GPU memory: {mem_usage:.2f}GB\")\n",
    "                    \n",
    "                except Exception as e:\n",
    "                    print(f\"Failed to process sample {len(processed_samples) + j}: {e}\")\n",
    "                    continue\n",
    "            \n",
    "            if batch_processed:\n",
    "                chunk_num = start_chunk + (i // batch_size)\n",
    "                chunk_file = os.path.join(CACHE_DIR, f\"chunk_{chunk_num:04d}.pkl\")\n",
    "                \n",
    "                if safe_save_cache(batch_processed, chunk_file):\n",
    "                    print(f\"💾 Saved chunk {chunk_num} with {len(batch_processed)} samples\")\n",
    "                else:\n",
    "                    print(f\"❌ Failed to save chunk {chunk_num}\")\n",
    "                \n",
    "                processed_samples.extend(batch_processed)\n",
    "            \n",
    "            clear_memory()\n",
    "    \n",
    "    print(f\"✅ Successfully processed {len(processed_samples)} samples\")\n",
    "    return processed_samples\n",
    "\n",
    "class MemoryEfficientDataset(TorchDataset):\n",
    "    def __init__(self, samples):\n",
    "        self.samples = []\n",
    "        for sample in samples:\n",
    "            if sample is not None and 'labels' in sample and 'input_ids' in sample:\n",
    "                self.samples.append(sample)\n",
    "        \n",
    "        print(f\"Dataset initialized with {len(self.samples)} valid samples\")\n",
    "\n",
    "    def __len__(self):\n",
    "        return len(self.samples)\n",
    "\n",
    "    def __getitem__(self, idx):\n",
    "        if idx >= len(self.samples):\n",
    "            raise IndexError(f\"Index {idx} out of range for dataset of size {len(self.samples)}\")\n",
    "            \n",
    "        sample = self.samples[idx]\n",
    "        \n",
    "        result = {}\n",
    "        for k, v in sample.items():\n",
    "            if isinstance(v, torch.Tensor):\n",
    "                result[k] = v.clone().detach()\n",
    "                \n",
    "                if k == 'input_ids':\n",
    "                    max_token_id = processor.tokenizer.vocab_size - 1\n",
    "                    result[k] = torch.clamp(result[k], 0, max_token_id)\n",
    "                    \n",
    "            else:\n",
    "                result[k] = torch.tensor(v) if not isinstance(v, torch.Tensor) else v\n",
    "                \n",
    "        return result\n",
    "\n",
    "def train_epoch(model, dataloader, optimizer, epoch):\n",
    "    model.train()\n",
    "    total_loss = 0\n",
    "    num_batches = 0\n",
    "    \n",
    "    progress_bar = tqdm(dataloader, desc=f\"Training Epoch {epoch}\")\n",
    "    \n",
    "    for batch_idx, batch in enumerate(progress_bar):\n",
    "        try:\n",
    "            if not batch or 'labels' not in batch:\n",
    "                print(f\"Skipping invalid batch {batch_idx}\")\n",
    "                continue\n",
    "                \n",
    "            try:\n",
    "                for k in batch:\n",
    "                    if isinstance(batch[k], torch.Tensor):\n",
    "                        batch[k] = batch[k].to(DEVICE, non_blocking=True)\n",
    "                        \n",
    "                        if k == 'input_ids':\n",
    "                            max_val = batch[k].max().item()\n",
    "                            vocab_size = model.config.vocab_size\n",
    "                            if max_val >= vocab_size:\n",
    "                                print(f\"Warning: Found token ID {max_val} >= vocab_size {vocab_size} in batch {batch_idx}\")\n",
    "                                batch[k] = torch.clamp(batch[k], 0, vocab_size - 1)\n",
    "                                \n",
    "            except Exception as move_error:\n",
    "                print(f\"Error moving batch {batch_idx} to device: {move_error}\")\n",
    "                continue\n",
    "            \n",
    "            optimizer.zero_grad()\n",
    "            \n",
    "            try:\n",
    "                outputs = model(**batch)\n",
    "                loss = outputs.loss\n",
    "            except RuntimeError as forward_error:\n",
    "                if \"index\" in str(forward_error).lower() or \"assert\" in str(forward_error).lower():\n",
    "                    print(f\"Index/assertion error in batch {batch_idx}: {forward_error}\")\n",
    "                    print(f\"Batch shapes: {[(k, v.shape if hasattr(v, 'shape') else type(v)) for k, v in batch.items()]}\")\n",
    "                    continue\n",
    "                else:\n",
    "                    raise forward_error\n",
    "            \n",
    "            if torch.isnan(loss) or torch.isinf(loss):\n",
    "                print(f\"Skipping batch {batch_idx} due to invalid loss: {loss}\")\n",
    "                continue\n",
    "            \n",
    "            loss.backward()\n",
    "            torch.nn.utils.clip_grad_norm_(model.parameters(), max_norm=1.0)\n",
    "            optimizer.step()\n",
    "            \n",
    "            total_loss += loss.item()\n",
    "            num_batches += 1\n",
    "            \n",
    "            progress_bar.set_postfix({'loss': f'{loss.item():.4f}'})\n",
    "            \n",
    "            if batch_idx % 10 == 0:\n",
    "                clear_memory()\n",
    "                \n",
    "        except RuntimeError as e:\n",
    "            if \"out of memory\" in str(e):\n",
    "                print(f\"GPU OOM in batch {batch_idx}, clearing cache...\")\n",
    "                clear_memory()\n",
    "                continue\n",
    "            elif \"index\" in str(e).lower() or \"assert\" in str(e).lower():\n",
    "                print(f\"Index/assertion error in batch {batch_idx}: {e}\")\n",
    "                continue\n",
    "            else:\n",
    "                print(f\"Runtime error in batch {batch_idx}: {e}\")\n",
    "                continue\n",
    "        except Exception as e:\n",
    "            print(f\"Unexpected error in batch {batch_idx}: {e}\")\n",
    "            continue\n",
    "    \n",
    "    if num_batches == 0:\n",
    "        print(\"Warning: No batches processed successfully!\")\n",
    "        return float('inf')\n",
    "        \n",
    "    avg_loss = total_loss / num_batches\n",
    "    print(f\"Average training loss: {avg_loss:.4f}\")\n",
    "    return avg_loss\n",
    "\n",
    "def evaluate_model(model, dataloader, label_map, title=\"Validation\"):\n",
    "    model.eval()\n",
    "    preds, trues = [], []\n",
    "    \n",
    "    progress_bar = tqdm(dataloader, desc=f\"Evaluating {title}\")\n",
    "    \n",
    "    with torch.no_grad():\n",
    "        for batch_idx, batch in enumerate(progress_bar):\n",
    "            try:\n",
    "                if not batch or 'labels' not in batch:\n",
    "                    continue\n",
    "                    \n",
    "                labels = batch['labels'].cpu().numpy()\n",
    "                \n",
    "                for k in batch:\n",
    "                    if isinstance(batch[k], torch.Tensor):\n",
    "                        batch[k] = batch[k].to(DEVICE, non_blocking=True)\n",
    "                        \n",
    "                        if k == 'input_ids':\n",
    "                            max_val = batch[k].max().item()\n",
    "                            if max_val >= model.config.vocab_size:\n",
    "                                batch[k] = torch.clamp(batch[k], 0, model.config.vocab_size - 1)\n",
    "                \n",
    "                outputs = model(**batch)\n",
    "                logits = outputs.logits\n",
    "                predictions = torch.argmax(logits, dim=-1).cpu().numpy()\n",
    "                \n",
    "                preds.extend(predictions)\n",
    "                trues.extend(labels)\n",
    "                \n",
    "                if batch_idx % 10 == 0:\n",
    "                    clear_memory()\n",
    "                    \n",
    "            except Exception as e:\n",
    "                print(f\"Error in evaluation batch {batch_idx}: {e}\")\n",
    "                continue\n",
    "\n",
    "    if len(preds) == 0:\n",
    "        print(f\"No valid predictions for {title}\")\n",
    "        return 0.0, 0.0\n",
    "\n",
    "    accuracy = accuracy_score(trues, preds)\n",
    "    f1 = f1_score(trues, preds, average='weighted', zero_division=0)\n",
    "    \n",
    "    print(f\"\\n📊 {title} Metrics:\")\n",
    "    print(f\"   Accuracy: {accuracy:.4f}\")\n",
    "    print(f\"   F1-Score (weighted): {f1:.4f}\")\n",
    "    \n",
    "    print(f\"\\n📋 Classification Report ({title}):\")\n",
    "    print(classification_report(trues, preds, target_names=list(label_map.keys()), zero_division=0))\n",
    "\n",
    "    cm = confusion_matrix(trues, preds)\n",
    "    plt.figure(figsize=(8, 6))\n",
    "    sns.heatmap(cm, annot=True, fmt=\"d\", \n",
    "                xticklabels=list(label_map.keys()), \n",
    "                yticklabels=list(label_map.keys()), \n",
    "                cmap=\"Blues\")\n",
    "    plt.xlabel(\"Predicted\")\n",
    "    plt.ylabel(\"True\")\n",
    "    plt.title(f\"Confusion Matrix ({title})\")\n",
    "    plt.tight_layout()\n",
    "    \n",
    "    timestamp = datetime.now().strftime(\"%Y%m%d_%H%M%S\")\n",
    "    plt.savefig(f\"confusion_matrix_{title.lower()}_{timestamp}.png\", dpi=300, bbox_inches='tight')\n",
    "    plt.show()\n",
    "    plt.close()\n",
    "    \n",
    "    return accuracy, f1\n",
    "\n",
    "def split_data(samples, train_ratio=0.8, val_ratio=0.1):\n",
    "    np.random.shuffle(samples)\n",
    "    n = len(samples)\n",
    "    \n",
    "    train_end = int(n * train_ratio)\n",
    "    val_end = int(n * (train_ratio + val_ratio))\n",
    "    \n",
    "    train_samples = samples[:train_end]\n",
    "    val_samples = samples[train_end:val_end]\n",
    "    test_samples = samples[val_end:]\n",
    "    \n",
    "    print(f\"📊 Data Split:\")\n",
    "    print(f\"   Training: {len(train_samples)} samples\")\n",
    "    print(f\"   Validation: {len(val_samples)} samples\")\n",
    "    print(f\"   Test: {len(test_samples)} samples\")\n",
    "    \n",
    "    return train_samples, val_samples, test_samples\n",
    "\n",
    "def save_model_and_results(model, label_map, results, timestamp):\n",
    "    try:\n",
    "        model_path = os.path.join(SAVE_DIR, f\"layoutlm_model_{timestamp}\")\n",
    "        model.save_pretrained(model_path)\n",
    "        \n",
    "        processor.save_pretrained(model_path)\n",
    "        \n",
    "        metadata = {\n",
    "            'label_map': label_map,\n",
    "            'results': results,\n",
    "            'model_name': MODEL_NAME,\n",
    "            'config': {\n",
    "                'max_length': MAX_LENGTH,\n",
    "                'batch_size': BATCH_SIZE,\n",
    "                'epochs': EPOCHS,\n",
    "                'learning_rate': LEARNING_RATE\n",
    "            }\n",
    "        }\n",
    "        \n",
    "        metadata_path = os.path.join(model_path, 'metadata.json')\n",
    "        with open(metadata_path, 'w') as f:\n",
    "            json.dump(metadata, f, indent=2, default=str)\n",
    "        \n",
    "        print(f\"💾 Model and metadata saved to: {model_path}\")\n",
    "        \n",
    "    except Exception as e:\n",
    "        print(f\"❌ Failed to save model: {e}\")"
   ]
  },
  {
   "cell_type": "code",
   "execution_count": null,
   "id": "40243ba1",
   "metadata": {},
   "outputs": [
    {
     "name": "stdout",
     "output_type": "stream",
     "text": [
      "🚀 Starting LayoutLM Document Classification Training\n",
      "   Data directory: /home/hasan/datasets/classify/test\n",
      "   Epochs: 15\n",
      "   Batch size: 32\n",
      "   Learning rate: 2e-05\n",
      "\n",
      "📂 Loading dataset...\n",
      "📊 Dataset Summary:\n",
      "   Unique labels: [('ID', 0), ('advertisement', 1), ('budget', 2), ('email', 3), ('file_folder', 4), ('form', 5), ('handwritten', 6), ('invoice', 7), ('letter', 8), ('memo', 9), ('news_article', 10), ('presentation', 11), ('questionnaire', 12), ('receipt', 13), ('resume', 14), ('scientific_publication', 15), ('scientific_report', 16), ('specification', 17)]\n",
      "   Total samples: 3244\n",
      "📊 Data Split:\n",
      "   Training: 2595 samples\n",
      "   Validation: 324 samples\n",
      "   Test: 325 samples\n",
      "🗑️  Clearing cache as requested...\n",
      "🔄 Processing samples with enhanced validation...\n",
      "🔄 Processing 3244 samples in batches of 10...\n"
     ]
    },
    {
     "name": "stderr",
     "output_type": "stream",
     "text": [
      "\r",
      "Processing batches:   0%|                                                             | 0/325 [00:00<?, ?it/s]"
     ]
    },
    {
     "name": "stdout",
     "output_type": "stream",
     "text": [
      "Processing grc_passport_70.jpg: 4 words detected\n",
      "Processing img_08214.png: 13 words detected\n",
      "Processing img_07224.png: 11 words detected\n",
      "Processing lva_passport_89.jpg: 15 words detected\n",
      "Processing img_08337.png: 6 words detected\n",
      "Processing img_07152.png: 1 words detected\n",
      "Processing svk_id_61.jpg: 13 words detected\n",
      "Processing img_07310.png: 5 words detected\n",
      "Processing img_07838.png: 22 words detected\n",
      "Processing img_06937.png: 13 words detected\n"
     ]
    },
    {
     "name": "stderr",
     "output_type": "stream",
     "text": [
      "\r",
      "Processing batches:   0%|▏                                                    | 1/325 [00:08<44:29,  8.24s/it]"
     ]
    },
    {
     "name": "stdout",
     "output_type": "stream",
     "text": [
      "💾 Saved chunk 0 with 10 samples\n",
      "Processing img_07562.png: 11 words detected\n",
      "Processing grc_passport_94.jpg: 17 words detected\n",
      "Processing img_08766.png: 16 words detected\n",
      "Processing img_08082.png: 19 words detected\n",
      "Processing lva_passport_97.jpg: 37 words detected\n",
      "Processing srb_passport_90.jpg: 18 words detected\n",
      "Processing img_06488.png: 7 words detected\n",
      "Processing img_08190.png: 8 words detected\n",
      "Processing img_07158.png: 1 words detected\n",
      "Processing img_08238.png: 7 words detected\n",
      "💾 Saved chunk 1 with 10 samples\n"
     ]
    },
    {
     "name": "stderr",
     "output_type": "stream",
     "text": [
      "\r",
      "Processing batches:   1%|▎                                                    | 2/325 [00:15<41:26,  7.70s/it]"
     ]
    },
    {
     "name": "stdout",
     "output_type": "stream",
     "text": [
      "Processing svk_id_22.jpg: 8 words detected\n",
      "Processing img_08607.png: 5 words detected\n",
      "Processing srb_passport_22.jpg: 16 words detected\n",
      "Processing fin_id_19.jpg: 2 words detected\n",
      "Processing rus_internalpassport_91.jpg: 11 words detected\n",
      "Processing grc_passport_42.jpg: 27 words detected\n",
      "Processing img_07069.png: 6 words detected\n",
      "Processing img_07040.png: 18 words detected\n",
      "Processing img_07103.png: 6 words detected\n",
      "Processing img_08233.png: 10 words detected\n",
      "💾 Saved chunk 2 with 10 samples\n"
     ]
    },
    {
     "name": "stderr",
     "output_type": "stream",
     "text": [
      "\r",
      "Processing batches:   1%|▍                                                    | 3/325 [00:23<41:50,  7.80s/it]"
     ]
    },
    {
     "name": "stdout",
     "output_type": "stream",
     "text": [
      "Processing grc_passport_06.jpg: 3 words detected\n",
      "Processing img_08249.png: 18 words detected\n",
      "Processing img_07543.png: 4 words detected\n",
      "Processing img_08352.png: 13 words detected\n",
      "Processing img_06626.png: 16 words detected\n",
      "Processing img_06527.png: 13 words detected\n",
      "Processing srb_passport_98.jpg: 39 words detected\n",
      "Processing img_07012.png: 4 words detected\n",
      "Processing img_06686.png: 4 words detected\n",
      "Processing img_07651.png: 14 words detected\n",
      "💾 Saved chunk 3 with 10 samples\n"
     ]
    },
    {
     "name": "stderr",
     "output_type": "stream",
     "text": [
      "\r",
      "Processing batches:   1%|▋                                                    | 4/325 [00:30<40:26,  7.56s/it]"
     ]
    },
    {
     "name": "stdout",
     "output_type": "stream",
     "text": [
      "Processing rus_internalpassport_36.jpg: 11 words detected\n",
      "Processing img_08168.png: 11 words detected\n",
      "Processing img_08964.png: 26 words detected\n",
      "Processing img_06970.png: 18 words detected\n",
      "Processing img_07398.png: 11 words detected\n",
      "Processing img_07186.png: 2 words detected\n",
      "Processing img_08442.png: 29 words detected\n",
      "Processing img_07434.png: 6 words detected\n",
      "Processing img_07762.png: 6 words detected\n",
      "Processing img_06533.png: 4 words detected\n",
      "Processed 50/3244 samples. GPU memory: 0.57GB\n",
      "💾 Saved chunk 4 with 10 samples\n"
     ]
    },
    {
     "name": "stderr",
     "output_type": "stream",
     "text": [
      "\r",
      "Processing batches:   2%|▊                                                    | 5/325 [00:36<37:20,  7.00s/it]"
     ]
    },
    {
     "name": "stdout",
     "output_type": "stream",
     "text": [
      "Processing img_08751.png: 31 words detected\n",
      "Processing img_07646.png: 13 words detected\n",
      "Processing img_07576.png: 13 words detected\n",
      "Processing img_07071.png: 5 words detected\n",
      "Processing img_08683.png: 7 words detected\n",
      "Processing img_08768.png: 3 words detected\n",
      "Processing img_07499.png: 8 words detected\n",
      "Processing img_07302.png: 11 words detected\n",
      "Processing img_08338.png: 19 words detected\n",
      "Processing img_06844.png: 8 words detected\n",
      "💾 Saved chunk 5 with 10 samples\n"
     ]
    },
    {
     "name": "stderr",
     "output_type": "stream",
     "text": [
      "\r",
      "Processing batches:   2%|▉                                                    | 6/325 [00:42<34:46,  6.54s/it]"
     ]
    },
    {
     "name": "stdout",
     "output_type": "stream",
     "text": [
      "Processing img_08112.png: 8 words detected\n",
      "Processing img_07118.png: 14 words detected\n",
      "Processing lva_passport_81.jpg: 42 words detected\n",
      "Processing img_07030.png: 6 words detected\n",
      "Processing img_09025.png: 8 words detected\n",
      "Processing img_08674.png: 13 words detected\n",
      "Processing img_09012.png: 5 words detected\n",
      "Processing img_07241.png: 14 words detected\n",
      "Processing rus_internalpassport_44.jpg: 10 words detected\n",
      "Processing srb_passport_10.jpg: 30 words detected\n",
      "💾 Saved chunk 6 with 10 samples\n"
     ]
    },
    {
     "name": "stderr",
     "output_type": "stream",
     "text": [
      "\r",
      "Processing batches:   2%|█▏                                                   | 7/325 [00:49<35:27,  6.69s/it]"
     ]
    },
    {
     "name": "stdout",
     "output_type": "stream",
     "text": [
      "Processing img_07951.png: 5 words detected\n",
      "Processing img_07250.png: 6 words detected\n",
      "Processing img_08363.png: 6 words detected\n",
      "Processing img_08110.png: 14 words detected\n",
      "Processing img_08420.png: 6 words detected\n",
      "Processing img_06628.png: 7 words detected\n",
      "Processing lva_passport_80.jpg: 25 words detected\n",
      "Processing img_06682.png: 12 words detected\n",
      "Processing img_08601.png: 7 words detected\n",
      "Processing img_06869.png: 24 words detected\n",
      "💾 Saved chunk 7 with 10 samples\n"
     ]
    },
    {
     "name": "stderr",
     "output_type": "stream",
     "text": [
      "\r",
      "Processing batches:   2%|█▎                                                   | 8/325 [00:57<37:14,  7.05s/it]"
     ]
    },
    {
     "name": "stdout",
     "output_type": "stream",
     "text": [
      "Processing img_07664.png: 7 words detected\n",
      "Processing img_08075.png: 12 words detected\n",
      "Processing img_07405.png: 2 words detected\n",
      "Processing img_08667.png: 9 words detected\n",
      "Processing img_08585.png: 16 words detected\n",
      "Processing img_07763.png: 18 words detected\n",
      "Processing img_06637.png: 24 words detected\n",
      "Processing est_id_88.jpg: 10 words detected\n",
      "Processing img_07088.png: 18 words detected\n",
      "Processing img_07181.png: 14 words detected\n",
      "💾 Saved chunk 8 with 10 samples\n"
     ]
    },
    {
     "name": "stderr",
     "output_type": "stream",
     "text": [
      "\r",
      "Processing batches:   3%|█▍                                                   | 9/325 [01:03<35:26,  6.73s/it]"
     ]
    },
    {
     "name": "stdout",
     "output_type": "stream",
     "text": [
      "Processing img_08741.png: 8 words detected\n",
      "Processing img_07835.png: 5 words detected\n",
      "Processing img_08381.png: 7 words detected\n",
      "Processing img_08665.png: 12 words detected\n",
      "Processing img_08034.png: 15 words detected\n",
      "Processing srb_passport_94.jpg: 36 words detected\n",
      "Processing img_06718.png: 9 words detected\n",
      "Processing img_08929.png: 4 words detected\n",
      "Processing img_08630.png: 10 words detected\n",
      "Processing img_07344.png: 7 words detected\n",
      "Processed 100/3244 samples. GPU memory: 0.57GB\n",
      "💾 Saved chunk 9 with 10 samples\n"
     ]
    },
    {
     "name": "stderr",
     "output_type": "stream",
     "text": [
      "\r",
      "Processing batches:   3%|█▌                                                  | 10/325 [01:09<34:50,  6.64s/it]"
     ]
    },
    {
     "name": "stdout",
     "output_type": "stream",
     "text": [
      "Processing img_06855.png: 31 words detected\n",
      "Processing img_08359.png: 17 words detected\n",
      "Processing img_07504.png: 19 words detected\n",
      "Processing img_07307.png: 10 words detected\n",
      "Processing img_08119.png: 10 words detected\n",
      "Processing img_06900.png: 8 words detected\n",
      "Processing img_07909.png: 16 words detected\n",
      "Processing img_07133.png: 9 words detected\n",
      "Processing img_06606.png: 29 words detected\n",
      "Processing img_06896.png: 6 words detected\n",
      "💾 Saved chunk 10 with 10 samples\n"
     ]
    },
    {
     "name": "stderr",
     "output_type": "stream",
     "text": [
      "\r",
      "Processing batches:   3%|█▊                                                  | 11/325 [01:16<34:22,  6.57s/it]"
     ]
    },
    {
     "name": "stdout",
     "output_type": "stream",
     "text": [
      "Processing img_06957.png: 3 words detected\n",
      "Processing img_08250.png: 7 words detected\n",
      "Processing img_08641.png: 6 words detected\n",
      "Processing est_id_13.jpg: 4 words detected\n",
      "Processing fin_id_49.jpg: 9 words detected\n",
      "Processing img_07818.png: 5 words detected\n",
      "Processing img_08362.png: 7 words detected\n",
      "Processing img_08702.png: 6 words detected\n",
      "Processing img_06684.png: 6 words detected\n",
      "Processing img_07741.png: 8 words detected\n"
     ]
    },
    {
     "name": "stderr",
     "output_type": "stream",
     "text": [
      "\r",
      "Processing batches:   4%|█▉                                                  | 12/325 [01:21<33:01,  6.33s/it]"
     ]
    },
    {
     "name": "stdout",
     "output_type": "stream",
     "text": [
      "💾 Saved chunk 11 with 10 samples\n",
      "Processing srb_passport_34.jpg: 2 words detected\n",
      "Processing img_07566.png: 12 words detected\n",
      "Processing img_07671.png: 1 words detected\n",
      "Processing img_07801.png: 3 words detected\n",
      "Processing img_08855.png: 7 words detected\n",
      "Processing img_06913.png: 10 words detected\n",
      "Processing img_08204.png: 9 words detected\n",
      "Processing img_06958.png: 7 words detected\n",
      "Processing svk_id_38.jpg: 24 words detected\n",
      "Processing img_07185.png: 8 words detected\n",
      "💾 Saved chunk 12 with 10 samples\n"
     ]
    },
    {
     "name": "stderr",
     "output_type": "stream",
     "text": [
      "\r",
      "Processing batches:   4%|██                                                  | 13/325 [01:29<34:24,  6.62s/it]"
     ]
    },
    {
     "name": "stdout",
     "output_type": "stream",
     "text": [
      "Processing img_08527.png: 10 words detected\n",
      "Processing srb_passport_56.jpg: 39 words detected\n",
      "Processing est_id_68.jpg: 1 words detected\n",
      "Processing img_08457.png: 4 words detected\n",
      "Processing img_07913.png: 12 words detected\n",
      "Processing img_07879.png: 8 words detected\n",
      "Processing img_06768.png: 7 words detected\n",
      "Processing est_id_37.jpg: 8 words detected\n",
      "Processing img_06822.png: 16 words detected\n",
      "Processing rus_internalpassport_41.jpg: 10 words detected\n",
      "💾 Saved chunk 13 with 10 samples\n"
     ]
    },
    {
     "name": "stderr",
     "output_type": "stream",
     "text": [
      "\r",
      "Processing batches:   4%|██▏                                                 | 14/325 [01:35<34:45,  6.71s/it]"
     ]
    },
    {
     "name": "stdout",
     "output_type": "stream",
     "text": [
      "Processing img_08060.png: 14 words detected\n",
      "Processing img_06902.png: 7 words detected\n",
      "Processing img_07781.png: 7 words detected\n",
      "Processing fin_id_55.jpg: 18 words detected\n",
      "Processing img_08621.png: 10 words detected\n",
      "Processing img_08120.png: 6 words detected\n",
      "Processing img_07294.png: 8 words detected\n",
      "Processing img_08590.png: 12 words detected\n",
      "Processing img_07706.png: 4 words detected\n",
      "Processing img_06491.png: 6 words detected\n",
      "Processed 150/3244 samples. GPU memory: 0.57GB\n",
      "💾 Saved chunk 14 with 10 samples\n"
     ]
    },
    {
     "name": "stderr",
     "output_type": "stream",
     "text": [
      "\r",
      "Processing batches:   5%|██▍                                                 | 15/325 [01:41<32:54,  6.37s/it]"
     ]
    },
    {
     "name": "stdout",
     "output_type": "stream",
     "text": [
      "Processing img_08320.png: 9 words detected\n",
      "Processing img_08687.png: 18 words detected\n",
      "Processing img_08005.png: 14 words detected\n",
      "Processing img_07390.png: 7 words detected\n",
      "Processing img_08318.png: 15 words detected\n",
      "Processing img_08074.png: 6 words detected\n",
      "Processing img_08611.png: 15 words detected\n",
      "Processing img_08844.png: 5 words detected\n",
      "Processing img_08334.png: 9 words detected\n",
      "Processing img_06916.png: 2 words detected\n",
      "💾 Saved chunk 15 with 10 samples\n"
     ]
    },
    {
     "name": "stderr",
     "output_type": "stream",
     "text": [
      "\r",
      "Processing batches:   5%|██▌                                                 | 16/325 [01:47<31:32,  6.13s/it]"
     ]
    },
    {
     "name": "stdout",
     "output_type": "stream",
     "text": [
      "Processing img_07946.png: 7 words detected\n",
      "Processing lva_passport_79.jpg: 23 words detected\n",
      "Processing img_06685.png: 15 words detected\n",
      "Processing img_08477.png: 10 words detected\n",
      "Processing img_06791.png: 7 words detected\n",
      "Processing img_06807.png: 7 words detected\n",
      "Processing img_08370.png: 10 words detected\n",
      "Processing grc_passport_89.jpg: 2 words detected\n",
      "Processing img_07056.png: 10 words detected\n",
      "Processing fin_id_36.jpg: 4 words detected\n",
      "💾 Saved chunk 16 with 10 samples\n"
     ]
    },
    {
     "name": "stderr",
     "output_type": "stream",
     "text": [
      "\r",
      "Processing batches:   5%|██▋                                                 | 17/325 [01:54<33:18,  6.49s/it]"
     ]
    },
    {
     "name": "stdout",
     "output_type": "stream",
     "text": [
      "Processing img_06839.png: 11 words detected\n",
      "Processing img_08290.png: 19 words detected\n",
      "Processing img_08433.png: 14 words detected\n",
      "Processing img_06567.png: 6 words detected\n",
      "Processing img_06789.png: 16 words detected\n",
      "Processing img_07034.png: 4 words detected\n",
      "Processing img_08128.png: 11 words detected\n",
      "Processing img_08171.png: 10 words detected\n",
      "Processing img_07545.png: 14 words detected\n",
      "Processing img_06496.png: 7 words detected\n",
      "💾 Saved chunk 17 with 10 samples\n"
     ]
    },
    {
     "name": "stderr",
     "output_type": "stream",
     "text": [
      "\r",
      "Processing batches:   6%|██▉                                                 | 18/325 [02:01<34:15,  6.69s/it]"
     ]
    },
    {
     "name": "stdout",
     "output_type": "stream",
     "text": [
      "Processing srb_passport_43.jpg: 18 words detected\n",
      "Processing img_07101.png: 13 words detected\n",
      "Processing img_07748.png: 4 words detected\n",
      "Processing svk_id_70.jpg: 15 words detected\n",
      "Processing img_07114.png: 16 words detected\n",
      "Processing img_07064.png: 11 words detected\n",
      "Processing est_id_59.jpg: 11 words detected\n",
      "Processing img_08915.png: 7 words detected\n",
      "Processing img_07776.png: 14 words detected\n",
      "Processing img_08270.png: 3 words detected\n"
     ]
    },
    {
     "name": "stderr",
     "output_type": "stream",
     "text": [
      "\r",
      "Processing batches:   6%|███                                                 | 19/325 [02:08<33:41,  6.61s/it]"
     ]
    },
    {
     "name": "stdout",
     "output_type": "stream",
     "text": [
      "💾 Saved chunk 18 with 10 samples\n",
      "Processing img_08377.png: 17 words detected\n",
      "Processing img_08720.png: 6 words detected\n",
      "Processing img_07729.png: 7 words detected\n",
      "Processing srb_passport_26.jpg: 24 words detected\n",
      "Processing rus_internalpassport_13.jpg: 9 words detected\n",
      "Processing img_06857.png: 12 words detected\n",
      "Processing img_08492.png: 14 words detected\n",
      "Processing img_07451.png: 9 words detected\n",
      "Processing img_07228.png: 20 words detected\n",
      "Processing img_08699.png: 27 words detected\n",
      "Processed 200/3244 samples. GPU memory: 0.57GB\n",
      "💾 Saved chunk 19 with 10 samples\n"
     ]
    },
    {
     "name": "stderr",
     "output_type": "stream",
     "text": [
      "\r",
      "Processing batches:   6%|███▏                                                | 20/325 [02:15<34:17,  6.75s/it]"
     ]
    },
    {
     "name": "stdout",
     "output_type": "stream",
     "text": [
      "Processing img_08265.png: 11 words detected\n",
      "Processing img_07658.png: 12 words detected\n",
      "Processing img_08059.png: 11 words detected\n",
      "Processing img_07805.png: 1 words detected\n",
      "Processing rus_internalpassport_38.jpg: 8 words detected\n",
      "Processing grc_passport_01.jpg: 4 words detected\n",
      "Processing img_07683.png: 7 words detected\n",
      "Processing img_07438.png: 12 words detected\n",
      "Processing fin_id_91.jpg: 1 words detected\n",
      "Processing img_07207.png: 6 words detected\n",
      "💾 Saved chunk 20 with 10 samples\n"
     ]
    },
    {
     "name": "stderr",
     "output_type": "stream",
     "text": [
      "\r",
      "Processing batches:   6%|███▎                                                | 21/325 [02:21<33:21,  6.58s/it]"
     ]
    },
    {
     "name": "stdout",
     "output_type": "stream",
     "text": [
      "Processing img_08529.png: 9 words detected\n",
      "Processing img_07866.png: 15 words detected\n",
      "Processing img_06939.png: 26 words detected\n",
      "Processing img_07539.png: 10 words detected\n",
      "Processing img_06553.png: 5 words detected\n",
      "Processing img_07385.png: 5 words detected\n",
      "Processing img_07016.png: 9 words detected\n",
      "Processing img_06633.png: 17 words detected\n",
      "Processing lva_passport_10.jpg: 13 words detected\n",
      "Processing img_08228.png: 11 words detected\n",
      "💾 Saved chunk 21 with 10 samples\n"
     ]
    },
    {
     "name": "stderr",
     "output_type": "stream",
     "text": [
      "\r",
      "Processing batches:   7%|███▌                                                | 22/325 [02:27<32:42,  6.48s/it]"
     ]
    },
    {
     "name": "stdout",
     "output_type": "stream",
     "text": [
      "Processing img_08398.png: 9 words detected\n",
      "Processing img_08653.png: 7 words detected\n",
      "Processing img_07690.png: 6 words detected\n",
      "Processing img_06868.png: 16 words detected\n",
      "Processing img_08331.png: 1 words detected\n",
      "Processing img_08631.png: 10 words detected\n",
      "Processing img_08897.png: 7 words detected\n",
      "Processing img_07144.png: 10 words detected\n",
      "Processing img_08779.png: 3 words detected\n",
      "Processing img_08551.png: 6 words detected\n",
      "💾 Saved chunk 22 with 10 samples\n"
     ]
    },
    {
     "name": "stderr",
     "output_type": "stream",
     "text": [
      "\r",
      "Processing batches:   7%|███▋                                                | 23/325 [02:34<33:06,  6.58s/it]"
     ]
    },
    {
     "name": "stdout",
     "output_type": "stream",
     "text": [
      "Processing img_08011.png: 6 words detected\n",
      "Processing img_08793.png: 10 words detected\n",
      "Processing img_08895.png: 6 words detected\n",
      "Processing img_07339.png: 10 words detected\n",
      "Processing srb_passport_97.jpg: 33 words detected\n",
      "Processing img_08952.png: 13 words detected\n",
      "Processing img_07778.png: 4 words detected\n",
      "Processing img_07981.png: 18 words detected\n",
      "Processing img_08421.png: 4 words detected\n",
      "Processing lva_passport_56.jpg: 39 words detected\n",
      "💾 Saved chunk 23 with 10 samples\n"
     ]
    },
    {
     "name": "stderr",
     "output_type": "stream",
     "text": [
      "\r",
      "Processing batches:   7%|███▊                                                | 24/325 [02:41<33:53,  6.75s/it]"
     ]
    },
    {
     "name": "stdout",
     "output_type": "stream",
     "text": [
      "Processing img_08423.png: 9 words detected\n",
      "Processing img_08969.png: 6 words detected\n",
      "Processing img_08627.png: 7 words detected\n",
      "Processing img_07753.png: 6 words detected\n",
      "Processing img_06585.png: 6 words detected\n",
      "Processing img_07691.png: 9 words detected\n",
      "Processing img_08122.png: 8 words detected\n",
      "Processing lva_passport_31.jpg: 39 words detected\n",
      "Processing img_08572.png: 5 words detected\n",
      "Processing img_08314.png: 10 words detected\n",
      "Processed 250/3244 samples. GPU memory: 0.57GB\n",
      "💾 Saved chunk 24 with 10 samples\n"
     ]
    },
    {
     "name": "stderr",
     "output_type": "stream",
     "text": [
      "\r",
      "Processing batches:   8%|████                                                | 25/325 [02:48<33:22,  6.67s/it]"
     ]
    },
    {
     "name": "stdout",
     "output_type": "stream",
     "text": [
      "Processing img_08922.png: 7 words detected\n",
      "Processing img_08213.png: 4 words detected\n",
      "Processing img_06949.png: 9 words detected\n",
      "Processing img_08680.png: 10 words detected\n",
      "Processing img_06500.png: 11 words detected\n",
      "Processing img_07299.png: 8 words detected\n",
      "Processing img_06523.png: 5 words detected\n",
      "Processing lva_passport_98.jpg: 42 words detected\n",
      "Processing img_08761.png: 4 words detected\n",
      "Processing img_08880.png: 8 words detected\n",
      "💾 Saved chunk 25 with 10 samples\n"
     ]
    },
    {
     "name": "stderr",
     "output_type": "stream",
     "text": [
      "\r",
      "Processing batches:   8%|████▏                                               | 26/325 [02:54<33:06,  6.64s/it]"
     ]
    },
    {
     "name": "stdout",
     "output_type": "stream",
     "text": [
      "Processing img_07575.png: 3 words detected\n",
      "Processing img_08131.png: 8 words detected\n",
      "Processing img_06834.png: 11 words detected\n",
      "Processing img_07626.png: 13 words detected\n",
      "Processing est_id_64.jpg: 12 words detected\n",
      "Processing img_06694.png: 5 words detected\n",
      "Processing img_08518.png: 27 words detected\n",
      "Processing img_07146.png: 1 words detected\n",
      "Processing img_06874.png: 4 words detected\n",
      "Processing img_07048.png: 9 words detected\n",
      "💾 Saved chunk 26 with 10 samples\n"
     ]
    },
    {
     "name": "stderr",
     "output_type": "stream",
     "text": [
      "\r",
      "Processing batches:   8%|████▎                                               | 27/325 [03:00<32:09,  6.48s/it]"
     ]
    },
    {
     "name": "stdout",
     "output_type": "stream",
     "text": [
      "Processing img_07560.png: 19 words detected\n",
      "Processing img_08703.png: 7 words detected\n",
      "Processing rus_internalpassport_17.jpg: 7 words detected\n",
      "Processing grc_passport_95.jpg: 21 words detected\n",
      "Processing img_07098.png: 1 words detected\n",
      "Processing img_06623.png: 13 words detected\n",
      "Processing img_08986.png: 2 words detected\n",
      "Processing img_07272.png: 11 words detected\n",
      "Processing rus_internalpassport_07.jpg: 6 words detected\n",
      "Processing img_08835.png: 19 words detected\n",
      "💾 Saved chunk 27 with 10 samples\n"
     ]
    },
    {
     "name": "stderr",
     "output_type": "stream",
     "text": [
      "\r",
      "Processing batches:   9%|████▍                                               | 28/325 [03:08<34:43,  7.01s/it]"
     ]
    },
    {
     "name": "stdout",
     "output_type": "stream",
     "text": [
      "Processing img_06953.png: 6 words detected\n",
      "Processing img_08453.png: 4 words detected\n",
      "Processing img_08040.png: 8 words detected\n",
      "Processing img_07453.png: 10 words detected\n",
      "Processing img_08796.png: 2 words detected\n",
      "Processing img_07173.png: 3 words detected\n",
      "Processing img_06976.png: 10 words detected\n",
      "Processing img_06714.png: 6 words detected\n",
      "Processing img_08750.png: 10 words detected\n",
      "Processing img_07191.png: 9 words detected\n",
      "💾 Saved chunk 28 with 10 samples\n"
     ]
    },
    {
     "name": "stderr",
     "output_type": "stream",
     "text": [
      "\r",
      "Processing batches:   9%|████▋                                               | 29/325 [03:14<32:44,  6.64s/it]"
     ]
    },
    {
     "name": "stdout",
     "output_type": "stream",
     "text": [
      "Processing img_06840.png: 3 words detected\n",
      "Processing img_07875.png: 21 words detected\n",
      "Processing img_07421.png: 5 words detected\n",
      "Processing lva_passport_90.jpg: 45 words detected\n",
      "Processing img_07989.png: 13 words detected\n",
      "Processing img_07914.png: 12 words detected\n",
      "Processing img_07255.png: 9 words detected\n",
      "Processing img_07908.png: 21 words detected\n",
      "Processing img_06971.png: 20 words detected\n",
      "Processing est_id_49.jpg: 3 words detected\n",
      "Processed 300/3244 samples. GPU memory: 0.57GB\n",
      "💾 Saved chunk 29 with 10 samples\n"
     ]
    },
    {
     "name": "stderr",
     "output_type": "stream",
     "text": [
      "\r",
      "Processing batches:   9%|████▊                                               | 30/325 [03:21<33:09,  6.75s/it]"
     ]
    },
    {
     "name": "stdout",
     "output_type": "stream",
     "text": [
      "Processing img_08933.png: 8 words detected\n",
      "Processing img_07768.png: 10 words detected\n",
      "Processing img_08445.png: 8 words detected\n",
      "Processing img_08983.png: 3 words detected\n",
      "Processing img_07640.png: 27 words detected\n",
      "Processing srb_passport_39.jpg: 32 words detected\n",
      "Processing img_08651.png: 3 words detected\n",
      "Processing img_08736.png: 7 words detected\n",
      "Processing img_07536.png: 11 words detected\n",
      "Processing img_07570.png: 16 words detected\n",
      "💾 Saved chunk 30 with 10 samples\n"
     ]
    },
    {
     "name": "stderr",
     "output_type": "stream",
     "text": [
      "\r",
      "Processing batches:  10%|████▉                                               | 31/325 [03:29<34:04,  6.95s/it]"
     ]
    },
    {
     "name": "stdout",
     "output_type": "stream",
     "text": [
      "Processing est_id_21.jpg: 9 words detected\n",
      "Processing img_08837.png: 10 words detected\n",
      "Processing img_06509.png: 5 words detected\n",
      "Processing img_08479.png: 1 words detected\n",
      "Processing grc_passport_19.jpg: 23 words detected\n",
      "Processing img_07467.png: 7 words detected\n",
      "Processing img_07885.png: 7 words detected\n",
      "Processing srb_passport_00.jpg: 20 words detected\n",
      "Processing img_06591.png: 23 words detected\n",
      "Processing img_08468.png: 2 words detected\n",
      "💾 Saved chunk 31 with 10 samples\n"
     ]
    },
    {
     "name": "stderr",
     "output_type": "stream",
     "text": [
      "\r",
      "Processing batches:  10%|█████                                               | 32/325 [03:36<34:08,  6.99s/it]"
     ]
    },
    {
     "name": "stdout",
     "output_type": "stream",
     "text": [
      "Processing grc_passport_57.jpg: 29 words detected\n",
      "Processing img_06560.png: 21 words detected\n",
      "Processing img_08849.png: 4 words detected\n",
      "Processing img_06701.png: 1 words detected\n",
      "Processing img_08875.png: 5 words detected\n",
      "Processing img_07954.png: 6 words detected\n",
      "Processing img_07600.png: 2 words detected\n",
      "Processing img_09008.png: 1 words detected\n",
      "Processing img_07104.png: 13 words detected\n",
      "Processing img_08099.png: 4 words detected\n",
      "💾 Saved chunk 32 with 10 samples\n"
     ]
    },
    {
     "name": "stderr",
     "output_type": "stream",
     "text": [
      "\r",
      "Processing batches:  10%|█████▎                                              | 33/325 [03:44<35:32,  7.30s/it]"
     ]
    },
    {
     "name": "stdout",
     "output_type": "stream",
     "text": [
      "Processing img_06733.png: 5 words detected\n",
      "Processing lva_passport_13.jpg: 40 words detected\n",
      "Processing img_06480.png: 11 words detected\n",
      "Processing img_08826.png: 1 words detected\n",
      "Processing img_08208.png: 3 words detected\n",
      "Processing lva_passport_95.jpg: 46 words detected\n",
      "Processing img_08025.png: 3 words detected\n",
      "Processing img_06942.png: 13 words detected\n",
      "Processing img_06617.png: 22 words detected\n",
      "Processing img_08975.png: 12 words detected\n",
      "💾 Saved chunk 33 with 10 samples\n"
     ]
    },
    {
     "name": "stderr",
     "output_type": "stream",
     "text": [
      "\r",
      "Processing batches:  10%|█████▍                                              | 34/325 [03:51<35:25,  7.31s/it]"
     ]
    },
    {
     "name": "stdout",
     "output_type": "stream",
     "text": [
      "Processing lva_passport_57.jpg: 18 words detected\n",
      "Processing img_08608.png: 10 words detected\n",
      "Processing img_08945.png: 11 words detected\n",
      "Processing img_06693.png: 4 words detected\n",
      "Processing grc_passport_16.jpg: 21 words detected\n",
      "Processing fin_id_01.jpg: 1 words detected\n",
      "Processing img_06706.png: 16 words detected\n",
      "Processing img_08554.png: 5 words detected\n",
      "Processing img_08526.png: 6 words detected\n",
      "Processing fin_id_65.jpg: 11 words detected\n",
      "Processed 350/3244 samples. GPU memory: 0.57GB\n",
      "💾 Saved chunk 34 with 10 samples\n"
     ]
    },
    {
     "name": "stderr",
     "output_type": "stream",
     "text": [
      "\r",
      "Processing batches:  11%|█████▌                                              | 35/325 [03:58<34:46,  7.19s/it]"
     ]
    },
    {
     "name": "stdout",
     "output_type": "stream",
     "text": [
      "Processing img_08031.png: 26 words detected\n",
      "Processing img_08655.png: 8 words detected\n",
      "Processing img_06615.png: 5 words detected\n",
      "Processing fin_id_68.jpg: 11 words detected\n",
      "Processing img_08093.png: 14 words detected\n",
      "Processing img_08154.png: 9 words detected\n",
      "Processing img_06486.png: 11 words detected\n",
      "Processing img_07482.png: 5 words detected\n",
      "Processing img_06972.png: 9 words detected\n",
      "Processing img_07445.png: 19 words detected\n",
      "💾 Saved chunk 35 with 10 samples\n"
     ]
    },
    {
     "name": "stderr",
     "output_type": "stream",
     "text": [
      "\r",
      "Processing batches:  11%|█████▊                                              | 36/325 [04:05<34:54,  7.25s/it]"
     ]
    },
    {
     "name": "stdout",
     "output_type": "stream",
     "text": [
      "Processing img_08032.png: 8 words detected\n",
      "Processing img_06646.png: 7 words detected\n",
      "Processing img_07111.png: 8 words detected\n",
      "Processing img_07663.png: 4 words detected\n",
      "Processing img_06707.png: 9 words detected\n",
      "Processing est_id_56.jpg: 2 words detected\n",
      "Processing img_08902.png: 12 words detected\n",
      "Processing img_08878.png: 9 words detected\n",
      "Processing img_08912.png: 9 words detected\n",
      "Processing srb_passport_04.jpg: 34 words detected\n",
      "💾 Saved chunk 36 with 10 samples\n"
     ]
    },
    {
     "name": "stderr",
     "output_type": "stream",
     "text": [
      "\r",
      "Processing batches:  11%|█████▉                                              | 37/325 [04:13<35:32,  7.40s/it]"
     ]
    },
    {
     "name": "stdout",
     "output_type": "stream",
     "text": [
      "Processing img_07926.png: 6 words detected\n",
      "Processing img_07515.png: 7 words detected\n",
      "Processing img_06674.png: 11 words detected\n",
      "Processing img_07552.png: 6 words detected\n",
      "Processing lva_passport_40.jpg: 42 words detected\n",
      "Processing grc_passport_07.jpg: 35 words detected\n",
      "Processing img_08096.png: 18 words detected\n",
      "Processing est_id_42.jpg: 9 words detected\n",
      "Processing img_08620.png: 11 words detected\n",
      "Processing img_06982.png: 7 words detected\n"
     ]
    },
    {
     "name": "stderr",
     "output_type": "stream",
     "text": [
      "\r",
      "Processing batches:  12%|██████                                              | 38/325 [04:20<35:18,  7.38s/it]"
     ]
    },
    {
     "name": "stdout",
     "output_type": "stream",
     "text": [
      "💾 Saved chunk 37 with 10 samples\n",
      "Processing img_07391.png: 13 words detected\n",
      "Processing img_08803.png: 9 words detected\n",
      "Processing img_07305.png: 5 words detected\n",
      "Processing img_08920.png: 13 words detected\n",
      "Processing img_08515.png: 2 words detected\n",
      "Processing img_08919.png: 4 words detected\n",
      "Processing img_08753.png: 5 words detected\n",
      "Processing img_07000.png: 9 words detected\n",
      "Processing img_08251.png: 4 words detected\n",
      "Processing lva_passport_17.jpg: 34 words detected\n",
      "💾 Saved chunk 38 with 10 samples\n"
     ]
    },
    {
     "name": "stderr",
     "output_type": "stream",
     "text": [
      "\r",
      "Processing batches:  12%|██████▏                                             | 39/325 [04:27<33:57,  7.12s/it]"
     ]
    },
    {
     "name": "stdout",
     "output_type": "stream",
     "text": [
      "Processing img_07825.png: 8 words detected\n",
      "Processing img_07015.png: 7 words detected\n",
      "Processing img_07389.png: 6 words detected\n",
      "Processing img_06544.png: 2 words detected\n",
      "Processing img_08215.png: 19 words detected\n",
      "Processing fin_id_87.jpg: 1 words detected\n",
      "Processing img_06908.png: 6 words detected\n",
      "Processing img_07209.png: 2 words detected\n",
      "Processing img_07230.png: 6 words detected\n",
      "Processing img_06580.png: 8 words detected\n",
      "Processed 400/3244 samples. GPU memory: 0.57GB\n"
     ]
    },
    {
     "name": "stderr",
     "output_type": "stream",
     "text": [
      "\r",
      "Processing batches:  12%|██████▍                                             | 40/325 [04:33<32:33,  6.85s/it]"
     ]
    },
    {
     "name": "stdout",
     "output_type": "stream",
     "text": [
      "💾 Saved chunk 39 with 10 samples\n",
      "Processing img_07877.png: 38 words detected\n",
      "Processing srb_passport_03.jpg: 24 words detected\n",
      "Processing img_06758.png: 4 words detected\n",
      "Processing img_07699.png: 10 words detected\n",
      "Processing img_06530.png: 9 words detected\n",
      "Processing img_06750.png: 7 words detected\n",
      "Processing img_08513.png: 1 words detected\n",
      "Processing img_07547.png: 7 words detected\n",
      "Processing img_07759.png: 1 words detected\n",
      "Processing img_07005.png: 10 words detected\n",
      "💾 Saved chunk 40 with 10 samples\n"
     ]
    },
    {
     "name": "stderr",
     "output_type": "stream",
     "text": [
      "\r",
      "Processing batches:  13%|██████▌                                             | 41/325 [04:40<32:12,  6.80s/it]"
     ]
    },
    {
     "name": "stdout",
     "output_type": "stream",
     "text": [
      "Processing img_08385.png: 15 words detected\n",
      "Processing img_07686.png: 20 words detected\n",
      "Processing img_07141.png: 7 words detected\n",
      "Processing img_07328.png: 9 words detected\n",
      "Processing img_06691.png: 5 words detected\n",
      "Processing svk_id_67.jpg: 32 words detected\n",
      "Processing img_07160.png: 5 words detected\n",
      "Processing grc_passport_99.jpg: 16 words detected\n",
      "Processing img_08943.png: 20 words detected\n",
      "Processing img_07558.png: 2 words detected\n",
      "💾 Saved chunk 41 with 10 samples\n"
     ]
    },
    {
     "name": "stderr",
     "output_type": "stream",
     "text": [
      "\r",
      "Processing batches:  13%|██████▋                                             | 42/325 [04:48<34:11,  7.25s/it]"
     ]
    },
    {
     "name": "stdout",
     "output_type": "stream",
     "text": [
      "Processing img_07592.png: 16 words detected\n",
      "Processing img_07357.png: 17 words detected\n",
      "Processing srb_passport_36.jpg: 16 words detected\n",
      "Processing img_08125.png: 16 words detected\n",
      "Processing grc_passport_63.jpg: 31 words detected\n",
      "Processing img_07772.png: 9 words detected\n",
      "Processing img_07316.png: 6 words detected\n",
      "Processing img_07591.png: 17 words detected\n",
      "Processing img_07273.png: 4 words detected\n",
      "Processing img_08916.png: 10 words detected\n",
      "💾 Saved chunk 42 with 10 samples\n"
     ]
    },
    {
     "name": "stderr",
     "output_type": "stream",
     "text": [
      "\r",
      "Processing batches:  13%|██████▉                                             | 43/325 [04:55<33:16,  7.08s/it]"
     ]
    },
    {
     "name": "stdout",
     "output_type": "stream",
     "text": [
      "Processing img_08460.png: 5 words detected\n",
      "Processing img_07164.png: 12 words detected\n",
      "Processing img_08650.png: 2 words detected\n",
      "Processing img_06827.png: 13 words detected\n",
      "Processing rus_internalpassport_81.jpg: 9 words detected\n",
      "Processing img_07147.png: 12 words detected\n",
      "Processing srb_passport_62.jpg: 3 words detected\n",
      "Processing img_07701.png: 7 words detected\n",
      "Processing img_06977.png: 10 words detected\n",
      "Processing img_08476.png: 1 words detected\n"
     ]
    },
    {
     "name": "stderr",
     "output_type": "stream",
     "text": [
      "\r",
      "Processing batches:  14%|███████                                             | 44/325 [05:02<32:46,  7.00s/it]"
     ]
    },
    {
     "name": "stdout",
     "output_type": "stream",
     "text": [
      "💾 Saved chunk 43 with 10 samples\n",
      "Processing img_06621.png: 1 words detected\n",
      "Processing img_08755.png: 7 words detected\n",
      "Processing img_07157.png: 5 words detected\n",
      "Processing lva_passport_83.jpg: 35 words detected\n",
      "Processing img_07813.png: 8 words detected\n",
      "Processing est_id_57.jpg: 2 words detected\n",
      "Processing img_06872.png: 5 words detected\n",
      "Processing rus_internalpassport_40.jpg: 11 words detected\n",
      "Processing img_07682.png: 5 words detected\n",
      "Processing img_08998.png: 3 words detected\n",
      "Processed 450/3244 samples. GPU memory: 0.57GB\n",
      "💾 Saved chunk 44 with 10 samples\n"
     ]
    },
    {
     "name": "stderr",
     "output_type": "stream",
     "text": [
      "\r",
      "Processing batches:  14%|███████▏                                            | 45/325 [05:09<32:36,  6.99s/it]"
     ]
    },
    {
     "name": "stdout",
     "output_type": "stream",
     "text": [
      "Processing img_06946.png: 9 words detected\n",
      "Processing img_07506.png: 26 words detected\n",
      "Processing srb_passport_17.jpg: 15 words detected\n",
      "Processing img_06800.png: 2 words detected\n",
      "Processing srb_passport_58.jpg: 6 words detected\n",
      "Processing img_07281.png: 6 words detected\n",
      "Processing img_06680.png: 18 words detected\n",
      "Processing img_07755.png: 32 words detected\n",
      "Processing img_06984.png: 5 words detected\n",
      "Processing img_07465.png: 4 words detected\n"
     ]
    },
    {
     "name": "stderr",
     "output_type": "stream",
     "text": [
      "\r",
      "Processing batches:  14%|███████▎                                            | 46/325 [05:16<33:23,  7.18s/it]"
     ]
    },
    {
     "name": "stdout",
     "output_type": "stream",
     "text": [
      "💾 Saved chunk 45 with 10 samples\n",
      "Processing fin_id_88.jpg: 20 words detected\n",
      "Processing img_07670.png: 12 words detected\n",
      "Processing fin_id_78.jpg: 12 words detected\n",
      "Processing img_06894.png: 10 words detected\n",
      "Processing img_07718.png: 5 words detected\n",
      "Processing img_06910.png: 7 words detected\n",
      "Processing img_08942.png: 15 words detected\n",
      "Processing grc_passport_24.jpg: 36 words detected\n",
      "Processing lva_passport_38.jpg: 40 words detected\n",
      "Processing img_07324.png: 6 words detected\n"
     ]
    },
    {
     "name": "stderr",
     "output_type": "stream",
     "text": [
      "\r",
      "Processing batches:  14%|███████▌                                            | 47/325 [05:26<36:11,  7.81s/it]"
     ]
    },
    {
     "name": "stdout",
     "output_type": "stream",
     "text": [
      "💾 Saved chunk 46 with 10 samples\n",
      "Processing img_06662.png: 4 words detected\n",
      "Processing img_08317.png: 16 words detected\n",
      "Processing img_08511.png: 9 words detected\n",
      "Processing img_06963.png: 9 words detected\n",
      "Processing img_08097.png: 1 words detected\n",
      "Processing img_06688.png: 6 words detected\n",
      "Processing fin_id_04.jpg: 17 words detected\n",
      "Processing img_08143.png: 23 words detected\n",
      "Processing img_08907.png: 4 words detected\n",
      "Processing img_06906.png: 7 words detected\n",
      "💾 Saved chunk 47 with 10 samples\n"
     ]
    },
    {
     "name": "stderr",
     "output_type": "stream",
     "text": [
      "\r",
      "Processing batches:  15%|███████▋                                            | 48/325 [05:33<35:03,  7.59s/it]"
     ]
    },
    {
     "name": "stdout",
     "output_type": "stream",
     "text": [
      "Processing img_07603.png: 15 words detected\n",
      "Processing img_08405.png: 12 words detected\n",
      "Processing img_08293.png: 10 words detected\n",
      "Processing img_08344.png: 15 words detected\n",
      "Processing img_06870.png: 9 words detected\n",
      "Processing img_08838.png: 7 words detected\n",
      "Processing est_id_94.jpg: 3 words detected\n",
      "Processing grc_passport_68.jpg: 25 words detected\n",
      "Processing img_06524.png: 16 words detected\n",
      "Processing img_07306.png: 4 words detected\n",
      "💾 Saved chunk 48 with 10 samples\n"
     ]
    },
    {
     "name": "stderr",
     "output_type": "stream",
     "text": [
      "\r",
      "Processing batches:  15%|███████▊                                            | 49/325 [05:40<34:02,  7.40s/it]"
     ]
    },
    {
     "name": "stdout",
     "output_type": "stream",
     "text": [
      "Processing img_07117.png: 6 words detected\n",
      "Processing img_07858.png: 11 words detected\n",
      "Processing est_id_36.jpg: 9 words detected\n",
      "Processing img_08958.png: 9 words detected\n",
      "Processing img_07939.png: 3 words detected\n",
      "Processing srb_passport_76.jpg: 37 words detected\n",
      "Processing svk_id_28.jpg: 10 words detected\n",
      "Processing img_07026.png: 11 words detected\n",
      "Processing img_07216.png: 12 words detected\n",
      "Processing img_08996.png: 21 words detected\n",
      "Processed 500/3244 samples. GPU memory: 0.57GB\n",
      "💾 Saved chunk 49 with 10 samples\n"
     ]
    },
    {
     "name": "stderr",
     "output_type": "stream",
     "text": [
      "\r",
      "Processing batches:  15%|████████                                            | 50/325 [05:47<33:28,  7.30s/it]"
     ]
    },
    {
     "name": "stdout",
     "output_type": "stream",
     "text": [
      "Processing img_06760.png: 8 words detected\n",
      "Processing img_08412.png: 11 words detected\n",
      "Processing svk_id_74.jpg: 7 words detected\n",
      "Processing img_08935.png: 24 words detected\n",
      "Processing img_08115.png: 3 words detected\n",
      "Processing svk_id_14.jpg: 27 words detected\n",
      "Processing img_08536.png: 6 words detected\n",
      "Processing img_06472.png: 16 words detected\n",
      "Processing img_07766.png: 17 words detected\n",
      "Processing img_08058.png: 4 words detected\n",
      "💾 Saved chunk 50 with 10 samples\n"
     ]
    },
    {
     "name": "stderr",
     "output_type": "stream",
     "text": [
      "\r",
      "Processing batches:  16%|████████▏                                           | 51/325 [05:54<33:57,  7.44s/it]"
     ]
    },
    {
     "name": "stdout",
     "output_type": "stream",
     "text": [
      "Processing img_07816.png: 7 words detected\n",
      "Processing img_06742.png: 12 words detected\n",
      "Processing img_06777.png: 7 words detected\n",
      "Processing img_06635.png: 7 words detected\n",
      "Processing img_08021.png: 12 words detected\n",
      "Processing img_08545.png: 2 words detected\n",
      "Processing img_07807.png: 14 words detected\n",
      "Processing img_08976.png: 9 words detected\n",
      "Processing img_08137.png: 1 words detected\n",
      "Processing img_07617.png: 3 words detected\n",
      "💾 Saved chunk 51 with 10 samples\n"
     ]
    },
    {
     "name": "stderr",
     "output_type": "stream",
     "text": [
      "\r",
      "Processing batches:  16%|████████▎                                           | 52/325 [06:00<31:17,  6.88s/it]"
     ]
    },
    {
     "name": "stdout",
     "output_type": "stream",
     "text": [
      "Processing img_08742.png: 6 words detected\n",
      "Processing img_08879.png: 7 words detected\n",
      "Processing est_id_92.jpg: 6 words detected\n",
      "Processing img_08772.png: 2 words detected\n",
      "Processing svk_id_53.jpg: 22 words detected\n",
      "Processing img_08073.png: 5 words detected\n",
      "Processing img_06655.png: 5 words detected\n",
      "Processing grc_passport_48.jpg: 31 words detected\n",
      "Processing svk_id_73.jpg: 15 words detected\n",
      "Processing rus_internalpassport_02.jpg: 9 words detected\n",
      "💾 Saved chunk 52 with 10 samples\n"
     ]
    },
    {
     "name": "stderr",
     "output_type": "stream",
     "text": [
      "\r",
      "Processing batches:  16%|████████▍                                           | 53/325 [06:07<31:18,  6.91s/it]"
     ]
    },
    {
     "name": "stdout",
     "output_type": "stream",
     "text": [
      "Processing img_06677.png: 4 words detected\n",
      "Processing img_08395.png: 14 words detected\n",
      "Processing img_08016.png: 10 words detected\n",
      "Processing img_06610.png: 1 words detected\n",
      "Processing grc_passport_66.jpg: 30 words detected\n",
      "Processing est_id_95.jpg: 10 words detected\n",
      "Processing img_08255.png: 7 words detected\n",
      "Processing img_08308.png: 1 words detected\n",
      "Processing img_06797.png: 6 words detected\n",
      "Processing img_06737.png: 8 words detected\n"
     ]
    },
    {
     "name": "stderr",
     "output_type": "stream",
     "text": [
      "\r",
      "Processing batches:  17%|████████▋                                           | 54/325 [06:14<30:47,  6.82s/it]"
     ]
    },
    {
     "name": "stdout",
     "output_type": "stream",
     "text": [
      "💾 Saved chunk 53 with 10 samples\n",
      "Processing img_07176.png: 5 words detected\n",
      "Processing img_08698.png: 8 words detected\n",
      "Processing img_08078.png: 19 words detected\n",
      "Processing img_08382.png: 2 words detected\n",
      "Processing fin_id_26.jpg: 1 words detected\n",
      "Processing img_08383.png: 2 words detected\n",
      "Processing img_08427.png: 5 words detected\n",
      "Processing img_08548.png: 7 words detected\n",
      "Processing img_08237.png: 3 words detected\n",
      "Processing svk_id_87.jpg: 11 words detected\n",
      "Processed 550/3244 samples. GPU memory: 0.57GB\n"
     ]
    },
    {
     "name": "stderr",
     "output_type": "stream",
     "text": [
      "\r",
      "Processing batches:  17%|████████▊                                           | 55/325 [06:20<30:10,  6.70s/it]"
     ]
    },
    {
     "name": "stdout",
     "output_type": "stream",
     "text": [
      "💾 Saved chunk 54 with 10 samples\n",
      "Processing img_06811.png: 8 words detected\n",
      "Processing img_07998.png: 4 words detected\n",
      "Processing img_08900.png: 18 words detected\n",
      "Processing img_06704.png: 5 words detected\n",
      "Processing img_08990.png: 4 words detected\n",
      "Processing img_08570.png: 9 words detected\n",
      "Processing img_08269.png: 15 words detected\n",
      "Processing img_08259.png: 17 words detected\n",
      "Processing img_06713.png: 3 words detected\n",
      "Processing lva_passport_67.jpg: 28 words detected\n"
     ]
    },
    {
     "name": "stderr",
     "output_type": "stream",
     "text": [
      "\r",
      "Processing batches:  17%|████████▉                                           | 56/325 [06:28<31:44,  7.08s/it]"
     ]
    },
    {
     "name": "stdout",
     "output_type": "stream",
     "text": [
      "💾 Saved chunk 55 with 10 samples\n",
      "Processing grc_passport_45.jpg: 27 words detected\n",
      "Processing img_07829.png: 19 words detected\n",
      "Processing img_08994.png: 8 words detected\n",
      "Processing img_07062.png: 22 words detected\n",
      "Processing img_06625.png: 9 words detected\n",
      "Processing rus_internalpassport_59.jpg: 9 words detected\n",
      "Processing img_08502.png: 7 words detected\n",
      "Processing img_08274.png: 9 words detected\n",
      "Processing img_07290.png: 7 words detected\n",
      "Processing img_06556.png: 7 words detected\n"
     ]
    },
    {
     "name": "stderr",
     "output_type": "stream",
     "text": [
      "\r",
      "Processing batches:  18%|█████████                                           | 57/325 [06:35<31:22,  7.02s/it]"
     ]
    },
    {
     "name": "stdout",
     "output_type": "stream",
     "text": [
      "💾 Saved chunk 56 with 10 samples\n",
      "Processing img_08743.png: 10 words detected\n",
      "Processing img_06921.png: 13 words detected\n",
      "Processing svk_id_04.jpg: 9 words detected\n",
      "Processing img_07187.png: 4 words detected\n",
      "Processing img_08467.png: 12 words detected\n",
      "Processing img_07108.png: 8 words detected\n",
      "Processing img_08380.png: 10 words detected\n",
      "Processing rus_internalpassport_50.jpg: 10 words detected\n",
      "Processing est_id_91.jpg: 13 words detected\n",
      "Processing img_07856.png: 11 words detected\n",
      "💾 Saved chunk 57 with 10 samples\n"
     ]
    },
    {
     "name": "stderr",
     "output_type": "stream",
     "text": [
      "\r",
      "Processing batches:  18%|█████████▎                                          | 58/325 [06:42<32:03,  7.20s/it]"
     ]
    },
    {
     "name": "stdout",
     "output_type": "stream",
     "text": [
      "Processing img_08483.png: 2 words detected\n",
      "Processing srb_passport_35.jpg: 30 words detected\n",
      "Processing img_08413.png: 5 words detected\n",
      "Processing img_06720.png: 3 words detected\n",
      "Processing img_07526.png: 8 words detected\n",
      "Processing img_07959.png: 8 words detected\n",
      "Processing img_07855.png: 11 words detected\n",
      "Processing fin_id_83.jpg: 2 words detected\n",
      "Processing fin_id_62.jpg: 10 words detected\n",
      "Processing img_07345.png: 2 words detected\n",
      "💾 Saved chunk 58 with 10 samples\n"
     ]
    },
    {
     "name": "stderr",
     "output_type": "stream",
     "text": [
      "\r",
      "Processing batches:  18%|█████████▍                                          | 59/325 [06:49<31:06,  7.02s/it]"
     ]
    },
    {
     "name": "stdout",
     "output_type": "stream",
     "text": [
      "Processing est_id_16.jpg: 2 words detected\n",
      "Processing svk_id_86.jpg: 31 words detected\n",
      "Processing img_07534.png: 9 words detected\n",
      "Processing img_08822.png: 5 words detected\n",
      "Processing img_09017.png: 11 words detected\n",
      "Processing est_id_69.jpg: 13 words detected\n",
      "Processing img_08454.png: 6 words detected\n",
      "Processing img_07190.png: 12 words detected\n",
      "Processing img_06770.png: 10 words detected\n",
      "Processing img_07869.png: 11 words detected\n",
      "Processed 600/3244 samples. GPU memory: 0.57GB\n",
      "💾 Saved chunk 59 with 10 samples\n"
     ]
    },
    {
     "name": "stderr",
     "output_type": "stream",
     "text": [
      "\r",
      "Processing batches:  18%|█████████▌                                          | 60/325 [06:56<30:57,  7.01s/it]"
     ]
    },
    {
     "name": "stdout",
     "output_type": "stream",
     "text": [
      "Processing img_08813.png: 5 words detected\n",
      "Processing img_08391.png: 2 words detected\n",
      "Processing img_06508.png: 8 words detected\n",
      "Processing img_07268.png: 8 words detected\n",
      "Processing img_07148.png: 9 words detected\n",
      "Processing img_06501.png: 8 words detected\n",
      "Processing img_06603.png: 4 words detected\n",
      "Processing img_07439.png: 7 words detected\n",
      "Processing lva_passport_52.jpg: 43 words detected\n",
      "Processing img_07090.png: 2 words detected\n"
     ]
    },
    {
     "name": "stderr",
     "output_type": "stream",
     "text": [
      "\r",
      "Processing batches:  19%|█████████▊                                          | 61/325 [07:03<31:20,  7.12s/it]"
     ]
    },
    {
     "name": "stdout",
     "output_type": "stream",
     "text": [
      "💾 Saved chunk 60 with 10 samples\n",
      "Processing svk_id_75.jpg: 4 words detected\n",
      "Processing img_08253.png: 7 words detected\n",
      "Processing rus_internalpassport_79.jpg: 5 words detected\n",
      "Processing lva_passport_64.jpg: 36 words detected\n",
      "Processing img_08799.png: 4 words detected\n",
      "Processing img_07723.png: 8 words detected\n",
      "Processing img_07531.png: 5 words detected\n",
      "Processing img_08144.png: 10 words detected\n",
      "Processing srb_passport_42.jpg: 37 words detected\n",
      "Processing svk_id_17.jpg: 10 words detected\n",
      "💾 Saved chunk 61 with 10 samples\n"
     ]
    },
    {
     "name": "stderr",
     "output_type": "stream",
     "text": [
      "\r",
      "Processing batches:  19%|█████████▉                                          | 62/325 [07:11<31:35,  7.21s/it]"
     ]
    },
    {
     "name": "stdout",
     "output_type": "stream",
     "text": [
      "Processing img_06669.png: 3 words detected\n",
      "Processing lva_passport_43.jpg: 24 words detected\n",
      "Processing img_07459.png: 5 words detected\n",
      "Processing img_06772.png: 8 words detected\n",
      "Processing img_07130.png: 15 words detected\n",
      "Processing fin_id_47.jpg: 9 words detected\n",
      "Processing img_06478.png: 19 words detected\n",
      "Processing img_08426.png: 8 words detected\n",
      "Processing img_07863.png: 5 words detected\n",
      "Processing img_07291.png: 21 words detected\n"
     ]
    },
    {
     "name": "stderr",
     "output_type": "stream",
     "text": [
      "\r",
      "Processing batches:  19%|██████████                                          | 63/325 [07:18<31:06,  7.12s/it]"
     ]
    },
    {
     "name": "stdout",
     "output_type": "stream",
     "text": [
      "💾 Saved chunk 62 with 10 samples\n",
      "Processing img_08244.png: 8 words detected\n",
      "Processing img_08959.png: 13 words detected\n",
      "Processing img_08885.png: 21 words detected\n",
      "Processing lva_passport_02.jpg: 40 words detected\n",
      "Processing img_08549.png: 13 words detected\n",
      "Processing img_07844.png: 12 words detected\n",
      "Processing img_07330.png: 8 words detected\n",
      "Processing img_08123.png: 22 words detected\n",
      "Processing img_07827.png: 9 words detected\n",
      "Processing svk_id_84.jpg: 33 words detected\n",
      "💾 Saved chunk 63 with 10 samples\n"
     ]
    },
    {
     "name": "stderr",
     "output_type": "stream",
     "text": [
      "\r",
      "Processing batches:  20%|██████████▏                                         | 64/325 [07:25<30:52,  7.10s/it]"
     ]
    },
    {
     "name": "stdout",
     "output_type": "stream",
     "text": [
      "Processing srb_passport_75.jpg: 25 words detected\n",
      "Processing est_id_99.jpg: 1 words detected\n",
      "Processing grc_passport_49.jpg: 26 words detected\n",
      "Processing img_07437.png: 18 words detected\n",
      "Processing img_06699.png: 11 words detected\n",
      "Processing img_07966.png: 11 words detected\n",
      "Processing grc_passport_80.jpg: 27 words detected\n",
      "Processing lva_passport_14.jpg: 32 words detected\n",
      "Processing est_id_54.jpg: 9 words detected\n",
      "Processing img_07456.png: 8 words detected\n",
      "Processed 650/3244 samples. GPU memory: 0.57GB\n",
      "💾 Saved chunk 64 with 10 samples\n"
     ]
    },
    {
     "name": "stderr",
     "output_type": "stream",
     "text": [
      "\r",
      "Processing batches:  20%|██████████▍                                         | 65/325 [07:35<34:10,  7.89s/it]"
     ]
    },
    {
     "name": "stdout",
     "output_type": "stream",
     "text": [
      "Processing img_07270.png: 9 words detected\n",
      "Processing fin_id_31.jpg: 17 words detected\n",
      "Processing srb_passport_67.jpg: 22 words detected\n",
      "Processing rus_internalpassport_84.jpg: 10 words detected\n",
      "Processing img_08262.png: 14 words detected\n",
      "Processing img_07815.png: 1 words detected\n",
      "Processing img_07782.png: 11 words detected\n",
      "Processing img_06882.png: 23 words detected\n",
      "Processing img_06495.png: 7 words detected\n",
      "Processing img_07218.png: 6 words detected\n",
      "💾 Saved chunk 65 with 10 samples\n"
     ]
    },
    {
     "name": "stderr",
     "output_type": "stream",
     "text": [
      "\r",
      "Processing batches:  20%|██████████▌                                         | 66/325 [07:41<32:37,  7.56s/it]"
     ]
    },
    {
     "name": "stdout",
     "output_type": "stream",
     "text": [
      "Processing rus_internalpassport_77.jpg: 10 words detected\n",
      "Processing img_08704.png: 13 words detected\n",
      "Processing grc_passport_11.jpg: 30 words detected\n",
      "Processing img_07106.png: 4 words detected\n",
      "Processing img_08132.png: 3 words detected\n",
      "Processing img_08861.png: 1 words detected\n",
      "Processing est_id_82.jpg: 1 words detected\n",
      "Processing img_07110.png: 3 words detected\n",
      "Processing img_06898.png: 10 words detected\n",
      "Processing img_08509.png: 9 words detected\n",
      "💾 Saved chunk 66 with 10 samples\n"
     ]
    },
    {
     "name": "stderr",
     "output_type": "stream",
     "text": [
      "\r",
      "Processing batches:  21%|██████████▋                                         | 67/325 [07:48<31:29,  7.32s/it]"
     ]
    },
    {
     "name": "stdout",
     "output_type": "stream",
     "text": [
      "Processing img_07428.png: 4 words detected\n",
      "Processing img_07153.png: 1 words detected\n",
      "Processing svk_id_16.jpg: 25 words detected\n",
      "Processing img_07993.png: 1 words detected\n",
      "Processing img_07721.png: 10 words detected\n",
      "Processing lva_passport_49.jpg: 41 words detected\n",
      "Processing lva_passport_29.jpg: 31 words detected\n",
      "Processing img_07017.png: 13 words detected\n",
      "Processing img_06537.png: 7 words detected\n",
      "Processing img_07987.png: 1 words detected\n"
     ]
    },
    {
     "name": "stderr",
     "output_type": "stream",
     "text": [
      "\r",
      "Processing batches:  21%|██████████▉                                         | 68/325 [07:56<31:40,  7.40s/it]"
     ]
    },
    {
     "name": "stdout",
     "output_type": "stream",
     "text": [
      "💾 Saved chunk 67 with 10 samples\n",
      "Processing img_08105.png: 12 words detected\n",
      "Processing img_08414.png: 13 words detected\n",
      "Processing img_06995.png: 6 words detected\n",
      "Processing img_08957.png: 7 words detected\n",
      "Processing rus_internalpassport_92.jpg: 9 words detected\n",
      "Processing img_07580.png: 8 words detected\n",
      "Processing img_07917.png: 10 words detected\n",
      "Processing rus_internalpassport_90.jpg: 7 words detected\n",
      "Processing img_06983.png: 22 words detected\n",
      "Processing img_08221.png: 16 words detected\n",
      "💾 Saved chunk 68 with 10 samples\n"
     ]
    },
    {
     "name": "stderr",
     "output_type": "stream",
     "text": [
      "\r",
      "Processing batches:  21%|███████████                                         | 69/325 [08:03<30:59,  7.26s/it]"
     ]
    },
    {
     "name": "stdout",
     "output_type": "stream",
     "text": [
      "Processing img_07811.png: 9 words detected\n",
      "Processing img_08202.png: 18 words detected\n",
      "Processing img_07800.png: 13 words detected\n",
      "Processing img_08583.png: 5 words detected\n",
      "Processing img_07726.png: 12 words detected\n",
      "Processing img_06667.png: 3 words detected\n",
      "Processing srb_passport_50.jpg: 20 words detected\n",
      "Processing img_07544.png: 12 words detected\n",
      "Processing img_07713.png: 9 words detected\n",
      "Processing img_07422.png: 11 words detected\n",
      "Processed 700/3244 samples. GPU memory: 0.57GB\n",
      "💾 Saved chunk 69 with 10 samples\n"
     ]
    },
    {
     "name": "stderr",
     "output_type": "stream",
     "text": [
      "\r",
      "Processing batches:  22%|███████████▏                                        | 70/325 [08:11<32:04,  7.55s/it]"
     ]
    },
    {
     "name": "stdout",
     "output_type": "stream",
     "text": [
      "Processing img_08134.png: 4 words detected\n",
      "Processing img_08444.png: 7 words detected\n",
      "Processing img_07616.png: 7 words detected\n",
      "Processing img_07162.png: 8 words detected\n",
      "Processing img_07393.png: 5 words detected\n",
      "Processing img_08371.png: 7 words detected\n",
      "Processing img_08351.png: 3 words detected\n",
      "Processing img_08721.png: 17 words detected\n",
      "Processing img_09005.png: 13 words detected\n",
      "Processing img_06736.png: 6 words detected\n",
      "💾 Saved chunk 70 with 10 samples\n"
     ]
    },
    {
     "name": "stderr",
     "output_type": "stream",
     "text": [
      "\r",
      "Processing batches:  22%|███████████▎                                        | 71/325 [08:17<30:25,  7.19s/it]"
     ]
    },
    {
     "name": "stdout",
     "output_type": "stream",
     "text": [
      "Processing img_06899.png: 13 words detected\n",
      "Processing img_08482.png: 11 words detected\n",
      "Processing img_08461.png: 14 words detected\n",
      "Processing img_08728.png: 11 words detected\n",
      "Processing est_id_74.jpg: 2 words detected\n",
      "Processing img_08921.png: 3 words detected\n",
      "Processing img_08124.png: 6 words detected\n",
      "Processing img_07503.png: 7 words detected\n",
      "Processing img_08101.png: 7 words detected\n",
      "Processing img_07461.png: 8 words detected\n"
     ]
    },
    {
     "name": "stderr",
     "output_type": "stream",
     "text": [
      "\r",
      "Processing batches:  22%|███████████▌                                        | 72/325 [08:24<29:18,  6.95s/it]"
     ]
    },
    {
     "name": "stdout",
     "output_type": "stream",
     "text": [
      "💾 Saved chunk 71 with 10 samples\n",
      "Processing img_07634.png: 2 words detected\n",
      "Processing img_06483.png: 7 words detected\n",
      "Processing img_06947.png: 19 words detected\n",
      "Processing img_08027.png: 6 words detected\n",
      "Processing rus_internalpassport_66.jpg: 6 words detected\n",
      "Processing img_08730.png: 16 words detected\n",
      "Processing img_07868.png: 3 words detected\n",
      "Processing img_07780.png: 20 words detected\n",
      "Processing grc_passport_56.jpg: 2 words detected\n",
      "Processing img_07401.png: 18 words detected\n"
     ]
    },
    {
     "name": "stderr",
     "output_type": "stream",
     "text": [
      "\r",
      "Processing batches:  22%|███████████▋                                        | 73/325 [08:31<30:20,  7.23s/it]"
     ]
    },
    {
     "name": "stdout",
     "output_type": "stream",
     "text": [
      "💾 Saved chunk 72 with 10 samples\n",
      "Processing img_07746.png: 3 words detected\n",
      "Processing img_08883.png: 7 words detected\n",
      "Processing img_08944.png: 9 words detected\n",
      "Processing lva_passport_53.jpg: 40 words detected\n",
      "Processing img_08384.png: 15 words detected\n",
      "Processing fin_id_11.jpg: 18 words detected\n",
      "Processing img_08981.png: 19 words detected\n",
      "Processing grc_passport_38.jpg: 29 words detected\n",
      "Processing img_06705.png: 19 words detected\n",
      "Processing img_07239.png: 14 words detected\n"
     ]
    },
    {
     "name": "stderr",
     "output_type": "stream",
     "text": [
      "\r",
      "Processing batches:  23%|███████████▊                                        | 74/325 [08:41<33:29,  8.01s/it]"
     ]
    },
    {
     "name": "stdout",
     "output_type": "stream",
     "text": [
      "💾 Saved chunk 73 with 10 samples\n",
      "Processing img_07372.png: 8 words detected\n",
      "Processing img_07557.png: 6 words detected\n",
      "Processing img_07935.png: 6 words detected\n",
      "Processing img_08774.png: 7 words detected\n",
      "Processing img_07760.png: 3 words detected\n",
      "Processing grc_passport_62.jpg: 26 words detected\n",
      "Processing img_07970.png: 12 words detected\n",
      "Processing img_07900.png: 12 words detected\n",
      "Processing srb_passport_16.jpg: 22 words detected\n",
      "Processing img_06563.png: 3 words detected\n",
      "Processed 750/3244 samples. GPU memory: 0.57GB\n",
      "💾 Saved chunk 74 with 10 samples\n"
     ]
    },
    {
     "name": "stderr",
     "output_type": "stream",
     "text": [
      "\r",
      "Processing batches:  23%|████████████                                        | 75/325 [08:48<32:02,  7.69s/it]"
     ]
    },
    {
     "name": "stdout",
     "output_type": "stream",
     "text": [
      "Processing grc_passport_44.jpg: 25 words detected\n",
      "Processing img_06575.png: 4 words detected\n",
      "Processing img_06930.png: 8 words detected\n",
      "Processing img_08446.png: 8 words detected\n",
      "Processing img_09003.png: 8 words detected\n",
      "Processing img_08455.png: 8 words detected\n",
      "Processing img_07590.png: 12 words detected\n",
      "Processing img_07735.png: 10 words detected\n",
      "Processing img_07736.png: 11 words detected\n",
      "Processing img_07094.png: 17 words detected\n",
      "💾 Saved chunk 75 with 10 samples\n"
     ]
    },
    {
     "name": "stderr",
     "output_type": "stream",
     "text": [
      "\r",
      "Processing batches:  23%|████████████▏                                       | 76/325 [08:55<30:13,  7.28s/it]"
     ]
    },
    {
     "name": "stdout",
     "output_type": "stream",
     "text": [
      "Processing img_08018.png: 8 words detected\n",
      "Processing img_07893.png: 3 words detected\n",
      "Processing img_07323.png: 3 words detected\n",
      "Processing est_id_45.jpg: 13 words detected\n",
      "Processing img_07470.png: 12 words detected\n",
      "Processing img_07820.png: 6 words detected\n",
      "Processing img_08569.png: 7 words detected\n",
      "Processing img_06965.png: 7 words detected\n",
      "Processing grc_passport_17.jpg: 28 words detected\n",
      "Processing lva_passport_87.jpg: 16 words detected\n"
     ]
    },
    {
     "name": "stderr",
     "output_type": "stream",
     "text": [
      "\r",
      "Processing batches:  24%|████████████▎                                       | 77/325 [09:01<29:28,  7.13s/it]"
     ]
    },
    {
     "name": "stdout",
     "output_type": "stream",
     "text": [
      "💾 Saved chunk 76 with 10 samples\n",
      "Processing rus_internalpassport_06.jpg: 8 words detected\n",
      "Processing img_07744.png: 6 words detected\n",
      "Processing rus_internalpassport_54.jpg: 7 words detected\n",
      "Processing img_08800.png: 10 words detected\n",
      "Processing img_06929.png: 7 words detected\n",
      "Processing img_08531.png: 2 words detected\n",
      "Processing img_08374.png: 1 words detected\n",
      "Processing img_07089.png: 8 words detected\n",
      "Processing img_08394.png: 11 words detected\n",
      "Processing img_07770.png: 15 words detected\n"
     ]
    },
    {
     "name": "stderr",
     "output_type": "stream",
     "text": [
      "\r",
      "Processing batches:  24%|████████████▍                                       | 78/325 [09:08<28:19,  6.88s/it]"
     ]
    },
    {
     "name": "stdout",
     "output_type": "stream",
     "text": [
      "💾 Saved chunk 77 with 10 samples\n",
      "Processing img_08735.png: 8 words detected\n",
      "Processing img_06609.png: 7 words detected\n",
      "Processing est_id_60.jpg: 9 words detected\n",
      "Processing svk_id_39.jpg: 15 words detected\n",
      "Processing srb_passport_89.jpg: 23 words detected\n",
      "Processing img_07001.png: 7 words detected\n",
      "Processing img_08503.png: 18 words detected\n",
      "Processing img_08722.png: 10 words detected\n",
      "Processing rus_internalpassport_04.jpg: 5 words detected\n",
      "Processing img_08610.png: 11 words detected\n"
     ]
    },
    {
     "name": "stderr",
     "output_type": "stream",
     "text": [
      "\r",
      "Processing batches:  24%|████████████▋                                       | 79/325 [09:16<30:33,  7.45s/it]"
     ]
    },
    {
     "name": "stdout",
     "output_type": "stream",
     "text": [
      "💾 Saved chunk 78 with 10 samples\n",
      "Processing img_08330.png: 5 words detected\n",
      "Processing img_06978.png: 10 words detected\n",
      "Processing img_07109.png: 17 words detected\n",
      "Processing img_08677.png: 15 words detected\n",
      "Processing img_08425.png: 15 words detected\n",
      "Processing img_08874.png: 2 words detected\n",
      "Processing img_07645.png: 14 words detected\n",
      "Processing img_06513.png: 7 words detected\n",
      "Processing img_06595.png: 19 words detected\n",
      "Processing img_07696.png: 9 words detected\n",
      "Processed 800/3244 samples. GPU memory: 0.57GB\n",
      "💾 Saved chunk 79 with 10 samples\n"
     ]
    },
    {
     "name": "stderr",
     "output_type": "stream",
     "text": [
      "\r",
      "Processing batches:  25%|████████████▊                                       | 80/325 [09:23<28:51,  7.07s/it]"
     ]
    },
    {
     "name": "stdout",
     "output_type": "stream",
     "text": [
      "Processing srb_passport_85.jpg: 8 words detected\n",
      "Processing img_06678.png: 8 words detected\n",
      "Processing img_08434.png: 14 words detected\n",
      "Processing svk_id_10.jpg: 28 words detected\n",
      "Processing rus_internalpassport_72.jpg: 10 words detected\n",
      "Processing img_08609.png: 29 words detected\n",
      "Processing img_06475.png: 8 words detected\n",
      "Processing svk_id_96.jpg: 33 words detected\n",
      "Processing img_07441.png: 4 words detected\n",
      "Processing img_08514.png: 13 words detected\n",
      "💾 Saved chunk 80 with 10 samples\n"
     ]
    },
    {
     "name": "stderr",
     "output_type": "stream",
     "text": [
      "\r",
      "Processing batches:  25%|████████████▉                                       | 81/325 [09:30<29:32,  7.27s/it]"
     ]
    },
    {
     "name": "stdout",
     "output_type": "stream",
     "text": [
      "Processing img_06484.png: 8 words detected\n",
      "Processing img_07415.png: 4 words detected\n",
      "Processing img_07318.png: 9 words detected\n",
      "Processing img_08865.png: 10 words detected\n",
      "Processing img_08140.png: 6 words detected\n",
      "Processing img_07821.png: 7 words detected\n",
      "Processing img_08517.png: 5 words detected\n",
      "Processing lva_passport_06.jpg: 45 words detected\n",
      "Processing img_06885.png: 6 words detected\n",
      "Processing img_07639.png: 8 words detected\n",
      "💾 Saved chunk 81 with 10 samples\n"
     ]
    },
    {
     "name": "stderr",
     "output_type": "stream",
     "text": [
      "\r",
      "Processing batches:  25%|█████████████                                       | 82/325 [09:37<28:29,  7.03s/it]"
     ]
    },
    {
     "name": "stdout",
     "output_type": "stream",
     "text": [
      "Processing svk_id_12.jpg: 28 words detected\n",
      "Processing img_07918.png: 3 words detected\n",
      "Processing svk_id_49.jpg: 25 words detected\n",
      "Processing img_06806.png: 7 words detected\n",
      "Processing img_06687.png: 16 words detected\n",
      "Processing svk_id_59.jpg: 30 words detected\n",
      "Processing img_08216.png: 5 words detected\n",
      "Processing img_06568.png: 14 words detected\n",
      "Processing img_07530.png: 7 words detected\n",
      "Processing img_07945.png: 12 words detected\n",
      "💾 Saved chunk 82 with 10 samples\n"
     ]
    },
    {
     "name": "stderr",
     "output_type": "stream",
     "text": [
      "\r",
      "Processing batches:  26%|█████████████▎                                      | 83/325 [09:44<29:07,  7.22s/it]"
     ]
    },
    {
     "name": "stdout",
     "output_type": "stream",
     "text": [
      "Processing img_06794.png: 7 words detected\n",
      "Processing img_08102.png: 6 words detected\n",
      "Processing svk_id_60.jpg: 5 words detected\n",
      "Processing srb_passport_32.jpg: 8 words detected\n",
      "Processing img_06895.png: 3 words detected\n",
      "Processing img_09011.png: 12 words detected\n",
      "Processing img_08988.png: 1 words detected\n",
      "Processing img_06854.png: 15 words detected\n",
      "Processing img_07373.png: 10 words detected\n",
      "Processing grc_passport_52.jpg: 32 words detected\n",
      "💾 Saved chunk 83 with 10 samples\n"
     ]
    },
    {
     "name": "stderr",
     "output_type": "stream",
     "text": [
      "\r",
      "Processing batches:  26%|█████████████▍                                      | 84/325 [09:52<29:43,  7.40s/it]"
     ]
    },
    {
     "name": "stdout",
     "output_type": "stream",
     "text": [
      "Processing img_08142.png: 5 words detected\n",
      "Processing img_08977.png: 17 words detected\n",
      "Processing img_08771.png: 5 words detected\n",
      "Processing img_08598.png: 7 words detected\n",
      "Processing img_07343.png: 11 words detected\n",
      "Processing img_08632.png: 4 words detected\n",
      "Processing img_08737.png: 5 words detected\n",
      "Processing grc_passport_15.jpg: 32 words detected\n",
      "Processing est_id_67.jpg: 14 words detected\n",
      "Processing img_08858.png: 4 words detected\n",
      "Processed 850/3244 samples. GPU memory: 0.57GB\n",
      "💾 Saved chunk 84 with 10 samples\n"
     ]
    },
    {
     "name": "stderr",
     "output_type": "stream",
     "text": [
      "\r",
      "Processing batches:  26%|█████████████▌                                      | 85/325 [09:59<28:10,  7.04s/it]"
     ]
    },
    {
     "name": "stdout",
     "output_type": "stream",
     "text": [
      "Processing img_08871.png: 16 words detected\n",
      "Processing img_08776.png: 15 words detected\n",
      "Processing img_06645.png: 9 words detected\n",
      "Processing lva_passport_24.jpg: 42 words detected\n",
      "Processing srb_passport_68.jpg: 29 words detected\n",
      "Processing img_08816.png: 8 words detected\n",
      "Processing img_07751.png: 13 words detected\n",
      "Processing img_07990.png: 10 words detected\n",
      "Processing rus_internalpassport_65.jpg: 1 words detected\n",
      "Processing svk_id_44.jpg: 19 words detected\n",
      "💾 Saved chunk 85 with 10 samples\n"
     ]
    },
    {
     "name": "stderr",
     "output_type": "stream",
     "text": [
      "\r",
      "Processing batches:  26%|█████████████▊                                      | 86/325 [10:07<29:30,  7.41s/it]"
     ]
    },
    {
     "name": "stdout",
     "output_type": "stream",
     "text": [
      "Processing img_06498.png: 9 words detected\n",
      "Processing img_08271.png: 21 words detected\n",
      "Processing img_07632.png: 4 words detected\n",
      "Processing img_07479.png: 2 words detected\n",
      "Processing img_07364.png: 11 words detected\n",
      "Processing img_06565.png: 8 words detected\n",
      "Processing img_08644.png: 23 words detected\n",
      "Processing srb_passport_19.jpg: 24 words detected\n",
      "Processing est_id_33.jpg: 8 words detected\n",
      "Processing img_08788.png: 5 words detected\n"
     ]
    },
    {
     "name": "stderr",
     "output_type": "stream",
     "text": [
      "\r",
      "Processing batches:  27%|█████████████▉                                      | 87/325 [10:14<29:27,  7.43s/it]"
     ]
    },
    {
     "name": "stdout",
     "output_type": "stream",
     "text": [
      "💾 Saved chunk 86 with 10 samples\n",
      "Processing grc_passport_27.jpg: 2 words detected\n",
      "Processing img_06476.png: 3 words detected\n",
      "Processing img_08574.png: 16 words detected\n",
      "Processing img_07834.png: 11 words detected\n",
      "Processing img_07171.png: 23 words detected\n",
      "Processing srb_passport_77.jpg: 37 words detected\n",
      "Processing img_08080.png: 15 words detected\n",
      "Processing img_09026.png: 10 words detected\n",
      "Processing img_07919.png: 7 words detected\n",
      "Processing img_07349.png: 18 words detected\n",
      "💾 Saved chunk 87 with 10 samples\n"
     ]
    },
    {
     "name": "stderr",
     "output_type": "stream",
     "text": [
      "\r",
      "Processing batches:  27%|██████████████                                      | 88/325 [10:24<32:01,  8.11s/it]"
     ]
    },
    {
     "name": "stdout",
     "output_type": "stream",
     "text": [
      "Processing img_07177.png: 3 words detected\n",
      "Processing img_08196.png: 7 words detected\n",
      "Processing img_08775.png: 1 words detected\n",
      "Processing img_06809.png: 14 words detected\n",
      "Processing img_06519.png: 6 words detected\n",
      "Processing lva_passport_12.jpg: 18 words detected\n",
      "Processing img_07810.png: 5 words detected\n",
      "Processing img_08918.png: 20 words detected\n",
      "Processing img_07205.png: 10 words detected\n",
      "Processing img_07200.png: 19 words detected\n"
     ]
    },
    {
     "name": "stderr",
     "output_type": "stream",
     "text": [
      "\r",
      "Processing batches:  27%|██████████████▏                                     | 89/325 [10:31<30:13,  7.68s/it]"
     ]
    },
    {
     "name": "stdout",
     "output_type": "stream",
     "text": [
      "💾 Saved chunk 88 with 10 samples\n",
      "Processing lva_passport_04.jpg: 16 words detected\n",
      "Processing img_08931.png: 5 words detected\n",
      "Processing img_08700.png: 6 words detected\n",
      "Processing img_07492.png: 2 words detected\n",
      "Processing srb_passport_69.jpg: 36 words detected\n",
      "Processing img_07446.png: 12 words detected\n",
      "Processing img_08046.png: 3 words detected\n",
      "Processing rus_internalpassport_98.jpg: 4 words detected\n",
      "Processing grc_passport_58.jpg: 29 words detected\n",
      "Processing img_07848.png: 4 words detected\n",
      "Processed 900/3244 samples. GPU memory: 0.57GB\n",
      "💾 Saved chunk 89 with 10 samples\n"
     ]
    },
    {
     "name": "stderr",
     "output_type": "stream",
     "text": [
      "\r",
      "Processing batches:  28%|██████████████▍                                     | 90/325 [10:38<29:18,  7.48s/it]"
     ]
    },
    {
     "name": "stdout",
     "output_type": "stream",
     "text": [
      "Processing img_07774.png: 11 words detected\n",
      "Processing img_09001.png: 12 words detected\n",
      "Processing rus_internalpassport_18.jpg: 7 words detected\n",
      "Processing est_id_12.jpg: 5 words detected\n",
      "Processing grc_passport_65.jpg: 25 words detected\n",
      "Processing svk_id_89.jpg: 33 words detected\n",
      "Processing img_07472.png: 10 words detected\n",
      "Processing img_08924.png: 7 words detected\n",
      "Processing img_08044.png: 8 words detected\n",
      "Processing img_07716.png: 9 words detected\n",
      "💾 Saved chunk 90 with 10 samples\n"
     ]
    },
    {
     "name": "stderr",
     "output_type": "stream",
     "text": [
      "\r",
      "Processing batches:  28%|██████████████▌                                     | 91/325 [10:45<28:43,  7.36s/it]"
     ]
    },
    {
     "name": "stdout",
     "output_type": "stream",
     "text": [
      "Processing img_07138.png: 28 words detected\n",
      "Processing img_08947.png: 24 words detected\n",
      "Processing img_08009.png: 8 words detected\n",
      "Processing lva_passport_91.jpg: 18 words detected\n",
      "Processing rus_internalpassport_74.jpg: 11 words detected\n",
      "Processing img_09018.png: 16 words detected\n",
      "Processing img_07749.png: 13 words detected\n",
      "Processing img_07128.png: 10 words detected\n",
      "Processing img_08130.png: 17 words detected\n",
      "Processing img_07727.png: 7 words detected\n",
      "💾 Saved chunk 91 with 10 samples\n"
     ]
    },
    {
     "name": "stderr",
     "output_type": "stream",
     "text": [
      "\r",
      "Processing batches:  28%|██████████████▋                                     | 92/325 [10:54<30:26,  7.84s/it]"
     ]
    },
    {
     "name": "stdout",
     "output_type": "stream",
     "text": [
      "Processing img_07883.png: 8 words detected\n",
      "Processing img_07983.png: 5 words detected\n",
      "Processing img_06487.png: 9 words detected\n",
      "Processing grc_passport_79.jpg: 32 words detected\n",
      "Processing lva_passport_54.jpg: 40 words detected\n",
      "Processing rus_internalpassport_62.jpg: 6 words detected\n",
      "Processing img_06492.png: 14 words detected\n",
      "Processing img_06542.png: 8 words detected\n",
      "Processing img_07025.png: 7 words detected\n",
      "Processing img_07366.png: 12 words detected\n",
      "💾 Saved chunk 92 with 10 samples\n"
     ]
    },
    {
     "name": "stderr",
     "output_type": "stream",
     "text": [
      "\r",
      "Processing batches:  29%|██████████████▉                                     | 93/325 [11:01<29:26,  7.62s/it]"
     ]
    },
    {
     "name": "stdout",
     "output_type": "stream",
     "text": [
      "Processing img_07369.png: 16 words detected\n",
      "Processing img_08997.png: 6 words detected\n",
      "Processing fin_id_42.jpg: 21 words detected\n",
      "Processing img_07139.png: 3 words detected\n",
      "Processing img_07033.png: 5 words detected\n",
      "Processing img_06612.png: 3 words detected\n",
      "Processing img_07041.png: 7 words detected\n",
      "Processing img_07622.png: 29 words detected\n",
      "Processing img_07937.png: 12 words detected\n",
      "Processing img_07011.png: 6 words detected\n",
      "💾 Saved chunk 93 with 10 samples\n"
     ]
    },
    {
     "name": "stderr",
     "output_type": "stream",
     "text": [
      "\r",
      "Processing batches:  29%|███████████████                                     | 94/325 [11:07<27:34,  7.16s/it]"
     ]
    },
    {
     "name": "stdout",
     "output_type": "stream",
     "text": [
      "Processing srb_passport_53.jpg: 20 words detected\n",
      "Processing srb_passport_27.jpg: 27 words detected\n",
      "Processing img_07522.png: 7 words detected\n",
      "Processing img_08842.png: 5 words detected\n",
      "Processing img_06663.png: 10 words detected\n",
      "Processing img_06754.png: 5 words detected\n",
      "Processing img_07602.png: 12 words detected\n",
      "Processing img_08759.png: 9 words detected\n",
      "Processing img_08594.png: 12 words detected\n",
      "Processing img_08866.png: 7 words detected\n",
      "Processed 950/3244 samples. GPU memory: 0.57GB\n"
     ]
    },
    {
     "name": "stderr",
     "output_type": "stream",
     "text": [
      "\r",
      "Processing batches:  29%|███████████████▏                                    | 95/325 [11:14<27:11,  7.09s/it]"
     ]
    },
    {
     "name": "stdout",
     "output_type": "stream",
     "text": [
      "💾 Saved chunk 94 with 10 samples\n",
      "Processing svk_id_08.jpg: 1 words detected\n",
      "Processing grc_passport_05.jpg: 33 words detected\n",
      "Processing img_07121.png: 13 words detected\n",
      "Processing img_07925.png: 4 words detected\n",
      "Processing img_08353.png: 18 words detected\n",
      "Processing fin_id_58.jpg: 1 words detected\n",
      "Processing img_08268.png: 7 words detected\n",
      "Processing img_08744.png: 2 words detected\n",
      "Processing est_id_46.jpg: 3 words detected\n",
      "Processing img_08543.png: 18 words detected\n",
      "💾 Saved chunk 95 with 10 samples\n"
     ]
    },
    {
     "name": "stderr",
     "output_type": "stream",
     "text": [
      "\r",
      "Processing batches:  30%|███████████████▎                                    | 96/325 [11:21<27:35,  7.23s/it]"
     ]
    },
    {
     "name": "stdout",
     "output_type": "stream",
     "text": [
      "Processing img_08474.png: 18 words detected\n",
      "Processing lva_passport_62.jpg: 37 words detected\n",
      "Processing img_07852.png: 3 words detected\n",
      "Processing img_08084.png: 6 words detected\n",
      "Processing svk_id_80.jpg: 4 words detected\n",
      "Processing img_07199.png: 6 words detected\n",
      "Processing img_07223.png: 12 words detected\n",
      "Processing img_07963.png: 13 words detected\n",
      "Processing img_08049.png: 19 words detected\n",
      "Processing img_08960.png: 6 words detected\n",
      "💾 Saved chunk 96 with 10 samples\n"
     ]
    },
    {
     "name": "stderr",
     "output_type": "stream",
     "text": [
      "\r",
      "Processing batches:  30%|███████████████▌                                    | 97/325 [11:30<28:49,  7.59s/it]"
     ]
    },
    {
     "name": "stdout",
     "output_type": "stream",
     "text": [
      "Processing img_07687.png: 6 words detected\n",
      "Processing img_06659.png: 9 words detected\n",
      "Processing img_07256.png: 9 words detected\n",
      "Processing img_08481.png: 13 words detected\n",
      "Processing svk_id_65.jpg: 10 words detected\n",
      "Processing img_07540.png: 6 words detected\n",
      "Processing grc_passport_26.jpg: 26 words detected\n",
      "Processing img_08007.png: 6 words detected\n",
      "Processing lva_passport_74.jpg: 21 words detected\n",
      "Processing img_06729.png: 7 words detected\n",
      "💾 Saved chunk 97 with 10 samples\n"
     ]
    },
    {
     "name": "stderr",
     "output_type": "stream",
     "text": [
      "\r",
      "Processing batches:  30%|███████████████▋                                    | 98/325 [11:37<27:49,  7.36s/it]"
     ]
    },
    {
     "name": "stdout",
     "output_type": "stream",
     "text": [
      "Processing img_08174.png: 1 words detected\n",
      "Processing img_07931.png: 10 words detected\n",
      "Processing img_06904.png: 12 words detected\n",
      "Processing img_07336.png: 16 words detected\n",
      "Processing img_08245.png: 6 words detected\n",
      "Processing img_08470.png: 10 words detected\n",
      "Processing img_06562.png: 4 words detected\n",
      "Processing img_08818.png: 19 words detected\n",
      "Processing img_06825.png: 4 words detected\n",
      "Processing img_08187.png: 11 words detected\n"
     ]
    },
    {
     "name": "stderr",
     "output_type": "stream",
     "text": [
      "\r",
      "Processing batches:  30%|███████████████▊                                    | 99/325 [11:43<26:58,  7.16s/it]"
     ]
    },
    {
     "name": "stdout",
     "output_type": "stream",
     "text": [
      "💾 Saved chunk 98 with 10 samples\n",
      "Processing img_06614.png: 8 words detected\n",
      "Processing svk_id_48.jpg: 12 words detected\n",
      "Processing img_08226.png: 6 words detected\n",
      "Processing img_07672.png: 8 words detected\n",
      "Processing srb_passport_99.jpg: 25 words detected\n",
      "Processing lva_passport_07.jpg: 20 words detected\n",
      "Processing img_08355.png: 24 words detected\n",
      "Processing est_id_17.jpg: 14 words detected\n",
      "Processing grc_passport_96.jpg: 4 words detected\n",
      "Processing img_07750.png: 4 words detected\n",
      "Processed 1000/3244 samples. GPU memory: 0.57GB\n",
      "💾 Saved chunk 99 with 10 samples\n"
     ]
    },
    {
     "name": "stderr",
     "output_type": "stream",
     "text": [
      "\r",
      "Processing batches:  31%|███████████████▋                                   | 100/325 [11:52<28:37,  7.63s/it]"
     ]
    },
    {
     "name": "stdout",
     "output_type": "stream",
     "text": [
      "Processing img_07609.png: 8 words detected\n",
      "Processing grc_passport_14.jpg: 1 words detected\n",
      "Processing rus_internalpassport_21.jpg: 9 words detected\n",
      "Processing img_08354.png: 6 words detected\n",
      "Processing img_07644.png: 6 words detected\n",
      "Processing img_09021.png: 8 words detected\n",
      "Processing svk_id_09.jpg: 28 words detected\n",
      "Processing grc_passport_71.jpg: 28 words detected\n",
      "Processing img_07654.png: 12 words detected\n",
      "Processing img_08321.png: 5 words detected\n",
      "💾 Saved chunk 100 with 10 samples\n"
     ]
    },
    {
     "name": "stderr",
     "output_type": "stream",
     "text": [
      "\r",
      "Processing batches:  31%|███████████████▊                                   | 101/325 [12:01<29:40,  7.95s/it]"
     ]
    },
    {
     "name": "stdout",
     "output_type": "stream",
     "text": [
      "Processing img_06996.png: 11 words detected\n",
      "Processing img_07396.png: 20 words detected\n",
      "Processing rus_internalpassport_09.jpg: 12 words detected\n",
      "Processing img_06731.png: 14 words detected\n",
      "Processing img_08428.png: 7 words detected\n",
      "Processing img_08283.png: 7 words detected\n",
      "Processing img_08808.png: 13 words detected\n",
      "Processing img_08387.png: 10 words detected\n",
      "Processing img_08828.png: 4 words detected\n",
      "Processing img_08008.png: 10 words detected\n",
      "💾 Saved chunk 101 with 10 samples\n"
     ]
    },
    {
     "name": "stderr",
     "output_type": "stream",
     "text": [
      "\r",
      "Processing batches:  31%|████████████████                                   | 102/325 [12:07<28:05,  7.56s/it]"
     ]
    },
    {
     "name": "stdout",
     "output_type": "stream",
     "text": [
      "Processing srb_passport_29.jpg: 26 words detected\n",
      "Processing img_07968.png: 11 words detected\n",
      "Processing img_06653.png: 6 words detected\n",
      "Processing img_06555.png: 24 words detected\n",
      "Processing img_08891.png: 4 words detected\n",
      "Processing img_08629.png: 3 words detected\n",
      "Processing grc_passport_33.jpg: 3 words detected\n",
      "Processing img_07286.png: 9 words detected\n",
      "Processing rus_internalpassport_96.jpg: 10 words detected\n",
      "Processing img_07068.png: 4 words detected\n",
      "💾 Saved chunk 102 with 10 samples\n"
     ]
    },
    {
     "name": "stderr",
     "output_type": "stream",
     "text": [
      "\r",
      "Processing batches:  32%|████████████████▏                                  | 103/325 [12:15<27:38,  7.47s/it]"
     ]
    },
    {
     "name": "stdout",
     "output_type": "stream",
     "text": [
      "Processing rus_internalpassport_52.jpg: 12 words detected\n",
      "Processing img_07936.png: 8 words detected\n",
      "Processing img_07697.png: 8 words detected\n",
      "Processing grc_passport_30.jpg: 2 words detected\n",
      "Processing img_07320.png: 11 words detected\n",
      "Processing img_07008.png: 6 words detected\n",
      "Processing img_06843.png: 10 words detected\n",
      "Processing img_08248.png: 4 words detected\n",
      "Processing img_08614.png: 6 words detected\n",
      "Processing img_07694.png: 12 words detected\n"
     ]
    },
    {
     "name": "stderr",
     "output_type": "stream",
     "text": [
      "\r",
      "Processing batches:  32%|████████████████▎                                  | 104/325 [12:22<27:24,  7.44s/it]"
     ]
    },
    {
     "name": "stdout",
     "output_type": "stream",
     "text": [
      "💾 Saved chunk 103 with 10 samples\n",
      "Processing img_06960.png: 13 words detected\n",
      "Processing img_07347.png: 10 words detected\n",
      "Processing img_07537.png: 5 words detected\n",
      "Processing img_08712.png: 6 words detected\n",
      "Processing img_06973.png: 9 words detected\n",
      "Processing rus_internalpassport_20.jpg: 8 words detected\n",
      "Processing grc_passport_46.jpg: 24 words detected\n",
      "Processing img_07338.png: 8 words detected\n",
      "Processing img_07023.png: 5 words detected\n",
      "Processing img_08273.png: 11 words detected\n",
      "Processed 1050/3244 samples. GPU memory: 0.57GB\n",
      "💾 Saved chunk 104 with 10 samples\n"
     ]
    },
    {
     "name": "stderr",
     "output_type": "stream",
     "text": [
      "\r",
      "Processing batches:  32%|████████████████▍                                  | 105/325 [12:30<27:21,  7.46s/it]"
     ]
    },
    {
     "name": "stdout",
     "output_type": "stream",
     "text": [
      "Processing srb_passport_48.jpg: 39 words detected\n",
      "Processing img_06778.png: 5 words detected\n",
      "Processing img_06826.png: 3 words detected\n",
      "Processing img_07525.png: 6 words detected\n",
      "Processing rus_internalpassport_80.jpg: 1 words detected\n",
      "Processing img_08478.png: 14 words detected\n",
      "Processing img_08873.png: 7 words detected\n",
      "Processing fin_id_10.jpg: 12 words detected\n",
      "Processing grc_passport_50.jpg: 25 words detected\n",
      "Processing img_06532.png: 22 words detected\n",
      "💾 Saved chunk 105 with 10 samples\n"
     ]
    },
    {
     "name": "stderr",
     "output_type": "stream",
     "text": [
      "\r",
      "Processing batches:  33%|████████████████▋                                  | 106/325 [12:38<28:35,  7.84s/it]"
     ]
    },
    {
     "name": "stdout",
     "output_type": "stream",
     "text": [
      "Processing img_06988.png: 8 words detected\n",
      "Processing img_07930.png: 8 words detected\n",
      "Processing img_06539.png: 4 words detected\n",
      "Processing est_id_31.jpg: 9 words detected\n",
      "Processing img_08854.png: 5 words detected\n",
      "Processing img_08965.png: 6 words detected\n",
      "Processing img_07193.png: 29 words detected\n",
      "Processing img_08591.png: 5 words detected\n",
      "Processing img_09000.png: 8 words detected\n",
      "Processing img_07155.png: 3 words detected\n",
      "💾 Saved chunk 106 with 10 samples\n"
     ]
    },
    {
     "name": "stderr",
     "output_type": "stream",
     "text": [
      "\r",
      "Processing batches:  33%|████████████████▊                                  | 107/325 [12:44<26:03,  7.17s/it]"
     ]
    },
    {
     "name": "stdout",
     "output_type": "stream",
     "text": [
      "Processing svk_id_54.jpg: 30 words detected\n",
      "Processing img_07956.png: 4 words detected\n",
      "Processing img_07313.png: 7 words detected\n",
      "Processing img_07237.png: 8 words detected\n",
      "Processing lva_passport_93.jpg: 45 words detected\n",
      "Processing img_08229.png: 9 words detected\n",
      "Processing svk_id_90.jpg: 35 words detected\n",
      "Processing img_06859.png: 7 words detected\n",
      "Processing img_08675.png: 5 words detected\n",
      "Processing img_08346.png: 5 words detected\n",
      "💾 Saved chunk 107 with 10 samples\n"
     ]
    },
    {
     "name": "stderr",
     "output_type": "stream",
     "text": [
      "\r",
      "Processing batches:  33%|████████████████▉                                  | 108/325 [12:51<25:35,  7.08s/it]"
     ]
    },
    {
     "name": "stdout",
     "output_type": "stream",
     "text": [
      "Processing srb_passport_84.jpg: 32 words detected\n",
      "Processing svk_id_64.jpg: 35 words detected\n",
      "Processing img_08205.png: 10 words detected\n",
      "Processing img_07477.png: 15 words detected\n",
      "Processing img_08373.png: 4 words detected\n",
      "Processing img_08889.png: 2 words detected\n",
      "Processing img_08664.png: 3 words detected\n",
      "Processing img_08203.png: 8 words detected\n",
      "Processing img_08535.png: 13 words detected\n",
      "Processing img_07212.png: 8 words detected\n"
     ]
    },
    {
     "name": "stderr",
     "output_type": "stream",
     "text": [
      "\r",
      "Processing batches:  34%|█████████████████                                  | 109/325 [12:58<26:03,  7.24s/it]"
     ]
    },
    {
     "name": "stdout",
     "output_type": "stream",
     "text": [
      "💾 Saved chunk 108 with 10 samples\n",
      "Processing srb_passport_91.jpg: 27 words detected\n",
      "Processing img_07408.png: 3 words detected\n",
      "Processing img_07431.png: 7 words detected\n",
      "Processing img_06853.png: 7 words detected\n",
      "Processing img_08845.png: 8 words detected\n",
      "Processing img_09027.png: 18 words detected\n",
      "Processing img_08183.png: 5 words detected\n",
      "Processing img_08603.png: 7 words detected\n",
      "Processing img_07843.png: 7 words detected\n",
      "Processing img_07950.png: 19 words detected\n",
      "Processed 1100/3244 samples. GPU memory: 0.57GB\n",
      "💾 Saved chunk 109 with 10 samples\n"
     ]
    },
    {
     "name": "stderr",
     "output_type": "stream",
     "text": [
      "\r",
      "Processing batches:  34%|█████████████████▎                                 | 110/325 [13:06<26:38,  7.43s/it]"
     ]
    },
    {
     "name": "stdout",
     "output_type": "stream",
     "text": [
      "Processing img_07702.png: 3 words detected\n",
      "Processing img_08055.png: 5 words detected\n",
      "Processing img_06515.png: 13 words detected\n",
      "Processing img_08431.png: 7 words detected\n",
      "Processing img_06529.png: 7 words detected\n",
      "Processing img_07376.png: 4 words detected\n",
      "Processing img_08567.png: 15 words detected\n",
      "Processing img_08063.png: 10 words detected\n",
      "Processing img_06873.png: 16 words detected\n",
      "Processing img_08784.png: 12 words detected\n",
      "💾 Saved chunk 110 with 10 samples\n"
     ]
    },
    {
     "name": "stderr",
     "output_type": "stream",
     "text": [
      "\r",
      "Processing batches:  34%|█████████████████▍                                 | 111/325 [13:12<25:04,  7.03s/it]"
     ]
    },
    {
     "name": "stdout",
     "output_type": "stream",
     "text": [
      "Processing img_08966.png: 4 words detected\n",
      "Processing img_07724.png: 8 words detected\n",
      "Processing img_07738.png: 16 words detected\n",
      "Processing img_07368.png: 11 words detected\n",
      "Processing fin_id_69.jpg: 12 words detected\n",
      "Processing svk_id_35.jpg: 27 words detected\n",
      "Processing img_07204.png: 2 words detected\n",
      "Processing img_08564.png: 10 words detected\n",
      "Processing img_08266.png: 17 words detected\n",
      "Processing img_06652.png: 9 words detected\n",
      "💾 Saved chunk 111 with 10 samples\n"
     ]
    },
    {
     "name": "stderr",
     "output_type": "stream",
     "text": [
      "\r",
      "Processing batches:  34%|█████████████████▌                                 | 112/325 [13:19<24:28,  6.89s/it]"
     ]
    },
    {
     "name": "stdout",
     "output_type": "stream",
     "text": [
      "Processing img_08436.png: 3 words detected\n",
      "Processing img_07085.png: 4 words detected\n",
      "Processing img_06992.png: 10 words detected\n",
      "Processing img_07752.png: 19 words detected\n",
      "Processing img_07689.png: 6 words detected\n",
      "Processing img_08522.png: 5 words detected\n",
      "Processing img_07876.png: 12 words detected\n",
      "Processing img_07417.png: 8 words detected\n",
      "Processing img_08676.png: 14 words detected\n",
      "Processing lva_passport_28.jpg: 42 words detected\n"
     ]
    },
    {
     "name": "stderr",
     "output_type": "stream",
     "text": [
      "\r",
      "Processing batches:  35%|█████████████████▋                                 | 113/325 [13:26<24:26,  6.92s/it]"
     ]
    },
    {
     "name": "stdout",
     "output_type": "stream",
     "text": [
      "💾 Saved chunk 112 with 10 samples\n",
      "Processing img_07452.png: 2 words detected\n",
      "Processing img_06557.png: 10 words detected\n",
      "Processing img_06985.png: 23 words detected\n",
      "Processing img_06819.png: 17 words detected\n",
      "Processing img_08982.png: 13 words detected\n",
      "Processing img_06521.png: 7 words detected\n",
      "Processing img_07677.png: 6 words detected\n",
      "Processing lva_passport_96.jpg: 43 words detected\n",
      "Processing img_08440.png: 6 words detected\n",
      "Processing img_08596.png: 5 words detected\n"
     ]
    },
    {
     "name": "stderr",
     "output_type": "stream",
     "text": [
      "\r",
      "Processing batches:  35%|█████████████████▉                                 | 114/325 [13:33<24:16,  6.90s/it]"
     ]
    },
    {
     "name": "stdout",
     "output_type": "stream",
     "text": [
      "💾 Saved chunk 113 with 10 samples\n",
      "Processing img_08469.png: 1 words detected\n",
      "Processing img_07184.png: 10 words detected\n",
      "Processing img_07493.png: 5 words detected\n",
      "Processing img_06673.png: 5 words detected\n",
      "Processing img_07637.png: 6 words detected\n",
      "Processing img_07533.png: 12 words detected\n",
      "Processing img_07742.png: 9 words detected\n",
      "Processing img_07794.png: 21 words detected\n",
      "Processing img_06833.png: 21 words detected\n",
      "Processing img_06817.png: 12 words detected\n",
      "Processed 1150/3244 samples. GPU memory: 0.57GB\n",
      "💾 Saved chunk 114 with 10 samples\n"
     ]
    },
    {
     "name": "stderr",
     "output_type": "stream",
     "text": [
      "\r",
      "Processing batches:  35%|██████████████████                                 | 115/325 [13:40<24:43,  7.06s/it]"
     ]
    },
    {
     "name": "stdout",
     "output_type": "stream",
     "text": [
      "Processing img_08528.png: 5 words detected\n",
      "Processing img_08407.png: 9 words detected\n",
      "Processing img_07099.png: 9 words detected\n",
      "Processing srb_passport_63.jpg: 35 words detected\n",
      "Processing img_08652.png: 7 words detected\n",
      "Processing svk_id_41.jpg: 26 words detected\n",
      "Processing img_06643.png: 8 words detected\n",
      "Processing img_08300.png: 4 words detected\n",
      "Processing img_08173.png: 3 words detected\n",
      "Processing img_08211.png: 15 words detected\n",
      "💾 Saved chunk 115 with 10 samples\n"
     ]
    },
    {
     "name": "stderr",
     "output_type": "stream",
     "text": [
      "\r",
      "Processing batches:  36%|██████████████████▏                                | 116/325 [13:47<24:02,  6.90s/it]"
     ]
    },
    {
     "name": "stdout",
     "output_type": "stream",
     "text": [
      "Processing img_08491.png: 7 words detected\n",
      "Processing img_07980.png: 11 words detected\n",
      "Processing img_07346.png: 8 words detected\n",
      "Processing img_07572.png: 15 words detected\n",
      "Processing img_07197.png: 7 words detected\n",
      "Processing img_08456.png: 7 words detected\n",
      "Processing img_06740.png: 1 words detected\n",
      "Processing img_07203.png: 6 words detected\n",
      "Processing img_08164.png: 3 words detected\n",
      "Processing img_07922.png: 7 words detected\n"
     ]
    },
    {
     "name": "stderr",
     "output_type": "stream",
     "text": [
      "\r",
      "Processing batches:  36%|██████████████████▎                                | 117/325 [13:52<22:48,  6.58s/it]"
     ]
    },
    {
     "name": "stdout",
     "output_type": "stream",
     "text": [
      "💾 Saved chunk 116 with 10 samples\n",
      "Processing img_07975.png: 10 words detected\n",
      "Processing est_id_72.jpg: 12 words detected\n",
      "Processing img_08484.png: 28 words detected\n",
      "Processing img_08519.png: 11 words detected\n",
      "Processing img_07335.png: 6 words detected\n",
      "Processing img_08437.png: 10 words detected\n",
      "Processing img_08539.png: 13 words detected\n",
      "Processing fin_id_85.jpg: 7 words detected\n",
      "Processing img_08057.png: 3 words detected\n",
      "Processing img_06482.png: 12 words detected\n",
      "💾 Saved chunk 117 with 10 samples\n"
     ]
    },
    {
     "name": "stderr",
     "output_type": "stream",
     "text": [
      "\r",
      "Processing batches:  36%|██████████████████▌                                | 118/325 [13:59<22:38,  6.56s/it]"
     ]
    },
    {
     "name": "stdout",
     "output_type": "stream",
     "text": [
      "Processing svk_id_15.jpg: 28 words detected\n",
      "Processing rus_internalpassport_00.jpg: 9 words detected\n",
      "Processing img_06901.png: 13 words detected\n",
      "Processing img_07210.png: 9 words detected\n",
      "Processing img_07042.png: 1 words detected\n",
      "Processing img_06534.png: 8 words detected\n",
      "Processing fin_id_18.jpg: 13 words detected\n",
      "Processing img_08823.png: 10 words detected\n",
      "Processing img_07906.png: 10 words detected\n",
      "Processing img_08443.png: 8 words detected\n",
      "💾 Saved chunk 118 with 10 samples\n"
     ]
    },
    {
     "name": "stderr",
     "output_type": "stream",
     "text": [
      "\r",
      "Processing batches:  37%|██████████████████▋                                | 119/325 [14:06<23:23,  6.81s/it]"
     ]
    },
    {
     "name": "stdout",
     "output_type": "stream",
     "text": [
      "Processing img_08637.png: 6 words detected\n",
      "Processing img_08243.png: 6 words detected\n",
      "Processing img_06703.png: 4 words detected\n",
      "Processing img_08104.png: 7 words detected\n",
      "Processing grc_passport_03.jpg: 32 words detected\n",
      "Processing img_06574.png: 9 words detected\n",
      "Processing img_07362.png: 12 words detected\n",
      "Processing img_08859.png: 2 words detected\n",
      "Processing img_08118.png: 10 words detected\n",
      "Processing img_08036.png: 18 words detected\n",
      "Processed 1200/3244 samples. GPU memory: 0.57GB\n",
      "💾 Saved chunk 119 with 10 samples\n"
     ]
    },
    {
     "name": "stderr",
     "output_type": "stream",
     "text": [
      "\r",
      "Processing batches:  37%|██████████████████▊                                | 120/325 [14:14<24:32,  7.18s/it]"
     ]
    },
    {
     "name": "stdout",
     "output_type": "stream",
     "text": [
      "Processing img_06594.png: 7 words detected\n",
      "Processing img_07292.png: 8 words detected\n",
      "Processing img_07161.png: 1 words detected\n",
      "Processing fin_id_16.jpg: 3 words detected\n",
      "Processing img_07481.png: 14 words detected\n",
      "Processing img_07447.png: 16 words detected\n",
      "Processing img_07549.png: 9 words detected\n",
      "Processing img_07994.png: 13 words detected\n",
      "Processing img_06747.png: 5 words detected\n",
      "Processing img_07817.png: 11 words detected\n"
     ]
    },
    {
     "name": "stderr",
     "output_type": "stream",
     "text": [
      "\r",
      "Processing batches:  37%|██████████████████▉                                | 121/325 [14:20<23:10,  6.82s/it]"
     ]
    },
    {
     "name": "stdout",
     "output_type": "stream",
     "text": [
      "💾 Saved chunk 120 with 10 samples\n",
      "Processing img_06582.png: 6 words detected\n",
      "Processing img_06552.png: 20 words detected\n",
      "Processing img_06974.png: 17 words detected\n",
      "Processing img_08493.png: 6 words detected\n",
      "Processing img_06732.png: 20 words detected\n",
      "Processing img_06968.png: 14 words detected\n",
      "Processing img_07604.png: 9 words detected\n",
      "Processing img_08638.png: 8 words detected\n",
      "Processing fin_id_50.jpg: 16 words detected\n",
      "Processing img_08403.png: 18 words detected\n",
      "💾 Saved chunk 121 with 10 samples\n"
     ]
    },
    {
     "name": "stderr",
     "output_type": "stream",
     "text": [
      "\r",
      "Processing batches:  38%|███████████████████▏                               | 122/325 [14:28<23:28,  6.94s/it]"
     ]
    },
    {
     "name": "stdout",
     "output_type": "stream",
     "text": [
      "Processing img_07054.png: 1 words detected\n",
      "Processing est_id_55.jpg: 5 words detected\n",
      "Processing img_07953.png: 8 words detected\n",
      "Processing img_08148.png: 1 words detected\n",
      "Processing rus_internalpassport_85.jpg: 9 words detected\n",
      "Processing fin_id_93.jpg: 6 words detected\n",
      "Processing img_07564.png: 6 words detected\n",
      "Processing img_09013.png: 8 words detected\n",
      "Processing img_08113.png: 4 words detected\n",
      "Processing srb_passport_54.jpg: 31 words detected\n",
      "💾 Saved chunk 122 with 10 samples\n"
     ]
    },
    {
     "name": "stderr",
     "output_type": "stream",
     "text": [
      "\r",
      "Processing batches:  38%|███████████████████▎                               | 123/325 [14:35<23:39,  7.03s/it]"
     ]
    },
    {
     "name": "stdout",
     "output_type": "stream",
     "text": [
      "Processing srb_passport_15.jpg: 24 words detected\n",
      "Processing img_08459.png: 4 words detected\n",
      "Processing img_08930.png: 2 words detected\n",
      "Processing grc_passport_87.jpg: 1 words detected\n",
      "Processing img_08705.png: 8 words detected\n",
      "Processing img_08584.png: 6 words detected\n",
      "Processing img_07519.png: 8 words detected\n",
      "Processing img_08126.png: 4 words detected\n",
      "Processing img_07601.png: 9 words detected\n",
      "Processing grc_passport_34.jpg: 28 words detected\n"
     ]
    },
    {
     "name": "stderr",
     "output_type": "stream",
     "text": [
      "\r",
      "Processing batches:  38%|███████████████████▍                               | 124/325 [14:43<24:45,  7.39s/it]"
     ]
    },
    {
     "name": "stdout",
     "output_type": "stream",
     "text": [
      "💾 Saved chunk 123 with 10 samples\n",
      "Processing img_07666.png: 13 words detected\n",
      "Processing img_07795.png: 13 words detected\n",
      "Processing grc_passport_77.jpg: 30 words detected\n",
      "Processing img_07648.png: 11 words detected\n",
      "Processing img_06676.png: 23 words detected\n",
      "Processing img_08954.png: 4 words detected\n",
      "Processing img_08232.png: 6 words detected\n",
      "Processing img_08550.png: 2 words detected\n",
      "Processing img_08688.png: 10 words detected\n",
      "Processing img_08109.png: 4 words detected\n",
      "Processed 1250/3244 samples. GPU memory: 0.57GB\n",
      "💾 Saved chunk 124 with 10 samples\n"
     ]
    },
    {
     "name": "stderr",
     "output_type": "stream",
     "text": [
      "\r",
      "Processing batches:  38%|███████████████████▌                               | 125/325 [14:51<24:46,  7.43s/it]"
     ]
    },
    {
     "name": "stdout",
     "output_type": "stream",
     "text": [
      "Processing img_07253.png: 2 words detected\n",
      "Processing img_08847.png: 8 words detected\n",
      "Processing img_07235.png: 5 words detected\n",
      "Processing img_06763.png: 14 words detected\n",
      "Processing img_06861.png: 10 words detected\n",
      "Processing img_06717.png: 8 words detected\n",
      "Processing lva_passport_45.jpg: 35 words detected\n",
      "Processing img_08748.png: 21 words detected\n",
      "Processing img_07333.png: 22 words detected\n",
      "Processing img_07684.png: 15 words detected\n"
     ]
    },
    {
     "name": "stderr",
     "output_type": "stream",
     "text": [
      "\r",
      "Processing batches:  39%|███████████████████▊                               | 126/325 [14:57<23:52,  7.20s/it]"
     ]
    },
    {
     "name": "stdout",
     "output_type": "stream",
     "text": [
      "💾 Saved chunk 125 with 10 samples\n",
      "Processing img_08642.png: 4 words detected\n",
      "Processing img_07052.png: 7 words detected\n",
      "Processing img_06950.png: 10 words detected\n",
      "Processing img_08544.png: 10 words detected\n",
      "Processing img_08565.png: 7 words detected\n",
      "Processing img_08762.png: 15 words detected\n",
      "Processing img_08820.png: 4 words detected\n",
      "Processing img_06540.png: 5 words detected\n",
      "Processing srb_passport_49.jpg: 28 words detected\n",
      "Processing rus_internalpassport_94.jpg: 10 words detected\n",
      "💾 Saved chunk 126 with 10 samples\n"
     ]
    },
    {
     "name": "stderr",
     "output_type": "stream",
     "text": [
      "\r",
      "Processing batches:  39%|███████████████████▉                               | 127/325 [15:04<23:29,  7.12s/it]"
     ]
    },
    {
     "name": "stdout",
     "output_type": "stream",
     "text": [
      "Processing img_08162.png: 11 words detected\n",
      "Processing img_07211.png: 18 words detected\n",
      "Processing img_07473.png: 10 words detected\n",
      "Processing img_08507.png: 4 words detected\n",
      "Processing img_07192.png: 12 words detected\n",
      "Processing rus_internalpassport_99.jpg: 12 words detected\n",
      "Processing lva_passport_66.jpg: 22 words detected\n",
      "Processing img_07044.png: 8 words detected\n",
      "Processing img_06969.png: 9 words detected\n",
      "Processing grc_passport_67.jpg: 31 words detected\n",
      "💾 Saved chunk 127 with 10 samples\n"
     ]
    },
    {
     "name": "stderr",
     "output_type": "stream",
     "text": [
      "\r",
      "Processing batches:  39%|████████████████████                               | 128/325 [15:12<23:41,  7.22s/it]"
     ]
    },
    {
     "name": "stdout",
     "output_type": "stream",
     "text": [
      "Processing img_09016.png: 13 words detected\n",
      "Processing lva_passport_25.jpg: 13 words detected\n",
      "Processing img_08719.png: 8 words detected\n",
      "Processing img_08951.png: 5 words detected\n",
      "Processing srb_passport_30.jpg: 30 words detected\n",
      "Processing img_07593.png: 14 words detected\n",
      "Processing img_07619.png: 13 words detected\n",
      "Processing img_06964.png: 14 words detected\n",
      "Processing img_07386.png: 3 words detected\n",
      "Processing est_id_90.jpg: 3 words detected\n"
     ]
    },
    {
     "name": "stderr",
     "output_type": "stream",
     "text": [
      "\r",
      "Processing batches:  40%|████████████████████▏                              | 129/325 [15:20<24:32,  7.51s/it]"
     ]
    },
    {
     "name": "stdout",
     "output_type": "stream",
     "text": [
      "💾 Saved chunk 128 with 10 samples\n",
      "Processing img_09009.png: 16 words detected\n",
      "Processing img_08323.png: 5 words detected\n",
      "Processing lva_passport_22.jpg: 39 words detected\n",
      "Processing img_06907.png: 5 words detected\n",
      "Processing srb_passport_87.jpg: 5 words detected\n",
      "Processing img_07502.png: 6 words detected\n",
      "Processing img_07894.png: 3 words detected\n",
      "Processing img_07413.png: 7 words detected\n",
      "Processing img_07911.png: 12 words detected\n",
      "Processing est_id_85.jpg: 10 words detected\n"
     ]
    },
    {
     "name": "stderr",
     "output_type": "stream",
     "text": [
      "\r",
      "Processing batches:  40%|████████████████████▍                              | 130/325 [15:27<24:25,  7.51s/it]"
     ]
    },
    {
     "name": "stdout",
     "output_type": "stream",
     "text": [
      "Processed 1300/3244 samples. GPU memory: 0.57GB\n",
      "💾 Saved chunk 129 with 10 samples\n",
      "Processing img_08684.png: 2 words detected\n",
      "Processing img_08343.png: 7 words detected\n",
      "Processing img_07512.png: 6 words detected\n",
      "Processing img_06880.png: 11 words detected\n",
      "Processing fin_id_53.jpg: 19 words detected\n",
      "Processing img_07086.png: 9 words detected\n",
      "Processing srb_passport_41.jpg: 36 words detected\n",
      "Processing img_08586.png: 4 words detected\n",
      "Processing img_06712.png: 10 words detected\n",
      "Processing img_08925.png: 21 words detected\n",
      "💾 Saved chunk 130 with 10 samples\n"
     ]
    },
    {
     "name": "stderr",
     "output_type": "stream",
     "text": [
      "\r",
      "Processing batches:  40%|████████████████████▌                              | 131/325 [15:35<23:59,  7.42s/it]"
     ]
    },
    {
     "name": "stdout",
     "output_type": "stream",
     "text": [
      "Processing img_07808.png: 8 words detected\n",
      "Processing img_08953.png: 5 words detected\n",
      "Processing img_06767.png: 2 words detected\n",
      "Processing img_08219.png: 16 words detected\n",
      "Processing fin_id_34.jpg: 15 words detected\n",
      "Processing img_07365.png: 6 words detected\n",
      "Processing img_07125.png: 5 words detected\n",
      "Processing srb_passport_37.jpg: 33 words detected\n",
      "Processing img_06813.png: 10 words detected\n",
      "Processing lva_passport_30.jpg: 38 words detected\n",
      "💾 Saved chunk 131 with 10 samples\n"
     ]
    },
    {
     "name": "stderr",
     "output_type": "stream",
     "text": [
      "\r",
      "Processing batches:  41%|████████████████████▋                              | 132/325 [15:43<24:34,  7.64s/it]"
     ]
    },
    {
     "name": "stdout",
     "output_type": "stream",
     "text": [
      "Processing fin_id_75.jpg: 11 words detected\n",
      "Processing img_08141.png: 8 words detected\n",
      "Processing grc_passport_54.jpg: 24 words detected\n",
      "Processing img_06550.png: 8 words detected\n",
      "Processing img_07850.png: 34 words detected\n",
      "Processing srb_passport_74.jpg: 28 words detected\n",
      "Processing img_07444.png: 9 words detected\n",
      "Processing img_07796.png: 6 words detected\n",
      "Processing img_08763.png: 3 words detected\n",
      "Processing img_08462.png: 21 words detected\n",
      "💾 Saved chunk 132 with 10 samples\n"
     ]
    },
    {
     "name": "stderr",
     "output_type": "stream",
     "text": [
      "\r",
      "Processing batches:  41%|████████████████████▊                              | 133/325 [15:51<25:22,  7.93s/it]"
     ]
    },
    {
     "name": "stdout",
     "output_type": "stream",
     "text": [
      "Processing rus_internalpassport_87.jpg: 9 words detected\n",
      "Processing img_08466.png: 5 words detected\n",
      "Processing svk_id_62.jpg: 9 words detected\n",
      "Processing img_08910.png: 3 words detected\n",
      "Processing img_07046.png: 22 words detected\n",
      "Processing img_06847.png: 4 words detected\n",
      "Processing img_07341.png: 10 words detected\n",
      "Processing img_07225.png: 3 words detected\n",
      "Processing img_08734.png: 4 words detected\n",
      "Processing img_08167.png: 20 words detected\n",
      "💾 Saved chunk 133 with 10 samples\n"
     ]
    },
    {
     "name": "stderr",
     "output_type": "stream",
     "text": [
      "\r",
      "Processing batches:  41%|█████████████████████                              | 134/325 [15:58<23:42,  7.45s/it]"
     ]
    },
    {
     "name": "stdout",
     "output_type": "stream",
     "text": [
      "Processing img_07229.png: 10 words detected\n",
      "Processing img_08537.png: 5 words detected\n",
      "Processing img_08045.png: 8 words detected\n",
      "Processing img_08197.png: 3 words detected\n",
      "Processing grc_passport_37.jpg: 31 words detected\n",
      "Processing img_08220.png: 6 words detected\n",
      "Processing img_07143.png: 7 words detected\n",
      "Processing est_id_53.jpg: 12 words detected\n",
      "Processing img_06914.png: 4 words detected\n",
      "Processing img_08718.png: 9 words detected\n",
      "Processed 1350/3244 samples. GPU memory: 0.57GB\n",
      "💾 Saved chunk 134 with 10 samples\n"
     ]
    },
    {
     "name": "stderr",
     "output_type": "stream",
     "text": [
      "\r",
      "Processing batches:  42%|█████████████████████▏                             | 135/325 [16:03<22:01,  6.95s/it]"
     ]
    },
    {
     "name": "stdout",
     "output_type": "stream",
     "text": [
      "Processing img_06629.png: 11 words detected\n",
      "Processing img_08014.png: 15 words detected\n",
      "Processing img_07775.png: 3 words detected\n",
      "Processing srb_passport_01.jpg: 30 words detected\n",
      "Processing img_08015.png: 25 words detected\n",
      "Processing img_07712.png: 8 words detected\n",
      "Processing img_07823.png: 7 words detected\n",
      "Processing est_id_93.jpg: 14 words detected\n",
      "Processing img_08077.png: 9 words detected\n",
      "Processing img_08794.png: 7 words detected\n"
     ]
    },
    {
     "name": "stderr",
     "output_type": "stream",
     "text": [
      "\r",
      "Processing batches:  42%|█████████████████████▎                             | 136/325 [16:11<22:19,  7.08s/it]"
     ]
    },
    {
     "name": "stdout",
     "output_type": "stream",
     "text": [
      "💾 Saved chunk 135 with 10 samples\n",
      "Processing img_08022.png: 18 words detected\n",
      "Processing img_07285.png: 10 words detected\n",
      "Processing fin_id_07.jpg: 18 words detected\n",
      "Processing img_06698.png: 7 words detected\n",
      "Processing img_08218.png: 6 words detected\n",
      "Processing img_08745.png: 5 words detected\n",
      "Processing fin_id_08.jpg: 13 words detected\n",
      "Processing img_07579.png: 4 words detected\n",
      "Processing img_07892.png: 8 words detected\n",
      "Processing img_08069.png: 1 words detected\n",
      "💾 Saved chunk 136 with 10 samples\n"
     ]
    },
    {
     "name": "stderr",
     "output_type": "stream",
     "text": [
      "\r",
      "Processing batches:  42%|█████████████████████▍                             | 137/325 [16:18<22:30,  7.19s/it]"
     ]
    },
    {
     "name": "stdout",
     "output_type": "stream",
     "text": [
      "Processing img_06761.png: 19 words detected\n",
      "Processing rus_internalpassport_29.jpg: 5 words detected\n",
      "Processing img_07450.png: 6 words detected\n",
      "Processing img_08328.png: 18 words detected\n",
      "Processing grc_passport_43.jpg: 1 words detected\n",
      "Processing img_07681.png: 8 words detected\n",
      "Processing img_06493.png: 8 words detected\n",
      "Processing img_07934.png: 4 words detected\n",
      "Processing fin_id_37.jpg: 14 words detected\n",
      "Processing est_id_62.jpg: 5 words detected\n"
     ]
    },
    {
     "name": "stderr",
     "output_type": "stream",
     "text": [
      "\r",
      "Processing batches:  42%|█████████████████████▋                             | 138/325 [16:26<23:19,  7.49s/it]"
     ]
    },
    {
     "name": "stdout",
     "output_type": "stream",
     "text": [
      "💾 Saved chunk 137 with 10 samples\n",
      "Processing img_07704.png: 7 words detected\n",
      "Processing img_07797.png: 14 words detected\n",
      "Processing img_07535.png: 4 words detected\n",
      "Processing img_06862.png: 8 words detected\n",
      "Processing srb_passport_25.jpg: 32 words detected\n",
      "Processing img_06749.png: 5 words detected\n",
      "Processing img_06506.png: 4 words detected\n",
      "Processing img_07585.png: 5 words detected\n",
      "Processing img_07842.png: 6 words detected\n",
      "Processing img_08791.png: 2 words detected\n",
      "💾 Saved chunk 138 with 10 samples\n"
     ]
    },
    {
     "name": "stderr",
     "output_type": "stream",
     "text": [
      "\r",
      "Processing batches:  43%|█████████████████████▊                             | 139/325 [16:33<22:19,  7.20s/it]"
     ]
    },
    {
     "name": "stdout",
     "output_type": "stream",
     "text": [
      "Processing img_08345.png: 8 words detected\n",
      "Processing img_08899.png: 6 words detected\n",
      "Processing img_06765.png: 4 words detected\n",
      "Processing img_06607.png: 17 words detected\n",
      "Processing img_07569.png: 5 words detected\n",
      "Processing img_08824.png: 6 words detected\n",
      "Processing img_07538.png: 6 words detected\n",
      "Processing est_id_83.jpg: 10 words detected\n",
      "Processing img_06804.png: 7 words detected\n",
      "Processing img_06538.png: 3 words detected\n",
      "Processed 1400/3244 samples. GPU memory: 0.57GB\n",
      "💾 Saved chunk 139 with 10 samples\n"
     ]
    },
    {
     "name": "stderr",
     "output_type": "stream",
     "text": [
      "\r",
      "Processing batches:  43%|█████████████████████▉                             | 140/325 [16:39<21:22,  6.93s/it]"
     ]
    },
    {
     "name": "stdout",
     "output_type": "stream",
     "text": [
      "Processing img_07693.png: 18 words detected\n",
      "Processing img_07359.png: 9 words detected\n",
      "Processing img_07708.png: 12 words detected\n",
      "Processing img_08094.png: 10 words detected\n",
      "Processing rus_internalpassport_57.jpg: 9 words detected\n",
      "Processing fin_id_29.jpg: 14 words detected\n",
      "Processing img_08185.png: 4 words detected\n",
      "Processing img_08817.png: 8 words detected\n",
      "Processing img_08210.png: 7 words detected\n",
      "Processing grc_passport_12.jpg: 36 words detected\n"
     ]
    },
    {
     "name": "stderr",
     "output_type": "stream",
     "text": [
      "\r",
      "Processing batches:  43%|██████████████████████▏                            | 141/325 [16:47<21:32,  7.02s/it]"
     ]
    },
    {
     "name": "stdout",
     "output_type": "stream",
     "text": [
      "💾 Saved chunk 140 with 10 samples\n",
      "Processing grc_passport_78.jpg: 26 words detected\n",
      "Processing img_07232.png: 1 words detected\n",
      "Processing img_07507.png: 5 words detected\n",
      "Processing img_06922.png: 7 words detected\n",
      "Processing img_07631.png: 6 words detected\n",
      "Processing img_06525.png: 8 words detected\n",
      "Processing img_06766.png: 2 words detected\n",
      "Processing img_07613.png: 9 words detected\n",
      "Processing img_08694.png: 6 words detected\n",
      "Processing img_07356.png: 12 words detected\n",
      "💾 Saved chunk 141 with 10 samples\n"
     ]
    },
    {
     "name": "stderr",
     "output_type": "stream",
     "text": [
      "\r",
      "Processing batches:  44%|██████████████████████▎                            | 142/325 [16:53<21:13,  6.96s/it]"
     ]
    },
    {
     "name": "stdout",
     "output_type": "stream",
     "text": [
      "Processing img_07860.png: 13 words detected\n",
      "Processing rus_internalpassport_64.jpg: 11 words detected\n",
      "Processing img_06522.png: 16 words detected\n",
      "Processing img_07529.png: 31 words detected\n",
      "Processing img_07264.png: 9 words detected\n",
      "Processing lva_passport_71.jpg: 44 words detected\n",
      "Processing img_07785.png: 32 words detected\n",
      "Processing img_08388.png: 5 words detected\n",
      "Processing img_08547.png: 3 words detected\n",
      "Processing img_08864.png: 10 words detected\n"
     ]
    },
    {
     "name": "stderr",
     "output_type": "stream",
     "text": [
      "\r",
      "Processing batches:  44%|██████████████████████▍                            | 143/325 [17:02<22:16,  7.34s/it]"
     ]
    },
    {
     "name": "stdout",
     "output_type": "stream",
     "text": [
      "💾 Saved chunk 142 with 10 samples\n",
      "Processing img_08241.png: 7 words detected\n",
      "Processing fin_id_13.jpg: 15 words detected\n",
      "Processing est_id_40.jpg: 11 words detected\n",
      "Processing img_06877.png: 3 words detected\n",
      "Processing img_07895.png: 3 words detected\n",
      "Processing img_08560.png: 11 words detected\n",
      "Processing img_07020.png: 5 words detected\n",
      "Processing img_08041.png: 10 words detected\n",
      "Processing img_07928.png: 9 words detected\n",
      "Processing img_08095.png: 12 words detected\n",
      "💾 Saved chunk 143 with 10 samples\n"
     ]
    },
    {
     "name": "stderr",
     "output_type": "stream",
     "text": [
      "\r",
      "Processing batches:  44%|██████████████████████▌                            | 144/325 [17:08<21:25,  7.10s/it]"
     ]
    },
    {
     "name": "stdout",
     "output_type": "stream",
     "text": [
      "Processing img_07826.png: 3 words detected\n",
      "Processing img_07449.png: 4 words detected\n",
      "Processing fin_id_02.jpg: 6 words detected\n",
      "Processing srb_passport_86.jpg: 28 words detected\n",
      "Processing img_08361.png: 12 words detected\n",
      "Processing img_08516.png: 4 words detected\n",
      "Processing img_06841.png: 2 words detected\n",
      "Processing img_08681.png: 23 words detected\n",
      "Processing est_id_26.jpg: 7 words detected\n",
      "Processing img_07571.png: 1 words detected\n",
      "Processed 1450/3244 samples. GPU memory: 0.57GB\n"
     ]
    },
    {
     "name": "stderr",
     "output_type": "stream",
     "text": [
      "\r",
      "Processing batches:  45%|██████████████████████▊                            | 145/325 [17:15<21:28,  7.16s/it]"
     ]
    },
    {
     "name": "stdout",
     "output_type": "stream",
     "text": [
      "💾 Saved chunk 144 with 10 samples\n",
      "Processing img_07201.png: 8 words detected\n",
      "Processing img_08886.png: 6 words detected\n",
      "Processing img_07077.png: 4 words detected\n",
      "Processing img_08212.png: 7 words detected\n",
      "Processing img_08877.png: 7 words detected\n",
      "Processing img_08669.png: 8 words detected\n",
      "Processing img_07037.png: 8 words detected\n",
      "Processing img_07891.png: 3 words detected\n",
      "Processing img_08668.png: 1 words detected\n",
      "Processing img_06551.png: 4 words detected\n"
     ]
    },
    {
     "name": "stderr",
     "output_type": "stream",
     "text": [
      "\r",
      "Processing batches:  45%|██████████████████████▉                            | 146/325 [17:22<20:34,  6.90s/it]"
     ]
    },
    {
     "name": "stdout",
     "output_type": "stream",
     "text": [
      "💾 Saved chunk 145 with 10 samples\n",
      "Processing img_07610.png: 20 words detected\n",
      "Processing img_07779.png: 15 words detected\n",
      "Processing img_07890.png: 4 words detected\n",
      "Processing srb_passport_38.jpg: 35 words detected\n",
      "Processing img_08938.png: 7 words detected\n",
      "Processing img_08475.png: 7 words detected\n",
      "Processing img_07060.png: 5 words detected\n",
      "Processing img_08392.png: 21 words detected\n",
      "Processing est_id_58.jpg: 9 words detected\n",
      "Processing img_08628.png: 3 words detected\n"
     ]
    },
    {
     "name": "stderr",
     "output_type": "stream",
     "text": [
      "\r",
      "Processing batches:  45%|███████████████████████                            | 147/325 [17:29<20:39,  6.96s/it]"
     ]
    },
    {
     "name": "stdout",
     "output_type": "stream",
     "text": [
      "💾 Saved chunk 146 with 10 samples\n",
      "Processing img_07093.png: 20 words detected\n",
      "Processing img_08298.png: 21 words detected\n",
      "Processing img_07870.png: 8 words detected\n",
      "Processing img_08152.png: 10 words detected\n",
      "Processing fin_id_54.jpg: 12 words detected\n",
      "Processing img_07523.png: 20 words detected\n",
      "Processing img_07611.png: 8 words detected\n",
      "Processing img_08053.png: 4 words detected\n",
      "Processing img_08643.png: 16 words detected\n",
      "Processing fin_id_98.jpg: 20 words detected\n",
      "💾 Saved chunk 147 with 10 samples\n"
     ]
    },
    {
     "name": "stderr",
     "output_type": "stream",
     "text": [
      "\r",
      "Processing batches:  46%|███████████████████████▏                           | 148/325 [17:37<21:09,  7.17s/it]"
     ]
    },
    {
     "name": "stdout",
     "output_type": "stream",
     "text": [
      "Processing rus_internalpassport_22.jpg: 9 words detected\n",
      "Processing img_08497.png: 5 words detected\n",
      "Processing img_07244.png: 2 words detected\n",
      "Processing lva_passport_70.jpg: 38 words detected\n",
      "Processing img_08689.png: 7 words detected\n",
      "Processing grc_passport_10.jpg: 34 words detected\n",
      "Processing img_08941.png: 4 words detected\n",
      "Processing lva_passport_48.jpg: 40 words detected\n",
      "Processing img_07949.png: 4 words detected\n",
      "Processing img_08617.png: 8 words detected\n",
      "💾 Saved chunk 148 with 10 samples\n"
     ]
    },
    {
     "name": "stderr",
     "output_type": "stream",
     "text": [
      "\r",
      "Processing batches:  46%|███████████████████████▍                           | 149/325 [17:43<20:48,  7.10s/it]"
     ]
    },
    {
     "name": "stdout",
     "output_type": "stream",
     "text": [
      "Processing svk_id_78.jpg: 28 words detected\n",
      "Processing est_id_76.jpg: 3 words detected\n",
      "Processing img_07480.png: 7 words detected\n",
      "Processing img_07440.png: 11 words detected\n",
      "Processing svk_id_56.jpg: 12 words detected\n",
      "Processing img_08679.png: 15 words detected\n",
      "Processing srb_passport_72.jpg: 33 words detected\n",
      "Processing img_08311.png: 29 words detected\n",
      "Processing img_08349.png: 10 words detected\n",
      "Processing img_06697.png: 8 words detected\n",
      "Processed 1500/3244 samples. GPU memory: 0.57GB\n"
     ]
    },
    {
     "name": "stderr",
     "output_type": "stream",
     "text": [
      "\r",
      "Processing batches:  46%|███████████████████████▌                           | 150/325 [17:51<21:26,  7.35s/it]"
     ]
    },
    {
     "name": "stdout",
     "output_type": "stream",
     "text": [
      "💾 Saved chunk 149 with 10 samples\n",
      "Processing img_08949.png: 1 words detected\n",
      "Processing img_07979.png: 11 words detected\n",
      "Processing img_08064.png: 7 words detected\n",
      "Processing img_08280.png: 3 words detected\n",
      "Processing img_07154.png: 8 words detected\n",
      "Processing img_07206.png: 9 words detected\n",
      "Processing img_07710.png: 19 words detected\n",
      "Processing lva_passport_23.jpg: 42 words detected\n",
      "Processing img_07605.png: 4 words detected\n",
      "Processing img_08291.png: 28 words detected\n"
     ]
    },
    {
     "name": "stderr",
     "output_type": "stream",
     "text": [
      "\r",
      "Processing batches:  46%|███████████████████████▋                           | 151/325 [17:59<21:25,  7.39s/it]"
     ]
    },
    {
     "name": "stdout",
     "output_type": "stream",
     "text": [
      "💾 Saved chunk 150 with 10 samples\n",
      "Processing img_07259.png: 11 words detected\n",
      "Processing img_07916.png: 15 words detected\n",
      "Processing img_08894.png: 7 words detected\n",
      "Processing img_06824.png: 34 words detected\n",
      "Processing img_08573.png: 2 words detected\n",
      "Processing svk_id_79.jpg: 1 words detected\n",
      "Processing fin_id_84.jpg: 9 words detected\n",
      "Processing img_09023.png: 10 words detected\n",
      "Processing lva_passport_78.jpg: 41 words detected\n",
      "Processing rus_internalpassport_28.jpg: 8 words detected\n",
      "💾 Saved chunk 151 with 10 samples\n"
     ]
    },
    {
     "name": "stderr",
     "output_type": "stream",
     "text": [
      "\r",
      "Processing batches:  47%|███████████████████████▊                           | 152/325 [18:08<22:35,  7.83s/it]"
     ]
    },
    {
     "name": "stdout",
     "output_type": "stream",
     "text": [
      "Processing srb_passport_73.jpg: 29 words detected\n",
      "Processing img_06668.png: 32 words detected\n",
      "Processing fin_id_41.jpg: 19 words detected\n",
      "Processing img_07018.png: 1 words detected\n",
      "Processing img_07429.png: 12 words detected\n",
      "Processing img_08194.png: 4 words detected\n",
      "Processing img_07991.png: 14 words detected\n",
      "Processing img_07180.png: 8 words detected\n",
      "Processing img_08276.png: 2 words detected\n",
      "Processing img_07312.png: 9 words detected\n"
     ]
    },
    {
     "name": "stderr",
     "output_type": "stream",
     "text": [
      "\r",
      "Processing batches:  47%|████████████████████████                           | 153/325 [18:14<21:31,  7.51s/it]"
     ]
    },
    {
     "name": "stdout",
     "output_type": "stream",
     "text": [
      "💾 Saved chunk 152 with 10 samples\n",
      "Processing img_07737.png: 7 words detected\n",
      "Processing img_08471.png: 9 words detected\n",
      "Processing img_08429.png: 14 words detected\n",
      "Processing est_id_50.jpg: 10 words detected\n",
      "Processing img_07469.png: 10 words detected\n",
      "Processing img_06558.png: 12 words detected\n",
      "Processing img_06911.png: 8 words detected\n",
      "Processing svk_id_88.jpg: 34 words detected\n",
      "Processing img_06639.png: 4 words detected\n",
      "Processing img_06619.png: 3 words detected\n"
     ]
    },
    {
     "name": "stderr",
     "output_type": "stream",
     "text": [
      "\r",
      "Processing batches:  47%|████████████████████████▏                          | 154/325 [18:21<20:51,  7.32s/it]"
     ]
    },
    {
     "name": "stdout",
     "output_type": "stream",
     "text": [
      "💾 Saved chunk 153 with 10 samples\n",
      "Processing fin_id_70.jpg: 14 words detected\n",
      "Processing img_08495.png: 14 words detected\n",
      "Processing img_08397.png: 7 words detected\n",
      "Processing img_07984.png: 4 words detected\n",
      "Processing img_07442.png: 7 words detected\n",
      "Processing img_08733.png: 23 words detected\n",
      "Processing img_06905.png: 2 words detected\n",
      "Processing img_06799.png: 5 words detected\n",
      "Processing img_07758.png: 5 words detected\n",
      "Processing img_08304.png: 9 words detected\n",
      "Processed 1550/3244 samples. GPU memory: 0.57GB\n",
      "💾 Saved chunk 154 with 10 samples\n"
     ]
    },
    {
     "name": "stderr",
     "output_type": "stream",
     "text": [
      "\r",
      "Processing batches:  48%|████████████████████████▎                          | 155/325 [18:28<20:05,  7.09s/it]"
     ]
    },
    {
     "name": "stdout",
     "output_type": "stream",
     "text": [
      "Processing est_id_38.jpg: 10 words detected\n",
      "Processing img_08717.png: 9 words detected\n",
      "Processing img_07853.png: 21 words detected\n",
      "Processing srb_passport_31.jpg: 32 words detected\n",
      "Processing img_07638.png: 6 words detected\n",
      "Processing img_08324.png: 7 words detected\n",
      "Processing img_08054.png: 16 words detected\n",
      "Processing rus_internalpassport_48.jpg: 9 words detected\n",
      "Processing img_07375.png: 6 words detected\n",
      "Processing img_07433.png: 9 words detected\n",
      "💾 Saved chunk 155 with 10 samples\n"
     ]
    },
    {
     "name": "stderr",
     "output_type": "stream",
     "text": [
      "\r",
      "Processing batches:  48%|████████████████████████▍                          | 156/325 [18:37<21:45,  7.73s/it]"
     ]
    },
    {
     "name": "stdout",
     "output_type": "stream",
     "text": [
      "Processing img_06730.png: 5 words detected\n",
      "Processing img_06951.png: 7 words detected\n",
      "Processing img_08133.png: 8 words detected\n",
      "Processing img_08989.png: 16 words detected\n",
      "Processing img_07179.png: 8 words detected\n",
      "Processing img_06852.png: 7 words detected\n",
      "Processing est_id_30.jpg: 9 words detected\n",
      "Processing img_07582.png: 6 words detected\n",
      "Processing img_06979.png: 15 words detected\n",
      "Processing img_08129.png: 4 words detected\n"
     ]
    },
    {
     "name": "stderr",
     "output_type": "stream",
     "text": [
      "\r",
      "Processing batches:  48%|████████████████████████▋                          | 157/325 [18:44<20:58,  7.49s/it]"
     ]
    },
    {
     "name": "stdout",
     "output_type": "stream",
     "text": [
      "💾 Saved chunk 156 with 10 samples\n",
      "Processing img_08177.png: 6 words detected\n",
      "Processing img_08157.png: 11 words detected\n",
      "Processing img_09015.png: 19 words detected\n",
      "Processing grc_passport_13.jpg: 32 words detected\n",
      "Processing img_08182.png: 17 words detected\n",
      "Processing img_08366.png: 22 words detected\n",
      "Processing grc_passport_88.jpg: 23 words detected\n",
      "Processing img_08332.png: 3 words detected\n",
      "Processing img_06507.png: 7 words detected\n",
      "Processing img_07257.png: 12 words detected\n"
     ]
    },
    {
     "name": "stderr",
     "output_type": "stream",
     "text": [
      "\r",
      "Processing batches:  49%|████████████████████████▊                          | 158/325 [18:51<20:44,  7.45s/it]"
     ]
    },
    {
     "name": "stdout",
     "output_type": "stream",
     "text": [
      "💾 Saved chunk 157 with 10 samples\n",
      "Processing img_06593.png: 7 words detected\n",
      "Processing lva_passport_20.jpg: 40 words detected\n",
      "Processing srb_passport_33.jpg: 6 words detected\n",
      "Processing img_06665.png: 8 words detected\n",
      "Processing lva_passport_39.jpg: 45 words detected\n",
      "Processing img_07247.png: 7 words detected\n",
      "Processing img_06928.png: 7 words detected\n",
      "Processing img_08499.png: 8 words detected\n",
      "Processing img_08464.png: 6 words detected\n",
      "Processing svk_id_57.jpg: 14 words detected\n",
      "💾 Saved chunk 158 with 10 samples\n"
     ]
    },
    {
     "name": "stderr",
     "output_type": "stream",
     "text": [
      "\r",
      "Processing batches:  49%|████████████████████████▉                          | 159/325 [19:00<21:09,  7.65s/it]"
     ]
    },
    {
     "name": "stdout",
     "output_type": "stream",
     "text": [
      "Processing img_06990.png: 18 words detected\n",
      "Processing img_07403.png: 11 words detected\n",
      "Processing img_08747.png: 3 words detected\n",
      "Processing img_07964.png: 7 words detected\n",
      "Processing img_07221.png: 5 words detected\n",
      "Processing img_07565.png: 18 words detected\n",
      "Processing img_08281.png: 9 words detected\n",
      "Processing img_08149.png: 6 words detected\n",
      "Processing img_07283.png: 13 words detected\n",
      "Processing img_08520.png: 3 words detected\n",
      "Processed 1600/3244 samples. GPU memory: 0.57GB\n",
      "💾 Saved chunk 159 with 10 samples\n"
     ]
    },
    {
     "name": "stderr",
     "output_type": "stream",
     "text": [
      "\r",
      "Processing batches:  49%|█████████████████████████                          | 160/325 [19:06<19:57,  7.26s/it]"
     ]
    },
    {
     "name": "stdout",
     "output_type": "stream",
     "text": [
      "Processing img_07435.png: 5 words detected\n",
      "Processing lva_passport_00.jpg: 34 words detected\n",
      "Processing img_07589.png: 5 words detected\n",
      "Processing img_07714.png: 14 words detected\n",
      "Processing img_08335.png: 10 words detected\n",
      "Processing svk_id_33.jpg: 15 words detected\n",
      "Processing img_08286.png: 6 words detected\n",
      "Processing img_08303.png: 18 words detected\n",
      "Processing est_id_63.jpg: 7 words detected\n",
      "Processing img_08417.png: 15 words detected\n"
     ]
    },
    {
     "name": "stderr",
     "output_type": "stream",
     "text": [
      "\r",
      "Processing batches:  50%|█████████████████████████▎                         | 161/325 [19:15<21:11,  7.75s/it]"
     ]
    },
    {
     "name": "stdout",
     "output_type": "stream",
     "text": [
      "💾 Saved chunk 160 with 10 samples\n",
      "Processing img_08863.png: 5 words detected\n",
      "Processing img_08494.png: 4 words detected\n",
      "Processing img_06589.png: 7 words detected\n",
      "Processing img_08396.png: 8 words detected\n",
      "Processing img_06725.png: 12 words detected\n",
      "Processing img_07105.png: 5 words detected\n",
      "Processing fin_id_35.jpg: 16 words detected\n",
      "Processing img_08089.png: 11 words detected\n",
      "Processing img_06818.png: 16 words detected\n",
      "Processing img_06536.png: 8 words detected\n"
     ]
    },
    {
     "name": "stderr",
     "output_type": "stream",
     "text": [
      "\r",
      "Processing batches:  50%|█████████████████████████▍                         | 162/325 [19:21<19:45,  7.27s/it]"
     ]
    },
    {
     "name": "stdout",
     "output_type": "stream",
     "text": [
      "💾 Saved chunk 161 with 10 samples\n",
      "Processing img_08782.png: 15 words detected\n",
      "Processing img_08870.png: 8 words detected\n",
      "Processing img_08711.png: 3 words detected\n",
      "Processing srb_passport_09.jpg: 35 words detected\n",
      "Processing img_07497.png: 10 words detected\n",
      "Processing img_08597.png: 8 words detected\n",
      "Processing lva_passport_18.jpg: 44 words detected\n",
      "Processing img_06805.png: 6 words detected\n",
      "Processing img_06531.png: 11 words detected\n",
      "Processing img_08848.png: 4 words detected\n",
      "💾 Saved chunk 162 with 10 samples\n"
     ]
    },
    {
     "name": "stderr",
     "output_type": "stream",
     "text": [
      "\r",
      "Processing batches:  50%|█████████████████████████▌                         | 163/325 [19:28<19:45,  7.32s/it]"
     ]
    },
    {
     "name": "stdout",
     "output_type": "stream",
     "text": [
      "Processing img_07709.png: 4 words detected\n",
      "Processing img_08578.png: 13 words detected\n",
      "Processing img_08288.png: 7 words detected\n",
      "Processing img_07258.png: 19 words detected\n",
      "Processing img_08139.png: 1 words detected\n",
      "Processing img_08305.png: 2 words detected\n",
      "Processing img_07115.png: 9 words detected\n",
      "Processing img_07293.png: 5 words detected\n",
      "Processing img_06570.png: 7 words detected\n",
      "Processing lva_passport_61.jpg: 42 words detected\n"
     ]
    },
    {
     "name": "stderr",
     "output_type": "stream",
     "text": [
      "\r",
      "Processing batches:  50%|█████████████████████████▋                         | 164/325 [19:36<19:41,  7.34s/it]"
     ]
    },
    {
     "name": "stdout",
     "output_type": "stream",
     "text": [
      "💾 Saved chunk 163 with 10 samples\n",
      "Processing img_08240.png: 14 words detected\n",
      "Processing lva_passport_88.jpg: 16 words detected\n",
      "Processing img_06856.png: 6 words detected\n",
      "Processing grc_passport_21.jpg: 1 words detected\n",
      "Processing img_08449.png: 5 words detected\n",
      "Processing img_08882.png: 7 words detected\n",
      "Processing img_08172.png: 9 words detected\n",
      "Processing img_07076.png: 4 words detected\n",
      "Processing img_07340.png: 9 words detected\n",
      "Processing srb_passport_06.jpg: 33 words detected\n",
      "Processed 1650/3244 samples. GPU memory: 0.57GB\n"
     ]
    },
    {
     "name": "stderr",
     "output_type": "stream",
     "text": [
      "\r",
      "Processing batches:  51%|█████████████████████████▉                         | 165/325 [19:45<20:46,  7.79s/it]"
     ]
    },
    {
     "name": "stdout",
     "output_type": "stream",
     "text": [
      "💾 Saved chunk 164 with 10 samples\n",
      "Processing img_06842.png: 4 words detected\n",
      "Processing img_07839.png: 3 words detected\n",
      "Processing lva_passport_63.jpg: 18 words detected\n",
      "Processing srb_passport_21.jpg: 28 words detected\n",
      "Processing img_07238.png: 13 words detected\n",
      "Processing rus_internalpassport_10.jpg: 10 words detected\n",
      "Processing lva_passport_51.jpg: 16 words detected\n",
      "Processing img_06917.png: 2 words detected\n",
      "Processing img_06692.png: 3 words detected\n",
      "Processing img_06920.png: 8 words detected\n",
      "💾 Saved chunk 165 with 10 samples\n"
     ]
    },
    {
     "name": "stderr",
     "output_type": "stream",
     "text": [
      "\r",
      "Processing batches:  51%|██████████████████████████                         | 166/325 [19:52<20:24,  7.70s/it]"
     ]
    },
    {
     "name": "stdout",
     "output_type": "stream",
     "text": [
      "Processing img_08019.png: 7 words detected\n",
      "Processing img_07635.png: 6 words detected\n",
      "Processing grc_passport_61.jpg: 33 words detected\n",
      "Processing img_08480.png: 8 words detected\n",
      "Processing img_06776.png: 9 words detected\n",
      "Processing img_08623.png: 4 words detected\n",
      "Processing img_07971.png: 5 words detected\n",
      "Processing img_08571.png: 13 words detected\n",
      "Processing img_08264.png: 10 words detected\n",
      "Processing img_08432.png: 32 words detected\n",
      "💾 Saved chunk 166 with 10 samples\n"
     ]
    },
    {
     "name": "stderr",
     "output_type": "stream",
     "text": [
      "\r",
      "Processing batches:  51%|██████████████████████████▏                        | 167/325 [19:59<19:21,  7.35s/it]"
     ]
    },
    {
     "name": "stdout",
     "output_type": "stream",
     "text": [
      "Processing img_07400.png: 5 words detected\n",
      "Processing fin_id_38.jpg: 14 words detected\n",
      "Processing img_06564.png: 8 words detected\n",
      "Processing img_06658.png: 14 words detected\n",
      "Processing img_08710.png: 6 words detected\n",
      "Processing img_07303.png: 7 words detected\n",
      "Processing img_07242.png: 3 words detected\n",
      "Processing img_08292.png: 4 words detected\n",
      "Processing img_08285.png: 13 words detected\n",
      "Processing img_08740.png: 14 words detected\n",
      "💾 Saved chunk 167 with 10 samples\n"
     ]
    },
    {
     "name": "stderr",
     "output_type": "stream",
     "text": [
      "\r",
      "Processing batches:  52%|██████████████████████████▎                        | 168/325 [20:05<18:36,  7.11s/it]"
     ]
    },
    {
     "name": "stdout",
     "output_type": "stream",
     "text": [
      "Processing fin_id_79.jpg: 12 words detected\n",
      "Processing img_07910.png: 6 words detected\n",
      "Processing img_07169.png: 6 words detected\n",
      "Processing img_07246.png: 10 words detected\n",
      "Processing img_06851.png: 12 words detected\n",
      "Processing img_06559.png: 6 words detected\n",
      "Processing img_07912.png: 14 words detected\n",
      "Processing img_06752.png: 4 words detected\n",
      "Processing img_06803.png: 20 words detected\n",
      "Processing rus_internalpassport_39.jpg: 9 words detected\n"
     ]
    },
    {
     "name": "stderr",
     "output_type": "stream",
     "text": [
      "\r",
      "Processing batches:  52%|██████████████████████████▌                        | 169/325 [20:12<18:24,  7.08s/it]"
     ]
    },
    {
     "name": "stdout",
     "output_type": "stream",
     "text": [
      "💾 Saved chunk 168 with 10 samples\n",
      "Processing img_07567.png: 7 words detected\n",
      "Processing img_07325.png: 11 words detected\n",
      "Processing img_08510.png: 9 words detected\n",
      "Processing img_08660.png: 22 words detected\n",
      "Processing img_08260.png: 2 words detected\n",
      "Processing img_08939.png: 15 words detected\n",
      "Processing img_08411.png: 5 words detected\n",
      "Processing est_id_80.jpg: 4 words detected\n",
      "Processing svk_id_66.jpg: 27 words detected\n",
      "Processing img_07607.png: 26 words detected\n",
      "Processed 1700/3244 samples. GPU memory: 0.57GB\n",
      "💾 Saved chunk 169 with 10 samples\n"
     ]
    },
    {
     "name": "stderr",
     "output_type": "stream",
     "text": [
      "\r",
      "Processing batches:  52%|██████████████████████████▋                        | 170/325 [20:20<19:01,  7.36s/it]"
     ]
    },
    {
     "name": "stdout",
     "output_type": "stream",
     "text": [
      "Processing img_07471.png: 6 words detected\n",
      "Processing img_08180.png: 8 words detected\n",
      "Processing img_07520.png: 6 words detected\n",
      "Processing img_07432.png: 8 words detected\n",
      "Processing img_06605.png: 8 words detected\n",
      "Processing img_08790.png: 15 words detected\n",
      "Processing grc_passport_91.jpg: 31 words detected\n",
      "Processing img_08504.png: 10 words detected\n",
      "Processing img_07508.png: 15 words detected\n",
      "Processing img_08781.png: 2 words detected\n"
     ]
    },
    {
     "name": "stderr",
     "output_type": "stream",
     "text": [
      "\r",
      "Processing batches:  53%|██████████████████████████▊                        | 171/325 [20:27<18:34,  7.24s/it]"
     ]
    },
    {
     "name": "stdout",
     "output_type": "stream",
     "text": [
      "💾 Saved chunk 170 with 10 samples\n",
      "Processing img_06634.png: 3 words detected\n",
      "Processing img_07851.png: 6 words detected\n",
      "Processing img_06948.png: 9 words detected\n",
      "Processing img_07730.png: 5 words detected\n",
      "Processing img_08198.png: 12 words detected\n",
      "Processing img_07388.png: 14 words detected\n",
      "Processing svk_id_68.jpg: 4 words detected\n",
      "Processing img_07483.png: 6 words detected\n",
      "Processing img_07321.png: 4 words detected\n",
      "Processing img_08913.png: 11 words detected\n"
     ]
    },
    {
     "name": "stderr",
     "output_type": "stream",
     "text": [
      "\r",
      "Processing batches:  53%|██████████████████████████▉                        | 172/325 [20:34<18:06,  7.10s/it]"
     ]
    },
    {
     "name": "stdout",
     "output_type": "stream",
     "text": [
      "💾 Saved chunk 171 with 10 samples\n",
      "Processing img_07430.png: 8 words detected\n",
      "Processing img_07965.png: 4 words detected\n",
      "Processing img_07028.png: 5 words detected\n",
      "Processing img_06959.png: 18 words detected\n",
      "Processing img_07236.png: 7 words detected\n",
      "Processing img_08726.png: 10 words detected\n",
      "Processing img_08555.png: 10 words detected\n",
      "Processing img_07358.png: 14 words detected\n",
      "Processing img_08792.png: 5 words detected\n",
      "Processing grc_passport_39.jpg: 20 words detected\n"
     ]
    },
    {
     "name": "stderr",
     "output_type": "stream",
     "text": [
      "\r",
      "Processing batches:  53%|███████████████████████████▏                       | 173/325 [20:41<17:48,  7.03s/it]"
     ]
    },
    {
     "name": "stdout",
     "output_type": "stream",
     "text": [
      "💾 Saved chunk 172 with 10 samples\n",
      "Processing img_07476.png: 9 words detected\n",
      "Processing rus_internalpassport_45.jpg: 12 words detected\n",
      "Processing fin_id_95.jpg: 19 words detected\n",
      "Processing srb_passport_24.jpg: 20 words detected\n",
      "Processing fin_id_72.jpg: 11 words detected\n",
      "Processing srb_passport_05.jpg: 33 words detected\n",
      "Processing img_07240.png: 8 words detected\n",
      "Processing svk_id_30.jpg: 18 words detected\n",
      "Processing img_08534.png: 6 words detected\n",
      "Processing img_08153.png: 8 words detected\n"
     ]
    },
    {
     "name": "stderr",
     "output_type": "stream",
     "text": [
      "\r",
      "Processing batches:  54%|███████████████████████████▎                       | 174/325 [20:50<19:07,  7.60s/it]"
     ]
    },
    {
     "name": "stdout",
     "output_type": "stream",
     "text": [
      "💾 Saved chunk 173 with 10 samples\n",
      "Processing img_07178.png: 14 words detected\n",
      "Processing img_06786.png: 9 words detected\n",
      "Processing svk_id_58.jpg: 2 words detected\n",
      "Processing img_07260.png: 8 words detected\n",
      "Processing img_07084.png: 4 words detected\n",
      "Processing img_08946.png: 13 words detected\n",
      "Processing img_08090.png: 1 words detected\n",
      "Processing img_08856.png: 10 words detected\n",
      "Processing img_08581.png: 10 words detected\n",
      "Processing img_08706.png: 5 words detected\n",
      "Processed 1750/3244 samples. GPU memory: 0.57GB\n",
      "💾 Saved chunk 174 with 10 samples\n"
     ]
    },
    {
     "name": "stderr",
     "output_type": "stream",
     "text": [
      "\r",
      "Processing batches:  54%|███████████████████████████▍                       | 175/325 [20:57<18:23,  7.35s/it]"
     ]
    },
    {
     "name": "stdout",
     "output_type": "stream",
     "text": [
      "Processing img_07764.png: 20 words detected\n",
      "Processing rus_internalpassport_53.jpg: 3 words detected\n",
      "Processing img_08582.png: 12 words detected\n",
      "Processing img_08708.png: 11 words detected\n",
      "Processing svk_id_21.jpg: 34 words detected\n",
      "Processing img_06998.png: 5 words detected\n",
      "Processing img_07035.png: 21 words detected\n",
      "Processing img_08047.png: 7 words detected\n",
      "Processing img_08463.png: 7 words detected\n",
      "Processing srb_passport_93.jpg: 34 words detected\n",
      "💾 Saved chunk 175 with 10 samples\n"
     ]
    },
    {
     "name": "stderr",
     "output_type": "stream",
     "text": [
      "\r",
      "Processing batches:  54%|███████████████████████████▌                       | 176/325 [21:04<18:39,  7.51s/it]"
     ]
    },
    {
     "name": "stdout",
     "output_type": "stream",
     "text": [
      "Processing img_07798.png: 31 words detected\n",
      "Processing img_08592.png: 4 words detected\n",
      "Processing img_08906.png: 7 words detected\n",
      "Processing srb_passport_65.jpg: 41 words detected\n",
      "Processing img_07120.png: 14 words detected\n",
      "Processing img_08961.png: 7 words detected\n",
      "Processing img_06618.png: 3 words detected\n",
      "Processing rus_internalpassport_08.jpg: 10 words detected\n",
      "Processing img_07516.png: 2 words detected\n",
      "Processing img_08767.png: 3 words detected\n"
     ]
    },
    {
     "name": "stderr",
     "output_type": "stream",
     "text": [
      "\r",
      "Processing batches:  54%|███████████████████████████▊                       | 177/325 [21:12<18:14,  7.40s/it]"
     ]
    },
    {
     "name": "stdout",
     "output_type": "stream",
     "text": [
      "💾 Saved chunk 176 with 10 samples\n",
      "Processing img_08556.png: 9 words detected\n",
      "Processing img_06858.png: 7 words detected\n",
      "Processing img_07705.png: 5 words detected\n",
      "Processing est_id_18.jpg: 15 words detected\n",
      "Processing img_07577.png: 21 words detected\n",
      "Processing img_07175.png: 8 words detected\n",
      "Processing img_08257.png: 9 words detected\n",
      "Processing img_07061.png: 20 words detected\n",
      "Processing img_06666.png: 11 words detected\n",
      "Processing est_id_32.jpg: 1 words detected\n"
     ]
    },
    {
     "name": "stderr",
     "output_type": "stream",
     "text": [
      "\r",
      "Processing batches:  55%|███████████████████████████▉                       | 178/325 [21:18<17:35,  7.18s/it]"
     ]
    },
    {
     "name": "stdout",
     "output_type": "stream",
     "text": [
      "💾 Saved chunk 177 with 10 samples\n",
      "Processing img_07350.png: 7 words detected\n",
      "Processing img_08561.png: 5 words detected\n",
      "Processing lva_passport_03.jpg: 19 words detected\n",
      "Processing img_08416.png: 10 words detected\n",
      "Processing img_07165.png: 3 words detected\n",
      "Processing img_07222.png: 6 words detected\n",
      "Processing img_07988.png: 6 words detected\n",
      "Processing img_08486.png: 5 words detected\n",
      "Processing img_08108.png: 3 words detected\n",
      "Processing fin_id_71.jpg: 1 words detected\n"
     ]
    },
    {
     "name": "stderr",
     "output_type": "stream",
     "text": [
      "\r",
      "Processing batches:  55%|████████████████████████████                       | 179/325 [21:26<17:35,  7.23s/it]"
     ]
    },
    {
     "name": "stdout",
     "output_type": "stream",
     "text": [
      "💾 Saved chunk 178 with 10 samples\n",
      "Processing lva_passport_34.jpg: 21 words detected\n",
      "Processing img_08087.png: 6 words detected\n",
      "Processing img_07948.png: 11 words detected\n",
      "Processing img_08978.png: 8 words detected\n",
      "Processing rus_internalpassport_88.jpg: 8 words detected\n",
      "Processing img_07659.png: 11 words detected\n",
      "Processing img_07406.png: 12 words detected\n",
      "Processing img_08176.png: 7 words detected\n",
      "Processing img_06883.png: 3 words detected\n",
      "Processing img_07412.png: 5 words detected\n",
      "Processed 1800/3244 samples. GPU memory: 0.57GB\n",
      "💾 Saved chunk 179 with 10 samples\n"
     ]
    },
    {
     "name": "stderr",
     "output_type": "stream",
     "text": [
      "\r",
      "Processing batches:  55%|████████████████████████████▏                      | 180/325 [21:32<17:01,  7.04s/it]"
     ]
    },
    {
     "name": "stdout",
     "output_type": "stream",
     "text": [
      "Processing img_07967.png: 16 words detected\n",
      "Processing img_08738.png: 20 words detected\n",
      "Processing img_07234.png: 7 words detected\n",
      "Processing img_08056.png: 5 words detected\n",
      "Processing img_07828.png: 18 words detected\n",
      "Processing grc_passport_90.jpg: 4 words detected\n",
      "Processing img_08678.png: 15 words detected\n",
      "Processing srb_passport_44.jpg: 25 words detected\n",
      "Processing img_07219.png: 20 words detected\n",
      "Processing img_08081.png: 7 words detected\n"
     ]
    },
    {
     "name": "stderr",
     "output_type": "stream",
     "text": [
      "\r",
      "Processing batches:  56%|████████████████████████████▍                      | 181/325 [21:41<18:06,  7.55s/it]"
     ]
    },
    {
     "name": "stdout",
     "output_type": "stream",
     "text": [
      "💾 Saved chunk 180 with 10 samples\n",
      "Processing img_07528.png: 9 words detected\n",
      "Processing lva_passport_37.jpg: 37 words detected\n",
      "Processing fin_id_80.jpg: 13 words detected\n",
      "Processing srb_passport_79.jpg: 16 words detected\n",
      "Processing img_08234.png: 12 words detected\n",
      "Processing rus_internalpassport_97.jpg: 10 words detected\n",
      "Processing img_08881.png: 19 words detected\n",
      "Processing lva_passport_82.jpg: 24 words detected\n",
      "Processing img_06923.png: 4 words detected\n",
      "Processing img_07546.png: 8 words detected\n",
      "💾 Saved chunk 181 with 10 samples\n"
     ]
    },
    {
     "name": "stderr",
     "output_type": "stream",
     "text": [
      "\r",
      "Processing batches:  56%|████████████████████████████▌                      | 182/325 [21:49<18:39,  7.83s/it]"
     ]
    },
    {
     "name": "stdout",
     "output_type": "stream",
     "text": [
      "Processing img_07414.png: 6 words detected\n",
      "Processing svk_id_32.jpg: 20 words detected\n",
      "Processing svk_id_99.jpg: 15 words detected\n",
      "Processing img_08974.png: 5 words detected\n",
      "Processing img_08636.png: 12 words detected\n",
      "Processing svk_id_20.jpg: 9 words detected\n",
      "Processing img_08406.png: 2 words detected\n",
      "Processing img_06598.png: 8 words detected\n",
      "Processing img_07006.png: 1 words detected\n",
      "Processing est_id_44.jpg: 11 words detected\n",
      "💾 Saved chunk 182 with 10 samples\n"
     ]
    },
    {
     "name": "stderr",
     "output_type": "stream",
     "text": [
      "\r",
      "Processing batches:  56%|████████████████████████████▋                      | 183/325 [21:58<18:49,  7.95s/it]"
     ]
    },
    {
     "name": "stdout",
     "output_type": "stream",
     "text": [
      "Processing img_07655.png: 8 words detected\n",
      "Processing img_07226.png: 12 words detected\n",
      "Processing img_06644.png: 1 words detected\n",
      "Processing img_07145.png: 2 words detected\n",
      "Processing img_07055.png: 10 words detected\n",
      "Processing img_08971.png: 7 words detected\n",
      "Processing img_06938.png: 4 words detected\n",
      "Processing img_07095.png: 16 words detected\n",
      "Processing svk_id_27.jpg: 10 words detected\n",
      "Processing img_07348.png: 10 words detected\n"
     ]
    },
    {
     "name": "stderr",
     "output_type": "stream",
     "text": [
      "\r",
      "Processing batches:  57%|████████████████████████████▊                      | 184/325 [22:04<17:22,  7.39s/it]"
     ]
    },
    {
     "name": "stdout",
     "output_type": "stream",
     "text": [
      "💾 Saved chunk 183 with 10 samples\n",
      "Processing img_08068.png: 6 words detected\n",
      "Processing img_07715.png: 8 words detected\n",
      "Processing svk_id_69.jpg: 7 words detected\n",
      "Processing img_06545.png: 33 words detected\n",
      "Processing img_06848.png: 13 words detected\n",
      "Processing svk_id_95.jpg: 32 words detected\n",
      "Processing srb_passport_02.jpg: 32 words detected\n",
      "Processing img_06679.png: 10 words detected\n",
      "Processing img_08589.png: 5 words detected\n",
      "Processing img_07679.png: 12 words detected\n",
      "Processed 1850/3244 samples. GPU memory: 0.57GB\n"
     ]
    },
    {
     "name": "stderr",
     "output_type": "stream",
     "text": [
      "\r",
      "Processing batches:  57%|█████████████████████████████                      | 185/325 [22:11<17:24,  7.46s/it]"
     ]
    },
    {
     "name": "stdout",
     "output_type": "stream",
     "text": [
      "💾 Saved chunk 184 with 10 samples\n",
      "Processing rus_internalpassport_49.jpg: 6 words detected\n",
      "Processing img_08757.png: 2 words detected\n",
      "Processing img_07703.png: 6 words detected\n",
      "Processing img_06743.png: 3 words detected\n",
      "Processing img_08066.png: 15 words detected\n",
      "Processing img_08940.png: 11 words detected\n",
      "Processing img_06954.png: 5 words detected\n",
      "Processing img_07578.png: 10 words detected\n",
      "Processing grc_passport_59.jpg: 3 words detected\n",
      "Processing img_08116.png: 5 words detected\n",
      "💾 Saved chunk 185 with 10 samples\n"
     ]
    },
    {
     "name": "stderr",
     "output_type": "stream",
     "text": [
      "\r",
      "Processing batches:  57%|█████████████████████████████▏                     | 186/325 [22:18<17:04,  7.37s/it]"
     ]
    },
    {
     "name": "stdout",
     "output_type": "stream",
     "text": [
      "Processing img_06769.png: 20 words detected\n",
      "Processing img_08764.png: 6 words detected\n",
      "Processing img_06932.png: 11 words detected\n",
      "Processing fin_id_48.jpg: 15 words detected\n",
      "Processing img_07841.png: 20 words detected\n",
      "Processing img_07999.png: 5 words detected\n",
      "Processing img_07897.png: 20 words detected\n",
      "Processing img_07274.png: 9 words detected\n",
      "Processing img_07189.png: 11 words detected\n",
      "Processing img_08227.png: 5 words detected\n"
     ]
    },
    {
     "name": "stderr",
     "output_type": "stream",
     "text": [
      "\r",
      "Processing batches:  58%|█████████████████████████████▎                     | 187/325 [22:26<16:45,  7.29s/it]"
     ]
    },
    {
     "name": "stdout",
     "output_type": "stream",
     "text": [
      "💾 Saved chunk 186 with 10 samples\n",
      "Processing img_07836.png: 20 words detected\n",
      "Processing img_08239.png: 4 words detected\n",
      "Processing img_06657.png: 3 words detected\n",
      "Processing img_08697.png: 8 words detected\n",
      "Processing img_07754.png: 11 words detected\n",
      "Processing img_08186.png: 17 words detected\n",
      "Processing img_08178.png: 8 words detected\n",
      "Processing fin_id_92.jpg: 19 words detected\n",
      "Processing img_08690.png: 4 words detected\n",
      "Processing img_06780.png: 12 words detected\n"
     ]
    },
    {
     "name": "stderr",
     "output_type": "stream",
     "text": [
      "\r",
      "Processing batches:  58%|█████████████████████████████▌                     | 188/325 [22:33<16:53,  7.40s/it]"
     ]
    },
    {
     "name": "stdout",
     "output_type": "stream",
     "text": [
      "💾 Saved chunk 187 with 10 samples\n",
      "Processing img_08038.png: 15 words detected\n",
      "Processing img_06499.png: 1 words detected\n",
      "Processing img_06728.png: 9 words detected\n",
      "Processing lva_passport_60.jpg: 42 words detected\n",
      "Processing img_06746.png: 9 words detected\n",
      "Processing img_06689.png: 11 words detected\n",
      "Processing img_07952.png: 5 words detected\n",
      "Processing img_08991.png: 6 words detected\n",
      "Processing img_07397.png: 7 words detected\n",
      "Processing img_07384.png: 4 words detected\n"
     ]
    },
    {
     "name": "stderr",
     "output_type": "stream",
     "text": [
      "\r",
      "Processing batches:  58%|█████████████████████████████▋                     | 189/325 [22:40<16:30,  7.29s/it]"
     ]
    },
    {
     "name": "stdout",
     "output_type": "stream",
     "text": [
      "💾 Saved chunk 188 with 10 samples\n",
      "Processing img_07127.png: 9 words detected\n",
      "Processing img_09004.png: 4 words detected\n",
      "Processing img_07832.png: 10 words detected\n",
      "Processing srb_passport_88.jpg: 18 words detected\n",
      "Processing img_08002.png: 15 words detected\n",
      "Processing img_08438.png: 16 words detected\n",
      "Processing lva_passport_68.jpg: 39 words detected\n",
      "Processing img_08136.png: 10 words detected\n",
      "Processing img_08252.png: 12 words detected\n",
      "Processing grc_passport_73.jpg: 26 words detected\n",
      "Processed 1900/3244 samples. GPU memory: 0.57GB\n"
     ]
    },
    {
     "name": "stderr",
     "output_type": "stream",
     "text": [
      "\r",
      "Processing batches:  58%|█████████████████████████████▊                     | 190/325 [22:48<16:40,  7.41s/it]"
     ]
    },
    {
     "name": "stdout",
     "output_type": "stream",
     "text": [
      "💾 Saved chunk 189 with 10 samples\n",
      "Processing rus_internalpassport_56.jpg: 7 words detected\n",
      "Processing img_08884.png: 7 words detected\n",
      "Processing img_07584.png: 5 words detected\n",
      "Processing img_06925.png: 9 words detected\n",
      "Processing srb_passport_40.jpg: 25 words detected\n",
      "Processing img_08310.png: 2 words detected\n",
      "Processing img_08666.png: 5 words detected\n",
      "Processing img_07553.png: 4 words detected\n",
      "Processing img_08339.png: 20 words detected\n",
      "Processing img_07495.png: 7 words detected\n",
      "💾 Saved chunk 190 with 10 samples\n"
     ]
    },
    {
     "name": "stderr",
     "output_type": "stream",
     "text": [
      "\r",
      "Processing batches:  59%|█████████████████████████████▉                     | 191/325 [22:55<16:18,  7.30s/it]"
     ]
    },
    {
     "name": "stdout",
     "output_type": "stream",
     "text": [
      "Processing img_07322.png: 10 words detected\n",
      "Processing img_07938.png: 7 words detected\n",
      "Processing img_08778.png: 5 words detected\n",
      "Processing img_08663.png: 4 words detected\n",
      "Processing img_08769.png: 10 words detected\n",
      "Processing img_07961.png: 7 words detected\n",
      "Processing img_08297.png: 10 words detected\n",
      "Processing img_07410.png: 8 words detected\n",
      "Processing img_08193.png: 9 words detected\n",
      "Processing img_08795.png: 4 words detected\n"
     ]
    },
    {
     "name": "stderr",
     "output_type": "stream",
     "text": [
      "\r",
      "Processing batches:  59%|██████████████████████████████▏                    | 192/325 [23:03<16:20,  7.37s/it]"
     ]
    },
    {
     "name": "stdout",
     "output_type": "stream",
     "text": [
      "💾 Saved chunk 191 with 10 samples\n",
      "Processing img_08267.png: 5 words detected\n",
      "Processing img_08275.png: 13 words detected\n",
      "Processing img_08843.png: 9 words detected\n",
      "Processing img_08802.png: 4 words detected\n",
      "Processing lva_passport_26.jpg: 40 words detected\n",
      "Processing grc_passport_75.jpg: 31 words detected\n",
      "Processing rus_internalpassport_11.jpg: 10 words detected\n",
      "Processing img_08980.png: 14 words detected\n",
      "Processing img_07304.png: 15 words detected\n",
      "Processing img_08972.png: 3 words detected\n"
     ]
    },
    {
     "name": "stderr",
     "output_type": "stream",
     "text": [
      "\r",
      "Processing batches:  59%|██████████████████████████████▎                    | 193/325 [23:10<16:04,  7.31s/it]"
     ]
    },
    {
     "name": "stdout",
     "output_type": "stream",
     "text": [
      "💾 Saved chunk 192 with 10 samples\n",
      "Processing img_07521.png: 10 words detected\n",
      "Processing img_08327.png: 5 words detected\n",
      "Processing img_08968.png: 2 words detected\n",
      "Processing img_08488.png: 4 words detected\n",
      "Processing img_06866.png: 15 words detected\n",
      "Processing img_08821.png: 18 words detected\n",
      "Processing img_08542.png: 6 words detected\n",
      "Processing fin_id_23.jpg: 2 words detected\n",
      "Processing img_08386.png: 2 words detected\n",
      "Processing img_07297.png: 17 words detected\n"
     ]
    },
    {
     "name": "stderr",
     "output_type": "stream",
     "text": [
      "\r",
      "Processing batches:  60%|██████████████████████████████▍                    | 194/325 [23:17<15:41,  7.18s/it]"
     ]
    },
    {
     "name": "stdout",
     "output_type": "stream",
     "text": [
      "💾 Saved chunk 193 with 10 samples\n",
      "Processing img_08739.png: 8 words detected\n",
      "Processing lva_passport_19.jpg: 37 words detected\n",
      "Processing svk_id_51.jpg: 27 words detected\n",
      "Processing img_07360.png: 9 words detected\n",
      "Processing img_08225.png: 12 words detected\n",
      "Processing img_06616.png: 11 words detected\n",
      "Processing lva_passport_65.jpg: 40 words detected\n",
      "Processing img_07460.png: 5 words detected\n",
      "Processing img_07380.png: 11 words detected\n",
      "Processing img_08001.png: 10 words detected\n",
      "Processed 1950/3244 samples. GPU memory: 0.57GB\n",
      "💾 Saved chunk 194 with 10 samples\n"
     ]
    },
    {
     "name": "stderr",
     "output_type": "stream",
     "text": [
      "\r",
      "Processing batches:  60%|██████████████████████████████▌                    | 195/325 [23:25<16:03,  7.42s/it]"
     ]
    },
    {
     "name": "stdout",
     "output_type": "stream",
     "text": [
      "Processing img_08003.png: 19 words detected\n",
      "Processing fin_id_61.jpg: 18 words detected\n",
      "Processing rus_internalpassport_26.jpg: 3 words detected\n",
      "Processing img_07331.png: 15 words detected\n",
      "Processing est_id_29.jpg: 1 words detected\n",
      "Processing img_08369.png: 13 words detected\n",
      "Processing img_06608.png: 9 words detected\n",
      "Processing img_07786.png: 5 words detected\n",
      "Processing grc_passport_32.jpg: 29 words detected\n",
      "Processing fin_id_24.jpg: 1 words detected\n",
      "💾 Saved chunk 195 with 10 samples\n"
     ]
    },
    {
     "name": "stderr",
     "output_type": "stream",
     "text": [
      "\r",
      "Processing batches:  60%|██████████████████████████████▊                    | 196/325 [23:32<15:56,  7.41s/it]"
     ]
    },
    {
     "name": "stdout",
     "output_type": "stream",
     "text": [
      "Processing img_07031.png: 12 words detected\n",
      "Processing img_07091.png: 4 words detected\n",
      "Processing img_07371.png: 5 words detected\n",
      "Processing img_07899.png: 9 words detected\n",
      "Processing img_08765.png: 6 words detected\n",
      "Processing grc_passport_76.jpg: 25 words detected\n",
      "Processing fin_id_74.jpg: 3 words detected\n",
      "Processing img_09007.png: 10 words detected\n",
      "Processing img_08070.png: 7 words detected\n",
      "Processing img_07087.png: 3 words detected\n",
      "💾 Saved chunk 196 with 10 samples\n"
     ]
    },
    {
     "name": "stderr",
     "output_type": "stream",
     "text": [
      "\r",
      "Processing batches:  61%|██████████████████████████████▉                    | 197/325 [23:40<15:56,  7.47s/it]"
     ]
    },
    {
     "name": "stdout",
     "output_type": "stream",
     "text": [
      "Processing img_06808.png: 3 words detected\n",
      "Processing img_07474.png: 3 words detected\n",
      "Processing img_08024.png: 6 words detected\n",
      "Processing img_06757.png: 17 words detected\n",
      "Processing img_08086.png: 18 words detected\n",
      "Processing img_06773.png: 1 words detected\n",
      "Processing img_08100.png: 20 words detected\n",
      "Processing img_08107.png: 5 words detected\n",
      "Processing img_07067.png: 19 words detected\n",
      "Processing lva_passport_16.jpg: 22 words detected\n",
      "💾 Saved chunk 197 with 10 samples\n"
     ]
    },
    {
     "name": "stderr",
     "output_type": "stream",
     "text": [
      "\r",
      "Processing batches:  61%|███████████████████████████████                    | 198/325 [23:47<15:39,  7.39s/it]"
     ]
    },
    {
     "name": "stdout",
     "output_type": "stream",
     "text": [
      "Processing grc_passport_55.jpg: 1 words detected\n",
      "Processing img_07532.png: 3 words detected\n",
      "Processing img_07194.png: 10 words detected\n",
      "Processing img_07276.png: 9 words detected\n",
      "Processing img_06741.png: 8 words detected\n",
      "Processing img_08892.png: 17 words detected\n",
      "Processing rus_internalpassport_37.jpg: 8 words detected\n",
      "Processing fin_id_45.jpg: 10 words detected\n",
      "Processing fin_id_90.jpg: 7 words detected\n",
      "Processing lva_passport_50.jpg: 39 words detected\n",
      "💾 Saved chunk 198 with 10 samples\n"
     ]
    },
    {
     "name": "stderr",
     "output_type": "stream",
     "text": [
      "\r",
      "Processing batches:  61%|███████████████████████████████▏                   | 199/325 [23:55<16:00,  7.62s/it]"
     ]
    },
    {
     "name": "stdout",
     "output_type": "stream",
     "text": [
      "Processing img_08050.png: 11 words detected\n",
      "Processing srb_passport_92.jpg: 4 words detected\n",
      "Processing img_07587.png: 10 words detected\n",
      "Processing lva_passport_99.jpg: 44 words detected\n",
      "Processing img_07024.png: 15 words detected\n",
      "Processing img_08294.png: 8 words detected\n",
      "Processing img_06783.png: 5 words detected\n",
      "Processing img_07606.png: 5 words detected\n",
      "Processing grc_passport_64.jpg: 28 words detected\n",
      "Processing img_06814.png: 17 words detected\n",
      "Processed 2000/3244 samples. GPU memory: 0.57GB\n",
      "💾 Saved chunk 199 with 10 samples\n"
     ]
    },
    {
     "name": "stderr",
     "output_type": "stream",
     "text": [
      "\r",
      "Processing batches:  62%|███████████████████████████████▍                   | 200/325 [24:02<15:46,  7.57s/it]"
     ]
    },
    {
     "name": "stdout",
     "output_type": "stream",
     "text": [
      "Processing img_07287.png: 7 words detected\n",
      "Processing img_08508.png: 9 words detected\n",
      "Processing img_08230.png: 5 words detected\n",
      "Processing img_07614.png: 7 words detected\n",
      "Processing grc_passport_85.jpg: 21 words detected\n",
      "Processing rus_internalpassport_75.jpg: 11 words detected\n",
      "Processing img_06790.png: 4 words detected\n",
      "Processing img_07245.png: 12 words detected\n",
      "Processing img_07791.png: 6 words detected\n",
      "Processing img_07136.png: 8 words detected\n",
      "💾 Saved chunk 200 with 10 samples\n"
     ]
    },
    {
     "name": "stderr",
     "output_type": "stream",
     "text": [
      "\r",
      "Processing batches:  62%|███████████████████████████████▌                   | 201/325 [24:10<15:52,  7.68s/it]"
     ]
    },
    {
     "name": "stdout",
     "output_type": "stream",
     "text": [
      "Processing img_07957.png: 2 words detected\n",
      "Processing srb_passport_95.jpg: 7 words detected\n",
      "Processing fin_id_12.jpg: 3 words detected\n",
      "Processing img_08656.png: 8 words detected\n",
      "Processing img_08501.png: 5 words detected\n",
      "Processing rus_internalpassport_27.jpg: 9 words detected\n",
      "Processing img_06887.png: 4 words detected\n",
      "Processing lva_passport_44.jpg: 36 words detected\n",
      "Processing img_07692.png: 23 words detected\n",
      "Processing img_07112.png: 7 words detected\n"
     ]
    },
    {
     "name": "stderr",
     "output_type": "stream",
     "text": [
      "\r",
      "Processing batches:  62%|███████████████████████████████▋                   | 202/325 [24:18<15:43,  7.67s/it]"
     ]
    },
    {
     "name": "stdout",
     "output_type": "stream",
     "text": [
      "💾 Saved chunk 201 with 10 samples\n",
      "Processing fin_id_30.jpg: 15 words detected\n",
      "Processing rus_internalpassport_16.jpg: 9 words detected\n",
      "Processing img_06888.png: 14 words detected\n",
      "Processing img_06886.png: 6 words detected\n",
      "Processing img_06792.png: 16 words detected\n",
      "Processing img_07884.png: 7 words detected\n",
      "Processing img_06831.png: 3 words detected\n",
      "Processing srb_passport_64.jpg: 32 words detected\n",
      "Processing img_08246.png: 10 words detected\n",
      "Processing img_07065.png: 3 words detected\n",
      "💾 Saved chunk 202 with 10 samples\n"
     ]
    },
    {
     "name": "stderr",
     "output_type": "stream",
     "text": [
      "\r",
      "Processing batches:  62%|███████████████████████████████▊                   | 203/325 [24:25<15:08,  7.45s/it]"
     ]
    },
    {
     "name": "stdout",
     "output_type": "stream",
     "text": [
      "Processing lva_passport_77.jpg: 35 words detected\n",
      "Processing img_06816.png: 25 words detected\n",
      "Processing img_07661.png: 5 words detected\n",
      "Processing img_08415.png: 9 words detected\n",
      "Processing img_07168.png: 19 words detected\n",
      "Processing img_07757.png: 10 words detected\n",
      "Processing img_07907.png: 7 words detected\n",
      "Processing img_06890.png: 9 words detected\n",
      "Processing img_07395.png: 9 words detected\n",
      "Processing img_07014.png: 5 words detected\n",
      "💾 Saved chunk 203 with 10 samples\n"
     ]
    },
    {
     "name": "stderr",
     "output_type": "stream",
     "text": [
      "\r",
      "Processing batches:  63%|████████████████████████████████                   | 204/325 [24:32<15:02,  7.46s/it]"
     ]
    },
    {
     "name": "stdout",
     "output_type": "stream",
     "text": [
      "Processing img_08692.png: 9 words detected\n",
      "Processing svk_id_13.jpg: 34 words detected\n",
      "Processing srb_passport_20.jpg: 26 words detected\n",
      "Processing img_08593.png: 8 words detected\n",
      "Processing img_08085.png: 10 words detected\n",
      "Processing img_07007.png: 11 words detected\n",
      "Processing est_id_78.jpg: 15 words detected\n",
      "Processing img_07027.png: 8 words detected\n",
      "Processing grc_passport_31.jpg: 2 words detected\n",
      "Processing img_07563.png: 1 words detected\n",
      "Processed 2050/3244 samples. GPU memory: 0.57GB\n",
      "💾 Saved chunk 204 with 10 samples\n"
     ]
    },
    {
     "name": "stderr",
     "output_type": "stream",
     "text": [
      "\r",
      "Processing batches:  63%|████████████████████████████████▏                  | 205/325 [24:42<15:56,  7.97s/it]"
     ]
    },
    {
     "name": "stdout",
     "output_type": "stream",
     "text": [
      "Processing img_06611.png: 4 words detected\n",
      "Processing img_08067.png: 4 words detected\n",
      "Processing img_06477.png: 10 words detected\n",
      "Processing img_07057.png: 3 words detected\n",
      "Processing img_08566.png: 1 words detected\n",
      "Processing img_07166.png: 17 words detected\n",
      "Processing img_08145.png: 13 words detected\n",
      "Processing img_08135.png: 3 words detected\n",
      "Processing img_08640.png: 7 words detected\n",
      "Processing img_08159.png: 8 words detected\n"
     ]
    },
    {
     "name": "stderr",
     "output_type": "stream",
     "text": [
      "\r",
      "Processing batches:  63%|████████████████████████████████▎                  | 206/325 [24:47<14:34,  7.35s/it]"
     ]
    },
    {
     "name": "stdout",
     "output_type": "stream",
     "text": [
      "💾 Saved chunk 205 with 10 samples\n",
      "Processing grc_passport_82.jpg: 4 words detected\n",
      "Processing img_07517.png: 7 words detected\n",
      "Processing img_07649.png: 4 words detected\n",
      "Processing img_07896.png: 7 words detected\n",
      "Processing img_07667.png: 12 words detected\n",
      "Processing svk_id_05.jpg: 13 words detected\n",
      "Processing img_06554.png: 2 words detected\n",
      "Processing img_08532.png: 6 words detected\n",
      "Processing img_07053.png: 20 words detected\n",
      "Processing img_08827.png: 6 words detected\n"
     ]
    },
    {
     "name": "stderr",
     "output_type": "stream",
     "text": [
      "\r",
      "Processing batches:  64%|████████████████████████████████▍                  | 207/325 [24:55<14:27,  7.35s/it]"
     ]
    },
    {
     "name": "stdout",
     "output_type": "stream",
     "text": [
      "💾 Saved chunk 206 with 10 samples\n",
      "Processing est_id_47.jpg: 15 words detected\n",
      "Processing img_08602.png: 18 words detected\n",
      "Processing img_07599.png: 4 words detected\n",
      "Processing img_08648.png: 9 words detected\n",
      "Processing img_07872.png: 13 words detected\n",
      "Processing img_06933.png: 7 words detected\n",
      "Processing img_08458.png: 17 words detected\n",
      "Processing img_07167.png: 5 words detected\n",
      "Processing img_08222.png: 10 words detected\n",
      "Processing img_08995.png: 20 words detected\n",
      "💾 Saved chunk 207 with 10 samples\n"
     ]
    },
    {
     "name": "stderr",
     "output_type": "stream",
     "text": [
      "\r",
      "Processing batches:  64%|████████████████████████████████▋                  | 208/325 [25:02<14:06,  7.24s/it]"
     ]
    },
    {
     "name": "stdout",
     "output_type": "stream",
     "text": [
      "Processing img_08393.png: 8 words detected\n",
      "Processing img_08624.png: 14 words detected\n",
      "Processing img_06745.png: 5 words detected\n",
      "Processing img_07628.png: 12 words detected\n",
      "Processing img_08731.png: 9 words detected\n",
      "Processing srb_passport_13.jpg: 22 words detected\n",
      "Processing img_07271.png: 8 words detected\n",
      "Processing img_08819.png: 10 words detected\n",
      "Processing img_07309.png: 5 words detected\n",
      "Processing img_06584.png: 6 words detected\n",
      "💾 Saved chunk 208 with 10 samples\n"
     ]
    },
    {
     "name": "stderr",
     "output_type": "stream",
     "text": [
      "\r",
      "Processing batches:  64%|████████████████████████████████▊                  | 209/325 [25:09<13:46,  7.12s/it]"
     ]
    },
    {
     "name": "stdout",
     "output_type": "stream",
     "text": [
      "Processing img_07214.png: 13 words detected\n",
      "Processing srb_passport_57.jpg: 8 words detected\n",
      "Processing img_07962.png: 8 words detected\n",
      "Processing img_08869.png: 22 words detected\n",
      "Processing img_06481.png: 24 words detected\n",
      "Processing img_08322.png: 7 words detected\n",
      "Processing img_08979.png: 4 words detected\n",
      "Processing img_06782.png: 12 words detected\n",
      "Processing rus_internalpassport_14.jpg: 10 words detected\n",
      "Processing grc_passport_36.jpg: 29 words detected\n",
      "Processed 2100/3244 samples. GPU memory: 0.57GB\n",
      "💾 Saved chunk 209 with 10 samples\n"
     ]
    },
    {
     "name": "stderr",
     "output_type": "stream",
     "text": [
      "\r",
      "Processing batches:  65%|████████████████████████████████▉                  | 210/325 [25:18<14:40,  7.66s/it]"
     ]
    },
    {
     "name": "stdout",
     "output_type": "stream",
     "text": [
      "Processing img_07039.png: 11 words detected\n",
      "Processing img_06764.png: 3 words detected\n",
      "Processing img_08326.png: 7 words detected\n",
      "Processing img_07220.png: 5 words detected\n",
      "Processing img_07116.png: 8 words detected\n",
      "Processing rus_internalpassport_05.jpg: 6 words detected\n",
      "Processing lva_passport_11.jpg: 37 words detected\n",
      "Processing img_08562.png: 11 words detected\n",
      "Processing lva_passport_75.jpg: 24 words detected\n",
      "Processing img_06671.png: 22 words detected\n",
      "💾 Saved chunk 210 with 10 samples\n"
     ]
    },
    {
     "name": "stderr",
     "output_type": "stream",
     "text": [
      "\r",
      "Processing batches:  65%|█████████████████████████████████                  | 211/325 [25:25<14:26,  7.60s/it]"
     ]
    },
    {
     "name": "stdout",
     "output_type": "stream",
     "text": [
      "Processing img_07865.png: 7 words detected\n",
      "Processing img_07722.png: 6 words detected\n",
      "Processing img_08662.png: 4 words detected\n",
      "Processing img_06863.png: 6 words detected\n",
      "Processing img_06897.png: 15 words detected\n",
      "Processing est_id_28.jpg: 11 words detected\n",
      "Processing img_07045.png: 8 words detected\n",
      "Processing img_08682.png: 22 words detected\n",
      "Processing img_06945.png: 7 words detected\n",
      "Processing img_06832.png: 10 words detected\n",
      "💾 Saved chunk 211 with 10 samples\n"
     ]
    },
    {
     "name": "stderr",
     "output_type": "stream",
     "text": [
      "\r",
      "Processing batches:  65%|█████████████████████████████████▎                 | 212/325 [25:32<13:57,  7.41s/it]"
     ]
    },
    {
     "name": "stdout",
     "output_type": "stream",
     "text": [
      "Processing img_06528.png: 9 words detected\n",
      "Processing img_07524.png: 11 words detected\n",
      "Processing img_08023.png: 2 words detected\n",
      "Processing img_07612.png: 26 words detected\n",
      "Processing img_08625.png: 4 words detected\n",
      "Processing img_08071.png: 9 words detected\n",
      "Processing img_08000.png: 1 words detected\n",
      "Processing img_08307.png: 2 words detected\n",
      "Processing img_07739.png: 23 words detected\n",
      "Processing img_07198.png: 11 words detected\n",
      "💾 Saved chunk 212 with 10 samples\n"
     ]
    },
    {
     "name": "stderr",
     "output_type": "stream",
     "text": [
      "\r",
      "Processing batches:  66%|█████████████████████████████████▍                 | 213/325 [25:39<13:32,  7.25s/it]"
     ]
    },
    {
     "name": "stdout",
     "output_type": "stream",
     "text": [
      "Processing img_06738.png: 20 words detected\n",
      "Processing est_id_86.jpg: 10 words detected\n",
      "Processing img_07620.png: 7 words detected\n",
      "Processing img_08451.png: 16 words detected\n",
      "Processing img_08956.png: 14 words detected\n",
      "Processing img_07685.png: 17 words detected\n",
      "Processing img_07100.png: 12 words detected\n",
      "Processing img_08985.png: 7 words detected\n",
      "Processing img_08732.png: 13 words detected\n",
      "Processing img_08272.png: 14 words detected\n"
     ]
    },
    {
     "name": "stderr",
     "output_type": "stream",
     "text": [
      "\r",
      "Processing batches:  66%|█████████████████████████████████▌                 | 214/325 [25:46<13:08,  7.10s/it]"
     ]
    },
    {
     "name": "stdout",
     "output_type": "stream",
     "text": [
      "💾 Saved chunk 213 with 10 samples\n",
      "Processing img_07769.png: 13 words detected\n",
      "Processing img_07871.png: 11 words detected\n",
      "Processing img_06722.png: 10 words detected\n",
      "Processing img_07420.png: 11 words detected\n",
      "Processing img_07151.png: 6 words detected\n",
      "Processing fin_id_66.jpg: 2 words detected\n",
      "Processing rus_internalpassport_42.jpg: 2 words detected\n",
      "Processing img_08709.png: 1 words detected\n",
      "Processing img_07487.png: 15 words detected\n",
      "Processing img_06781.png: 8 words detected\n",
      "Processed 2150/3244 samples. GPU memory: 0.57GB\n",
      "💾 Saved chunk 214 with 10 samples\n"
     ]
    },
    {
     "name": "stderr",
     "output_type": "stream",
     "text": [
      "\r",
      "Processing batches:  66%|█████████████████████████████████▋                 | 215/325 [25:53<13:06,  7.15s/it]"
     ]
    },
    {
     "name": "stdout",
     "output_type": "stream",
     "text": [
      "Processing img_08161.png: 5 words detected\n",
      "Processing img_06962.png: 8 words detected\n",
      "Processing img_07608.png: 5 words detected\n",
      "Processing img_07799.png: 3 words detected\n",
      "Processing img_08695.png: 9 words detected\n",
      "Processing fin_id_63.jpg: 17 words detected\n",
      "Processing img_07195.png: 9 words detected\n",
      "Processing grc_passport_04.jpg: 3 words detected\n",
      "Processing img_07921.png: 21 words detected\n",
      "Processing est_id_22.jpg: 1 words detected\n",
      "💾 Saved chunk 215 with 10 samples\n"
     ]
    },
    {
     "name": "stderr",
     "output_type": "stream",
     "text": [
      "\r",
      "Processing batches:  66%|█████████████████████████████████▉                 | 216/325 [26:00<13:11,  7.26s/it]"
     ]
    },
    {
     "name": "stdout",
     "output_type": "stream",
     "text": [
      "Processing img_07505.png: 4 words detected\n",
      "Processing img_08033.png: 19 words detected\n",
      "Processing img_08725.png: 6 words detected\n",
      "Processing img_08754.png: 16 words detected\n",
      "Processing img_07137.png: 5 words detected\n",
      "Processing img_07771.png: 8 words detected\n",
      "Processing img_07514.png: 11 words detected\n",
      "Processing img_08506.png: 9 words detected\n",
      "Processing img_06876.png: 8 words detected\n",
      "Processing img_06944.png: 3 words detected\n"
     ]
    },
    {
     "name": "stderr",
     "output_type": "stream",
     "text": [
      "\r",
      "Processing batches:  67%|██████████████████████████████████                 | 217/325 [26:07<12:52,  7.15s/it]"
     ]
    },
    {
     "name": "stdout",
     "output_type": "stream",
     "text": [
      "💾 Saved chunk 216 with 10 samples\n",
      "Processing img_06918.png: 7 words detected\n",
      "Processing img_07367.png: 4 words detected\n",
      "Processing rus_internalpassport_76.jpg: 4 words detected\n",
      "Processing img_08830.png: 8 words detected\n",
      "Processing img_08715.png: 14 words detected\n",
      "Processing img_07248.png: 7 words detected\n",
      "Processing img_08525.png: 5 words detected\n",
      "Processing img_08448.png: 16 words detected\n",
      "Processing img_07107.png: 1 words detected\n",
      "Processing img_08657.png: 8 words detected\n",
      "💾 Saved chunk 217 with 10 samples\n"
     ]
    },
    {
     "name": "stderr",
     "output_type": "stream",
     "text": [
      "\r",
      "Processing batches:  67%|██████████████████████████████████▏                | 218/325 [26:14<12:24,  6.96s/it]"
     ]
    },
    {
     "name": "stdout",
     "output_type": "stream",
     "text": [
      "Processing img_08284.png: 8 words detected\n",
      "Processing svk_id_97.jpg: 26 words detected\n",
      "Processing img_07491.png: 5 words detected\n",
      "Processing img_07618.png: 8 words detected\n",
      "Processing img_08170.png: 9 words detected\n",
      "Processing img_07486.png: 12 words detected\n",
      "Processing img_06649.png: 14 words detected\n",
      "Processing rus_internalpassport_93.jpg: 10 words detected\n",
      "Processing svk_id_37.jpg: 11 words detected\n",
      "Processing img_07787.png: 19 words detected\n"
     ]
    },
    {
     "name": "stderr",
     "output_type": "stream",
     "text": [
      "\r",
      "Processing batches:  67%|██████████████████████████████████▎                | 219/325 [26:22<13:14,  7.49s/it]"
     ]
    },
    {
     "name": "stdout",
     "output_type": "stream",
     "text": [
      "💾 Saved chunk 218 with 10 samples\n",
      "Processing img_07488.png: 14 words detected\n",
      "Processing img_07288.png: 19 words detected\n",
      "Processing img_07986.png: 7 words detected\n",
      "Processing img_07308.png: 16 words detected\n",
      "Processing img_08836.png: 6 words detected\n",
      "Processing fin_id_99.jpg: 23 words detected\n",
      "Processing img_07680.png: 13 words detected\n",
      "Processing img_08618.png: 5 words detected\n",
      "Processing img_06735.png: 11 words detected\n",
      "Processing img_07022.png: 20 words detected\n",
      "Processed 2200/3244 samples. GPU memory: 0.57GB\n",
      "💾 Saved chunk 219 with 10 samples\n"
     ]
    },
    {
     "name": "stderr",
     "output_type": "stream",
     "text": [
      "\r",
      "Processing batches:  68%|██████████████████████████████████▌                | 220/325 [26:29<12:34,  7.19s/it]"
     ]
    },
    {
     "name": "stdout",
     "output_type": "stream",
     "text": [
      "Processing img_07043.png: 5 words detected\n",
      "Processing img_07419.png: 11 words detected\n",
      "Processing img_07063.png: 2 words detected\n",
      "Processing srb_passport_59.jpg: 33 words detected\n",
      "Processing img_08147.png: 8 words detected\n",
      "Processing img_08577.png: 1 words detected\n",
      "Processing img_06510.png: 1 words detected\n",
      "Processing fin_id_94.jpg: 18 words detected\n",
      "Processing img_07678.png: 9 words detected\n",
      "Processing grc_passport_92.jpg: 30 words detected\n",
      "💾 Saved chunk 220 with 10 samples\n"
     ]
    },
    {
     "name": "stderr",
     "output_type": "stream",
     "text": [
      "\r",
      "Processing batches:  68%|██████████████████████████████████▋                | 221/325 [26:36<12:30,  7.22s/it]"
     ]
    },
    {
     "name": "stdout",
     "output_type": "stream",
     "text": [
      "Processing img_07436.png: 11 words detected\n",
      "Processing img_06864.png: 10 words detected\n",
      "Processing img_07319.png: 4 words detected\n",
      "Processing img_08815.png: 6 words detected\n",
      "Processing img_06600.png: 12 words detected\n",
      "Processing img_08588.png: 8 words detected\n",
      "Processing img_08400.png: 6 words detected\n",
      "Processing img_08487.png: 19 words detected\n",
      "Processing img_07049.png: 6 words detected\n",
      "Processing img_07122.png: 12 words detected\n",
      "💾 Saved chunk 221 with 10 samples\n"
     ]
    },
    {
     "name": "stderr",
     "output_type": "stream",
     "text": [
      "\r",
      "Processing batches:  68%|██████████████████████████████████▊                | 222/325 [26:43<12:02,  7.01s/it]"
     ]
    },
    {
     "name": "stdout",
     "output_type": "stream",
     "text": [
      "Processing svk_id_85.jpg: 24 words detected\n",
      "Processing grc_passport_29.jpg: 28 words detected\n",
      "Processing img_07370.png: 8 words detected\n",
      "Processing img_06514.png: 15 words detected\n",
      "Processing img_08619.png: 1 words detected\n",
      "Processing img_07399.png: 16 words detected\n",
      "Processing srb_passport_52.jpg: 41 words detected\n",
      "Processing img_07311.png: 6 words detected\n",
      "Processing img_06597.png: 3 words detected\n",
      "Processing svk_id_06.jpg: 9 words detected\n",
      "💾 Saved chunk 222 with 10 samples\n"
     ]
    },
    {
     "name": "stderr",
     "output_type": "stream",
     "text": [
      "\r",
      "Processing batches:  69%|██████████████████████████████████▉                | 223/325 [26:51<12:36,  7.42s/it]"
     ]
    },
    {
     "name": "stdout",
     "output_type": "stream",
     "text": [
      "Processing img_08546.png: 7 words detected\n",
      "Processing img_07075.png: 17 words detected\n",
      "Processing img_08166.png: 3 words detected\n",
      "Processing est_id_23.jpg: 14 words detected\n",
      "Processing img_08341.png: 5 words detected\n",
      "Processing img_08553.png: 10 words detected\n",
      "Processing img_08358.png: 2 words detected\n",
      "Processing img_06602.png: 4 words detected\n",
      "Processing img_07387.png: 7 words detected\n",
      "Processing img_07977.png: 20 words detected\n",
      "💾 Saved chunk 223 with 10 samples\n"
     ]
    },
    {
     "name": "stderr",
     "output_type": "stream",
     "text": [
      "\r",
      "Processing batches:  69%|███████████████████████████████████▏               | 224/325 [26:59<12:27,  7.40s/it]"
     ]
    },
    {
     "name": "stdout",
     "output_type": "stream",
     "text": [
      "Processing img_08626.png: 8 words detected\n",
      "Processing img_09024.png: 4 words detected\n",
      "Processing svk_id_81.jpg: 33 words detected\n",
      "Processing img_08595.png: 10 words detected\n",
      "Processing svk_id_76.jpg: 33 words detected\n",
      "Processing img_07163.png: 17 words detected\n",
      "Processing img_07740.png: 9 words detected\n",
      "Processing img_06836.png: 9 words detected\n",
      "Processing img_08932.png: 4 words detected\n",
      "Processing img_07411.png: 6 words detected\n",
      "Processed 2250/3244 samples. GPU memory: 0.57GB\n",
      "💾 Saved chunk 224 with 10 samples\n"
     ]
    },
    {
     "name": "stderr",
     "output_type": "stream",
     "text": [
      "\r",
      "Processing batches:  69%|███████████████████████████████████▎               | 225/325 [27:05<12:02,  7.22s/it]"
     ]
    },
    {
     "name": "stdout",
     "output_type": "stream",
     "text": [
      "Processing img_08206.png: 14 words detected\n",
      "Processing svk_id_25.jpg: 16 words detected\n",
      "Processing img_06503.png: 4 words detected\n",
      "Processing img_06935.png: 14 words detected\n",
      "Processing lva_passport_55.jpg: 39 words detected\n",
      "Processing fin_id_76.jpg: 3 words detected\n",
      "Processing img_08633.png: 9 words detected\n",
      "Processing img_08926.png: 3 words detected\n",
      "Processing img_07254.png: 10 words detected\n",
      "Processing img_07668.png: 9 words detected\n",
      "💾 Saved chunk 225 with 10 samples\n"
     ]
    },
    {
     "name": "stderr",
     "output_type": "stream",
     "text": [
      "\r",
      "Processing batches:  70%|███████████████████████████████████▍               | 226/325 [27:13<11:57,  7.25s/it]"
     ]
    },
    {
     "name": "stdout",
     "output_type": "stream",
     "text": [
      "Processing img_08419.png: 4 words detected\n",
      "Processing img_07647.png: 12 words detected\n",
      "Processing img_07849.png: 7 words detected\n",
      "Processing lva_passport_46.jpg: 37 words detected\n",
      "Processing img_07972.png: 19 words detected\n",
      "Processing img_08840.png: 6 words detected\n",
      "Processing img_08402.png: 5 words detected\n",
      "Processing fin_id_00.jpg: 20 words detected\n",
      "Processing img_08485.png: 12 words detected\n",
      "Processing img_07698.png: 9 words detected\n",
      "💾 Saved chunk 226 with 10 samples\n"
     ]
    },
    {
     "name": "stderr",
     "output_type": "stream",
     "text": [
      "\r",
      "Processing batches:  70%|███████████████████████████████████▌               | 227/325 [27:20<11:52,  7.27s/it]"
     ]
    },
    {
     "name": "stdout",
     "output_type": "stream",
     "text": [
      "Processing fin_id_46.jpg: 15 words detected\n",
      "Processing img_06755.png: 6 words detected\n",
      "Processing rus_internalpassport_63.jpg: 9 words detected\n",
      "Processing rus_internalpassport_32.jpg: 9 words detected\n",
      "Processing img_07402.png: 13 words detected\n",
      "Processing srb_passport_66.jpg: 33 words detected\n",
      "Processing img_07788.png: 20 words detected\n",
      "Processing grc_passport_93.jpg: 30 words detected\n",
      "Processing img_07196.png: 6 words detected\n",
      "Processing img_08490.png: 15 words detected\n",
      "💾 Saved chunk 227 with 10 samples\n"
     ]
    },
    {
     "name": "stderr",
     "output_type": "stream",
     "text": [
      "\r",
      "Processing batches:  70%|███████████████████████████████████▊               | 228/325 [27:30<12:54,  7.98s/it]"
     ]
    },
    {
     "name": "stdout",
     "output_type": "stream",
     "text": [
      "Processing img_07047.png: 2 words detected\n",
      "Processing img_08247.png: 3 words detected\n",
      "Processing img_07901.png: 11 words detected\n",
      "Processing img_07004.png: 5 words detected\n",
      "Processing img_06820.png: 3 words detected\n",
      "Processing img_07812.png: 9 words detected\n",
      "Processing img_06566.png: 7 words detected\n",
      "Processing img_08316.png: 20 words detected\n",
      "Processing img_08156.png: 9 words detected\n",
      "Processing img_07743.png: 9 words detected\n"
     ]
    },
    {
     "name": "stderr",
     "output_type": "stream",
     "text": [
      "\r",
      "Processing batches:  70%|███████████████████████████████████▉               | 229/325 [27:36<12:06,  7.57s/it]"
     ]
    },
    {
     "name": "stdout",
     "output_type": "stream",
     "text": [
      "💾 Saved chunk 228 with 10 samples\n",
      "Processing img_07830.png: 6 words detected\n",
      "Processing img_08465.png: 15 words detected\n",
      "Processing lva_passport_27.jpg: 36 words detected\n",
      "Processing img_08936.png: 7 words detected\n",
      "Processing srb_passport_11.jpg: 8 words detected\n",
      "Processing img_06812.png: 12 words detected\n",
      "Processing img_07551.png: 3 words detected\n",
      "Processing img_08367.png: 6 words detected\n",
      "Processing srb_passport_51.jpg: 5 words detected\n",
      "Processing img_08832.png: 3 words detected\n"
     ]
    },
    {
     "name": "stderr",
     "output_type": "stream",
     "text": [
      "\r",
      "Processing batches:  71%|████████████████████████████████████               | 230/325 [27:44<12:15,  7.75s/it]"
     ]
    },
    {
     "name": "stdout",
     "output_type": "stream",
     "text": [
      "Processed 2300/3244 samples. GPU memory: 0.57GB\n",
      "💾 Saved chunk 229 with 10 samples\n",
      "Processing img_07625.png: 6 words detected\n",
      "Processing img_08076.png: 4 words detected\n",
      "Processing img_08372.png: 4 words detected\n",
      "Processing lva_passport_21.jpg: 21 words detected\n",
      "Processing img_07361.png: 11 words detected\n",
      "Processing rus_internalpassport_60.jpg: 9 words detected\n",
      "Processing img_07051.png: 7 words detected\n",
      "Processing svk_id_83.jpg: 36 words detected\n",
      "Processing img_07793.png: 2 words detected\n",
      "Processing img_06711.png: 12 words detected\n"
     ]
    },
    {
     "name": "stderr",
     "output_type": "stream",
     "text": [
      "\r",
      "Processing batches:  71%|████████████████████████████████████▏              | 231/325 [27:51<11:41,  7.46s/it]"
     ]
    },
    {
     "name": "stdout",
     "output_type": "stream",
     "text": [
      "💾 Saved chunk 230 with 10 samples\n",
      "Processing rus_internalpassport_19.jpg: 8 words detected\n",
      "Processing img_06700.png: 15 words detected\n",
      "Processing img_07029.png: 12 words detected\n",
      "Processing img_07711.png: 5 words detected\n",
      "Processing img_06967.png: 22 words detected\n",
      "Processing img_08158.png: 7 words detected\n",
      "Processing img_08378.png: 20 words detected\n",
      "Processing img_08258.png: 8 words detected\n",
      "Processing img_07351.png: 12 words detected\n",
      "Processing grc_passport_72.jpg: 34 words detected\n",
      "💾 Saved chunk 231 with 10 samples\n"
     ]
    },
    {
     "name": "stderr",
     "output_type": "stream",
     "text": [
      "\r",
      "Processing batches:  71%|████████████████████████████████████▍              | 232/325 [27:59<11:55,  7.69s/it]"
     ]
    },
    {
     "name": "stdout",
     "output_type": "stream",
     "text": [
      "Processing srb_passport_71.jpg: 2 words detected\n",
      "Processing img_07355.png: 6 words detected\n",
      "Processing img_06578.png: 11 words detected\n",
      "Processing img_08389.png: 7 words detected\n",
      "Processing img_06975.png: 2 words detected\n",
      "Processing img_07717.png: 10 words detected\n",
      "Processing img_08622.png: 8 words detected\n",
      "Processing img_08604.png: 16 words detected\n",
      "Processing img_06661.png: 8 words detected\n",
      "Processing img_06726.png: 5 words detected\n",
      "💾 Saved chunk 232 with 10 samples\n"
     ]
    },
    {
     "name": "stderr",
     "output_type": "stream",
     "text": [
      "\r",
      "Processing batches:  72%|████████████████████████████████████▌              | 233/325 [28:06<11:17,  7.36s/it]"
     ]
    },
    {
     "name": "stdout",
     "output_type": "stream",
     "text": [
      "Processing img_07859.png: 10 words detected\n",
      "Processing fin_id_64.jpg: 11 words detected\n",
      "Processing img_07374.png: 6 words detected\n",
      "Processing est_id_73.jpg: 10 words detected\n",
      "Processing img_06784.png: 8 words detected\n",
      "Processing img_08670.png: 7 words detected\n",
      "Processing svk_id_47.jpg: 32 words detected\n",
      "Processing img_07394.png: 6 words detected\n",
      "Processing img_08984.png: 5 words detected\n",
      "Processing grc_passport_47.jpg: 35 words detected\n",
      "💾 Saved chunk 233 with 10 samples\n"
     ]
    },
    {
     "name": "stderr",
     "output_type": "stream",
     "text": [
      "\r",
      "Processing batches:  72%|████████████████████████████████████▋              | 234/325 [28:14<11:18,  7.45s/it]"
     ]
    },
    {
     "name": "stdout",
     "output_type": "stream",
     "text": [
      "Processing img_08348.png: 10 words detected\n",
      "Processing grc_passport_35.jpg: 15 words detected\n",
      "Processing img_08181.png: 19 words detected\n",
      "Processing img_08888.png: 6 words detected\n",
      "Processing img_07636.png: 8 words detected\n",
      "Processing img_07734.png: 2 words detected\n",
      "Processing img_07249.png: 9 words detected\n",
      "Processing img_07941.png: 5 words detected\n",
      "Processing fin_id_89.jpg: 22 words detected\n",
      "Processing img_07124.png: 7 words detected\n",
      "Processed 2350/3244 samples. GPU memory: 0.57GB\n",
      "💾 Saved chunk 234 with 10 samples\n"
     ]
    },
    {
     "name": "stderr",
     "output_type": "stream",
     "text": [
      "\r",
      "Processing batches:  72%|████████████████████████████████████▉              | 235/325 [28:21<10:56,  7.29s/it]"
     ]
    },
    {
     "name": "stdout",
     "output_type": "stream",
     "text": [
      "Processing img_08254.png: 9 words detected\n",
      "Processing grc_passport_81.jpg: 30 words detected\n",
      "Processing srb_passport_81.jpg: 32 words detected\n",
      "Processing img_08559.png: 4 words detected\n",
      "Processing rus_internalpassport_83.jpg: 10 words detected\n",
      "Processing img_08672.png: 15 words detected\n",
      "Processing img_06724.png: 10 words detected\n",
      "Processing img_08523.png: 12 words detected\n",
      "Processing img_07765.png: 4 words detected\n",
      "Processing img_08103.png: 2 words detected\n",
      "💾 Saved chunk 235 with 10 samples\n"
     ]
    },
    {
     "name": "stderr",
     "output_type": "stream",
     "text": [
      "\r",
      "Processing batches:  73%|█████████████████████████████████████              | 236/325 [28:28<10:44,  7.24s/it]"
     ]
    },
    {
     "name": "stdout",
     "output_type": "stream",
     "text": [
      "Processing img_08647.png: 4 words detected\n",
      "Processing img_08043.png: 1 words detected\n",
      "Processing img_06716.png: 7 words detected\n",
      "Processing img_06991.png: 21 words detected\n",
      "Processing img_08673.png: 7 words detected\n",
      "Processing img_06810.png: 7 words detected\n",
      "Processing grc_passport_84.jpg: 39 words detected\n",
      "Processing img_06936.png: 11 words detected\n",
      "Processing img_07485.png: 7 words detected\n",
      "Processing img_08092.png: 4 words detected\n",
      "💾 Saved chunk 236 with 10 samples\n"
     ]
    },
    {
     "name": "stderr",
     "output_type": "stream",
     "text": [
      "\r",
      "Processing batches:  73%|█████████████████████████████████████▏             | 237/325 [28:35<10:51,  7.40s/it]"
     ]
    },
    {
     "name": "stdout",
     "output_type": "stream",
     "text": [
      "Processing rus_internalpassport_82.jpg: 3 words detected\n",
      "Processing img_08714.png: 5 words detected\n",
      "Processing img_06762.png: 9 words detected\n",
      "Processing img_08634.png: 7 words detected\n",
      "Processing img_08841.png: 5 words detected\n",
      "Processing grc_passport_00.jpg: 27 words detected\n",
      "Processing img_07886.png: 8 words detected\n",
      "Processing img_07172.png: 4 words detected\n",
      "Processing srb_passport_80.jpg: 33 words detected\n",
      "Processing img_08898.png: 9 words detected\n",
      "💾 Saved chunk 237 with 10 samples\n"
     ]
    },
    {
     "name": "stderr",
     "output_type": "stream",
     "text": [
      "\r",
      "Processing batches:  73%|█████████████████████████████████████▎             | 238/325 [28:43<10:47,  7.44s/it]"
     ]
    },
    {
     "name": "stdout",
     "output_type": "stream",
     "text": [
      "Processing img_06561.png: 7 words detected\n",
      "Processing img_08612.png: 7 words detected\n",
      "Processing img_07050.png: 19 words detected\n",
      "Processing grc_passport_53.jpg: 6 words detected\n",
      "Processing rus_internalpassport_43.jpg: 7 words detected\n",
      "Processing img_06576.png: 7 words detected\n",
      "Processing img_06588.png: 18 words detected\n",
      "Processing img_09014.png: 19 words detected\n",
      "Processing img_09006.png: 8 words detected\n",
      "Processing img_06517.png: 4 words detected\n",
      "💾 Saved chunk 238 with 10 samples\n"
     ]
    },
    {
     "name": "stderr",
     "output_type": "stream",
     "text": [
      "\r",
      "Processing batches:  74%|█████████████████████████████████████▌             | 239/325 [28:50<10:27,  7.30s/it]"
     ]
    },
    {
     "name": "stdout",
     "output_type": "stream",
     "text": [
      "Processing img_07458.png: 3 words detected\n",
      "Processing srb_passport_55.jpg: 22 words detected\n",
      "Processing img_08121.png: 4 words detected\n",
      "Processing img_06774.png: 4 words detected\n",
      "Processing est_id_89.jpg: 11 words detected\n",
      "Processing img_08701.png: 4 words detected\n",
      "Processing svk_id_43.jpg: 6 words detected\n",
      "Processing img_06919.png: 9 words detected\n",
      "Processing img_07995.png: 15 words detected\n",
      "Processing img_07960.png: 5 words detected\n",
      "Processed 2400/3244 samples. GPU memory: 0.57GB\n"
     ]
    },
    {
     "name": "stderr",
     "output_type": "stream",
     "text": [
      "\r",
      "Processing batches:  74%|█████████████████████████████████████▋             | 240/325 [28:57<10:09,  7.17s/it]"
     ]
    },
    {
     "name": "stdout",
     "output_type": "stream",
     "text": [
      "💾 Saved chunk 239 with 10 samples\n",
      "Processing est_id_14.jpg: 2 words detected\n",
      "Processing svk_id_18.jpg: 5 words detected\n",
      "Processing fin_id_59.jpg: 15 words detected\n",
      "Processing img_07688.png: 4 words detected\n",
      "Processing lva_passport_85.jpg: 20 words detected\n",
      "Processing img_07150.png: 5 words detected\n",
      "Processing img_07352.png: 16 words detected\n",
      "Processing img_08908.png: 4 words detected\n",
      "Processing img_07837.png: 18 words detected\n",
      "Processing img_08967.png: 4 words detected\n"
     ]
    },
    {
     "name": "stderr",
     "output_type": "stream",
     "text": [
      "\r",
      "Processing batches:  74%|█████████████████████████████████████▊             | 241/325 [29:04<10:11,  7.28s/it]"
     ]
    },
    {
     "name": "stdout",
     "output_type": "stream",
     "text": [
      "💾 Saved chunk 240 with 10 samples\n",
      "Processing est_id_35.jpg: 11 words detected\n",
      "Processing img_08013.png: 6 words detected\n",
      "Processing fin_id_25.jpg: 12 words detected\n",
      "Processing fin_id_57.jpg: 5 words detected\n",
      "Processing img_07707.png: 16 words detected\n",
      "Processing fin_id_44.jpg: 17 words detected\n",
      "Processing img_06912.png: 8 words detected\n",
      "Processing img_07802.png: 10 words detected\n",
      "Processing lva_passport_76.jpg: 42 words detected\n",
      "Processing img_08787.png: 32 words detected\n",
      "💾 Saved chunk 241 with 10 samples\n"
     ]
    },
    {
     "name": "stderr",
     "output_type": "stream",
     "text": [
      "\r",
      "Processing batches:  74%|█████████████████████████████████████▉             | 242/325 [29:14<10:50,  7.84s/it]"
     ]
    },
    {
     "name": "stdout",
     "output_type": "stream",
     "text": [
      "Processing img_07656.png: 11 words detected\n",
      "Processing img_06604.png: 10 words detected\n",
      "Processing img_08785.png: 8 words detected\n",
      "Processing grc_passport_51.jpg: 2 words detected\n",
      "Processing img_08004.png: 9 words detected\n",
      "Processing img_08061.png: 7 words detected\n",
      "Processing img_07096.png: 15 words detected\n",
      "Processing img_07955.png: 2 words detected\n",
      "Processing img_07881.png: 7 words detected\n",
      "Processing img_07846.png: 12 words detected\n"
     ]
    },
    {
     "name": "stderr",
     "output_type": "stream",
     "text": [
      "\r",
      "Processing batches:  75%|██████████████████████████████████████▏            | 243/325 [29:21<10:25,  7.63s/it]"
     ]
    },
    {
     "name": "stdout",
     "output_type": "stream",
     "text": [
      "💾 Saved chunk 242 with 10 samples\n",
      "Processing srb_passport_82.jpg: 23 words detected\n",
      "Processing img_06489.png: 10 words detected\n",
      "Processing img_08301.png: 7 words detected\n",
      "Processing lva_passport_59.jpg: 41 words detected\n",
      "Processing img_07518.png: 8 words detected\n",
      "Processing img_08223.png: 2 words detected\n",
      "Processing rus_internalpassport_55.jpg: 1 words detected\n",
      "Processing svk_id_71.jpg: 29 words detected\n",
      "Processing img_06815.png: 11 words detected\n",
      "Processing img_06709.png: 2 words detected\n",
      "💾 Saved chunk 243 with 10 samples\n"
     ]
    },
    {
     "name": "stderr",
     "output_type": "stream",
     "text": [
      "\r",
      "Processing batches:  75%|██████████████████████████████████████▎            | 244/325 [29:29<10:30,  7.78s/it]"
     ]
    },
    {
     "name": "stdout",
     "output_type": "stream",
     "text": [
      "Processing img_07457.png: 1 words detected\n",
      "Processing img_08224.png: 3 words detected\n",
      "Processing img_08829.png: 18 words detected\n",
      "Processing img_07463.png: 9 words detected\n",
      "Processing grc_passport_23.jpg: 33 words detected\n",
      "Processing img_08780.png: 13 words detected\n",
      "Processing est_id_19.jpg: 10 words detected\n",
      "Processing svk_id_19.jpg: 22 words detected\n",
      "Processing img_06627.png: 13 words detected\n",
      "Processing img_07840.png: 19 words detected\n",
      "Processed 2450/3244 samples. GPU memory: 0.57GB\n",
      "💾 Saved chunk 244 with 10 samples\n"
     ]
    },
    {
     "name": "stderr",
     "output_type": "stream",
     "text": [
      "\r",
      "Processing batches:  75%|██████████████████████████████████████▍            | 245/325 [29:37<10:25,  7.82s/it]"
     ]
    },
    {
     "name": "stdout",
     "output_type": "stream",
     "text": [
      "Processing img_06821.png: 11 words detected\n",
      "Processing img_07188.png: 10 words detected\n",
      "Processing img_07132.png: 6 words detected\n",
      "Processing img_07215.png: 10 words detected\n",
      "Processing img_08575.png: 7 words detected\n",
      "Processing svk_id_50.jpg: 12 words detected\n",
      "Processing img_07784.png: 9 words detected\n",
      "Processing img_08716.png: 6 words detected\n",
      "Processing img_08114.png: 3 words detected\n",
      "Processing img_06494.png: 4 words detected\n"
     ]
    },
    {
     "name": "stderr",
     "output_type": "stream",
     "text": [
      "\r",
      "Processing batches:  76%|██████████████████████████████████████▌            | 246/325 [29:44<10:11,  7.75s/it]"
     ]
    },
    {
     "name": "stdout",
     "output_type": "stream",
     "text": [
      "💾 Saved chunk 245 with 10 samples\n",
      "Processing img_08579.png: 7 words detected\n",
      "Processing rus_internalpassport_12.jpg: 8 words detected\n",
      "Processing img_07761.png: 6 words detected\n",
      "Processing img_07407.png: 9 words detected\n",
      "Processing img_07513.png: 12 words detected\n",
      "Processing img_08563.png: 5 words detected\n",
      "Processing img_07083.png: 7 words detected\n",
      "Processing img_06569.png: 13 words detected\n",
      "Processing img_07058.png: 9 words detected\n",
      "Processing img_08191.png: 26 words detected\n",
      "💾 Saved chunk 246 with 10 samples\n"
     ]
    },
    {
     "name": "stderr",
     "output_type": "stream",
     "text": [
      "\r",
      "Processing batches:  76%|██████████████████████████████████████▊            | 247/325 [29:51<09:49,  7.56s/it]"
     ]
    },
    {
     "name": "stdout",
     "output_type": "stream",
     "text": [
      "Processing est_id_61.jpg: 12 words detected\n",
      "Processing img_08853.png: 16 words detected\n",
      "Processing img_08804.png: 21 words detected\n",
      "Processing img_07454.png: 16 words detected\n",
      "Processing img_06518.png: 11 words detected\n",
      "Processing img_08439.png: 8 words detected\n",
      "Processing img_07013.png: 5 words detected\n",
      "Processing img_07803.png: 11 words detected\n",
      "Processing grc_passport_97.jpg: 30 words detected\n",
      "Processing srb_passport_78.jpg: 23 words detected\n",
      "💾 Saved chunk 247 with 10 samples\n"
     ]
    },
    {
     "name": "stderr",
     "output_type": "stream",
     "text": [
      "\r",
      "Processing batches:  76%|██████████████████████████████████████▉            | 248/325 [29:59<09:45,  7.60s/it]"
     ]
    },
    {
     "name": "stdout",
     "output_type": "stream",
     "text": [
      "Processing img_08401.png: 3 words detected\n",
      "Processing img_08424.png: 8 words detected\n",
      "Processing rus_internalpassport_67.jpg: 11 words detected\n",
      "Processing img_07940.png: 9 words detected\n",
      "Processing img_06638.png: 13 words detected\n",
      "Processing img_08447.png: 7 words detected\n",
      "Processing img_06641.png: 7 words detected\n",
      "Processing img_08914.png: 9 words detected\n",
      "Processing rus_internalpassport_86.jpg: 9 words detected\n",
      "Processing grc_passport_18.jpg: 29 words detected\n",
      "💾 Saved chunk 248 with 10 samples\n"
     ]
    },
    {
     "name": "stderr",
     "output_type": "stream",
     "text": [
      "\r",
      "Processing batches:  77%|███████████████████████████████████████            | 249/325 [30:06<09:26,  7.45s/it]"
     ]
    },
    {
     "name": "stdout",
     "output_type": "stream",
     "text": [
      "Processing img_07942.png: 8 words detected\n",
      "Processing img_07231.png: 23 words detected\n",
      "Processing img_08175.png: 8 words detected\n",
      "Processing img_06690.png: 6 words detected\n",
      "Processing img_08671.png: 16 words detected\n",
      "Processing img_07003.png: 8 words detected\n",
      "Processing fin_id_86.jpg: 13 words detected\n",
      "Processing img_07278.png: 8 words detected\n",
      "Processing est_id_79.jpg: 12 words detected\n",
      "Processing img_08010.png: 5 words detected\n",
      "Processed 2500/3244 samples. GPU memory: 0.57GB\n",
      "💾 Saved chunk 249 with 10 samples\n"
     ]
    },
    {
     "name": "stderr",
     "output_type": "stream",
     "text": [
      "\r",
      "Processing batches:  77%|███████████████████████████████████████▏           | 250/325 [30:14<09:36,  7.69s/it]"
     ]
    },
    {
     "name": "stdout",
     "output_type": "stream",
     "text": [
      "Processing img_07887.png: 3 words detected\n",
      "Processing img_06636.png: 17 words detected\n",
      "Processing img_08850.png: 16 words detected\n",
      "Processing img_08160.png: 8 words detected\n",
      "Processing img_06802.png: 6 words detected\n",
      "Processing img_07217.png: 14 words detected\n",
      "Processing img_06759.png: 6 words detected\n",
      "Processing img_07484.png: 20 words detected\n",
      "Processing img_07731.png: 4 words detected\n",
      "Processing est_id_48.jpg: 2 words detected\n",
      "💾 Saved chunk 250 with 10 samples\n"
     ]
    },
    {
     "name": "stderr",
     "output_type": "stream",
     "text": [
      "\r",
      "Processing batches:  77%|███████████████████████████████████████▍           | 251/325 [30:21<09:12,  7.47s/it]"
     ]
    },
    {
     "name": "stdout",
     "output_type": "stream",
     "text": [
      "Processing img_06727.png: 9 words detected\n",
      "Processing img_07501.png: 7 words detected\n",
      "Processing img_07129.png: 11 words detected\n",
      "Processing img_07243.png: 2 words detected\n",
      "Processing svk_id_02.jpg: 37 words detected\n",
      "Processing fin_id_56.jpg: 2 words detected\n",
      "Processing img_08505.png: 2 words detected\n",
      "Processing img_06828.png: 22 words detected\n",
      "Processing img_08809.png: 5 words detected\n",
      "Processing img_07627.png: 6 words detected\n",
      "💾 Saved chunk 251 with 10 samples\n"
     ]
    },
    {
     "name": "stderr",
     "output_type": "stream",
     "text": [
      "\r",
      "Processing batches:  78%|███████████████████████████████████████▌           | 252/325 [30:28<08:48,  7.24s/it]"
     ]
    },
    {
     "name": "stdout",
     "output_type": "stream",
     "text": [
      "Processing img_07923.png: 10 words detected\n",
      "Processing img_08538.png: 8 words detected\n",
      "Processing img_08410.png: 11 words detected\n",
      "Processing img_06579.png: 11 words detected\n",
      "Processing img_07494.png: 5 words detected\n",
      "Processing lva_passport_92.jpg: 14 words detected\n",
      "Processing img_07082.png: 3 words detected\n",
      "Processing img_08242.png: 12 words detected\n",
      "Processing img_07992.png: 13 words detected\n",
      "Processing img_08512.png: 5 words detected\n",
      "💾 Saved chunk 252 with 10 samples\n"
     ]
    },
    {
     "name": "stderr",
     "output_type": "stream",
     "text": [
      "\r",
      "Processing batches:  78%|███████████████████████████████████████▋           | 253/325 [30:34<08:20,  6.95s/it]"
     ]
    },
    {
     "name": "stdout",
     "output_type": "stream",
     "text": [
      "Processing img_06650.png: 13 words detected\n",
      "Processing img_07418.png: 19 words detected\n",
      "Processing img_08524.png: 25 words detected\n",
      "Processing img_08199.png: 20 words detected\n",
      "Processing img_07298.png: 19 words detected\n",
      "Processing srb_passport_18.jpg: 7 words detected\n",
      "Processing img_07833.png: 3 words detected\n",
      "Processing img_08111.png: 4 words detected\n",
      "Processing img_08151.png: 9 words detected\n",
      "Processing lva_passport_01.jpg: 20 words detected\n",
      "💾 Saved chunk 253 with 10 samples\n"
     ]
    },
    {
     "name": "stderr",
     "output_type": "stream",
     "text": [
      "\r",
      "Processing batches:  78%|███████████████████████████████████████▊           | 254/325 [30:42<08:23,  7.09s/it]"
     ]
    },
    {
     "name": "stdout",
     "output_type": "stream",
     "text": [
      "Processing img_07947.png: 7 words detected\n",
      "Processing img_07773.png: 1 words detected\n",
      "Processing est_id_98.jpg: 13 words detected\n",
      "Processing svk_id_77.jpg: 1 words detected\n",
      "Processing img_06631.png: 6 words detected\n",
      "Processing img_07009.png: 6 words detected\n",
      "Processing img_06512.png: 13 words detected\n",
      "Processing img_08319.png: 2 words detected\n",
      "Processing img_06987.png: 1 words detected\n",
      "Processing img_06502.png: 2 words detected\n",
      "Processed 2550/3244 samples. GPU memory: 0.57GB\n",
      "💾 Saved chunk 254 with 10 samples\n"
     ]
    },
    {
     "name": "stderr",
     "output_type": "stream",
     "text": [
      "\r",
      "Processing batches:  78%|████████████████████████████████████████           | 255/325 [30:49<08:11,  7.02s/it]"
     ]
    },
    {
     "name": "stdout",
     "output_type": "stream",
     "text": [
      "Processing img_08261.png: 11 words detected\n",
      "Processing img_08773.png: 15 words detected\n",
      "Processing img_06744.png: 3 words detected\n",
      "Processing img_07924.png: 1 words detected\n",
      "Processing img_07233.png: 11 words detected\n",
      "Processing img_06779.png: 3 words detected\n",
      "Processing img_08325.png: 20 words detected\n",
      "Processing img_06940.png: 7 words detected\n",
      "Processing svk_id_01.jpg: 32 words detected\n",
      "Processing img_07857.png: 4 words detected\n",
      "💾 Saved chunk 255 with 10 samples\n"
     ]
    },
    {
     "name": "stderr",
     "output_type": "stream",
     "text": [
      "\r",
      "Processing batches:  79%|████████████████████████████████████████▏          | 256/325 [30:55<07:59,  6.95s/it]"
     ]
    },
    {
     "name": "stdout",
     "output_type": "stream",
     "text": [
      "Processing img_06647.png: 10 words detected\n",
      "Processing est_id_41.jpg: 11 words detected\n",
      "Processing img_06696.png: 8 words detected\n",
      "Processing img_06878.png: 3 words detected\n",
      "Processing img_08277.png: 1 words detected\n",
      "Processing img_07113.png: 22 words detected\n",
      "Processing fin_id_06.jpg: 17 words detected\n",
      "Processing img_07650.png: 8 words detected\n",
      "Processing img_08409.png: 10 words detected\n",
      "Processing img_08279.png: 1 words detected\n"
     ]
    },
    {
     "name": "stderr",
     "output_type": "stream",
     "text": [
      "\r",
      "Processing batches:  79%|████████████████████████████████████████▎          | 257/325 [31:02<07:54,  6.98s/it]"
     ]
    },
    {
     "name": "stdout",
     "output_type": "stream",
     "text": [
      "💾 Saved chunk 256 with 10 samples\n",
      "Processing img_07982.png: 11 words detected\n",
      "Processing img_07070.png: 10 words detected\n",
      "Processing img_06505.png: 9 words detected\n",
      "Processing img_08312.png: 3 words detected\n",
      "Processing img_06601.png: 9 words detected\n",
      "Processing fin_id_82.jpg: 3 words detected\n",
      "Processing img_07929.png: 15 words detected\n",
      "Processing img_08313.png: 3 words detected\n",
      "Processing img_07905.png: 4 words detected\n",
      "Processing img_07643.png: 16 words detected\n",
      "💾 Saved chunk 257 with 10 samples\n"
     ]
    },
    {
     "name": "stderr",
     "output_type": "stream",
     "text": [
      "\r",
      "Processing batches:  79%|████████████████████████████████████████▍          | 258/325 [31:09<07:42,  6.90s/it]"
     ]
    },
    {
     "name": "stdout",
     "output_type": "stream",
     "text": [
      "Processing img_07915.png: 5 words detected\n",
      "Processing img_07295.png: 8 words detected\n",
      "Processing srb_passport_08.jpg: 17 words detected\n",
      "Processing grc_passport_86.jpg: 30 words detected\n",
      "Processing img_07462.png: 5 words detected\n",
      "Processing rus_internalpassport_01.jpg: 9 words detected\n",
      "Processing img_06613.png: 4 words detected\n",
      "Processing img_06829.png: 2 words detected\n",
      "Processing img_08127.png: 4 words detected\n",
      "Processing img_09022.png: 4 words detected\n",
      "💾 Saved chunk 258 with 10 samples\n"
     ]
    },
    {
     "name": "stderr",
     "output_type": "stream",
     "text": [
      "\r",
      "Processing batches:  80%|████████████████████████████████████████▋          | 259/325 [31:16<07:41,  7.00s/it]"
     ]
    },
    {
     "name": "stdout",
     "output_type": "stream",
     "text": [
      "Processing est_id_39.jpg: 2 words detected\n",
      "Processing img_08729.png: 10 words detected\n",
      "Processing img_07574.png: 7 words detected\n",
      "Processing img_08336.png: 11 words detected\n",
      "Processing img_08306.png: 6 words detected\n",
      "Processing img_06997.png: 14 words detected\n",
      "Processing img_08500.png: 7 words detected\n",
      "Processing lva_passport_94.jpg: 41 words detected\n",
      "Processing srb_passport_28.jpg: 28 words detected\n",
      "Processing img_07036.png: 6 words detected\n",
      "Processed 2600/3244 samples. GPU memory: 0.57GB\n",
      "💾 Saved chunk 259 with 10 samples\n"
     ]
    },
    {
     "name": "stderr",
     "output_type": "stream",
     "text": [
      "\r",
      "Processing batches:  80%|████████████████████████████████████████▊          | 260/325 [31:25<08:12,  7.58s/it]"
     ]
    },
    {
     "name": "stdout",
     "output_type": "stream",
     "text": [
      "Processing img_06708.png: 6 words detected\n",
      "Processing img_07079.png: 7 words detected\n",
      "Processing img_08928.png: 9 words detected\n",
      "Processing est_id_81.jpg: 2 words detected\n",
      "Processing img_07080.png: 6 words detected\n",
      "Processing img_08282.png: 11 words detected\n",
      "Processing est_id_34.jpg: 15 words detected\n",
      "Processing img_06683.png: 6 words detected\n",
      "Processing img_07822.png: 24 words detected\n",
      "Processing img_06479.png: 15 words detected\n",
      "💾 Saved chunk 260 with 10 samples\n"
     ]
    },
    {
     "name": "stderr",
     "output_type": "stream",
     "text": [
      "\r",
      "Processing batches:  80%|████████████████████████████████████████▉          | 261/325 [31:32<07:53,  7.40s/it]"
     ]
    },
    {
     "name": "stdout",
     "output_type": "stream",
     "text": [
      "Processing img_08587.png: 11 words detected\n",
      "Processing img_08541.png: 23 words detected\n",
      "Processing img_07985.png: 12 words detected\n",
      "Processing lva_passport_72.jpg: 38 words detected\n",
      "Processing img_07182.png: 4 words detected\n",
      "Processing lva_passport_47.jpg: 43 words detected\n",
      "Processing img_08422.png: 7 words detected\n",
      "Processing img_08797.png: 9 words detected\n",
      "Processing img_06845.png: 5 words detected\n",
      "Processing svk_id_40.jpg: 11 words detected\n",
      "💾 Saved chunk 261 with 10 samples\n"
     ]
    },
    {
     "name": "stderr",
     "output_type": "stream",
     "text": [
      "\r",
      "Processing batches:  81%|█████████████████████████████████████████          | 262/325 [31:40<07:45,  7.39s/it]"
     ]
    },
    {
     "name": "stdout",
     "output_type": "stream",
     "text": [
      "Processing img_07490.png: 15 words detected\n",
      "Processing img_06675.png: 8 words detected\n",
      "Processing img_08340.png: 4 words detected\n",
      "Processing img_06624.png: 7 words detected\n",
      "Processing img_08048.png: 21 words detected\n",
      "Processing img_08724.png: 18 words detected\n",
      "Processing grc_passport_28.jpg: 30 words detected\n",
      "Processing img_07555.png: 8 words detected\n",
      "Processing img_07261.png: 4 words detected\n",
      "Processing img_07621.png: 5 words detected\n"
     ]
    },
    {
     "name": "stderr",
     "output_type": "stream",
     "text": [
      "\r",
      "Processing batches:  81%|█████████████████████████████████████████▎         | 263/325 [31:46<07:21,  7.12s/it]"
     ]
    },
    {
     "name": "stdout",
     "output_type": "stream",
     "text": [
      "💾 Saved chunk 262 with 10 samples\n",
      "Processing img_08030.png: 3 words detected\n",
      "Processing img_07074.png: 9 words detected\n",
      "Processing img_08189.png: 10 words detected\n",
      "Processing img_06581.png: 4 words detected\n",
      "Processing lva_passport_36.jpg: 40 words detected\n",
      "Processing img_07974.png: 8 words detected\n",
      "Processing img_08052.png: 13 words detected\n",
      "Processing lva_passport_05.jpg: 16 words detected\n",
      "Processing grc_passport_60.jpg: 1 words detected\n",
      "Processing img_08923.png: 13 words detected\n",
      "💾 Saved chunk 263 with 10 samples\n"
     ]
    },
    {
     "name": "stderr",
     "output_type": "stream",
     "text": [
      "\r",
      "Processing batches:  81%|█████████████████████████████████████████▍         | 264/325 [31:55<07:39,  7.54s/it]"
     ]
    },
    {
     "name": "stdout",
     "output_type": "stream",
     "text": [
      "Processing img_08691.png: 2 words detected\n",
      "Processing img_06590.png: 6 words detected\n",
      "Processing img_06547.png: 4 words detected\n",
      "Processing img_07554.png: 6 words detected\n",
      "Processing img_06788.png: 13 words detected\n",
      "Processing img_07819.png: 1 words detected\n",
      "Processing img_07814.png: 6 words detected\n",
      "Processing fin_id_22.jpg: 19 words detected\n",
      "Processing img_08150.png: 18 words detected\n",
      "Processing img_06835.png: 17 words detected\n"
     ]
    },
    {
     "name": "stderr",
     "output_type": "stream",
     "text": [
      "\r",
      "Processing batches:  82%|█████████████████████████████████████████▌         | 265/325 [32:01<07:11,  7.19s/it]"
     ]
    },
    {
     "name": "stdout",
     "output_type": "stream",
     "text": [
      "Processed 2650/3244 samples. GPU memory: 0.57GB\n",
      "💾 Saved chunk 264 with 10 samples\n",
      "Processing img_07511.png: 2 words detected\n",
      "Processing img_08062.png: 3 words detected\n",
      "Processing img_08364.png: 6 words detected\n",
      "Processing img_07889.png: 11 words detected\n",
      "Processing img_07227.png: 8 words detected\n",
      "Processing srb_passport_70.jpg: 28 words detected\n",
      "Processing img_08909.png: 6 words detected\n",
      "Processing img_07354.png: 6 words detected\n",
      "Processing img_06793.png: 4 words detected\n",
      "Processing img_07806.png: 1 words detected\n",
      "💾 Saved chunk 265 with 10 samples\n"
     ]
    },
    {
     "name": "stderr",
     "output_type": "stream",
     "text": [
      "\r",
      "Processing batches:  82%|█████████████████████████████████████████▋         | 266/325 [32:08<06:57,  7.08s/it]"
     ]
    },
    {
     "name": "stdout",
     "output_type": "stream",
     "text": [
      "Processing svk_id_52.jpg: 16 words detected\n",
      "Processing img_06541.png: 7 words detected\n",
      "Processing img_08360.png: 7 words detected\n",
      "Processing img_07541.png: 6 words detected\n",
      "Processing img_07315.png: 5 words detected\n",
      "Processing img_08350.png: 6 words detected\n",
      "Processing img_06837.png: 4 words detected\n",
      "Processing img_07468.png: 5 words detected\n",
      "Processing img_06915.png: 5 words detected\n",
      "Processing fin_id_52.jpg: 17 words detected\n"
     ]
    },
    {
     "name": "stderr",
     "output_type": "stream",
     "text": [
      "\r",
      "Processing batches:  82%|█████████████████████████████████████████▉         | 267/325 [32:15<06:47,  7.03s/it]"
     ]
    },
    {
     "name": "stdout",
     "output_type": "stream",
     "text": [
      "💾 Saved chunk 266 with 10 samples\n",
      "Processing img_08235.png: 10 words detected\n",
      "Processing img_08557.png: 14 words detected\n",
      "Processing img_07284.png: 6 words detected\n",
      "Processing img_08028.png: 5 words detected\n",
      "Processing img_07498.png: 5 words detected\n",
      "Processing img_08165.png: 23 words detected\n",
      "Processing img_08876.png: 7 words detected\n",
      "Processing img_08188.png: 6 words detected\n",
      "Processing img_07296.png: 4 words detected\n",
      "Processing img_08287.png: 12 words detected\n"
     ]
    },
    {
     "name": "stderr",
     "output_type": "stream",
     "text": [
      "\r",
      "Processing batches:  82%|██████████████████████████████████████████         | 268/325 [32:21<06:25,  6.77s/it]"
     ]
    },
    {
     "name": "stdout",
     "output_type": "stream",
     "text": [
      "💾 Saved chunk 267 with 10 samples\n",
      "Processing img_07424.png: 5 words detected\n",
      "Processing fin_id_60.jpg: 18 words detected\n",
      "Processing img_07392.png: 8 words detected\n",
      "Processing img_06751.png: 9 words detected\n",
      "Processing est_id_96.jpg: 8 words detected\n",
      "Processing img_08693.png: 2 words detected\n",
      "Processing img_06756.png: 6 words detected\n",
      "Processing img_06849.png: 7 words detected\n",
      "Processing img_07277.png: 4 words detected\n",
      "Processing lva_passport_84.jpg: 38 words detected\n"
     ]
    },
    {
     "name": "stderr",
     "output_type": "stream",
     "text": [
      "\r",
      "Processing batches:  83%|██████████████████████████████████████████▏        | 269/325 [32:30<06:50,  7.33s/it]"
     ]
    },
    {
     "name": "stdout",
     "output_type": "stream",
     "text": [
      "💾 Saved chunk 268 with 10 samples\n",
      "Processing img_06571.png: 4 words detected\n",
      "Processing img_08289.png: 13 words detected\n",
      "Processing svk_id_98.jpg: 33 words detected\n",
      "Processing grc_passport_25.jpg: 20 words detected\n",
      "Processing fin_id_97.jpg: 16 words detected\n",
      "Processing img_06630.png: 8 words detected\n",
      "Processing lva_passport_35.jpg: 18 words detected\n",
      "Processing img_07873.png: 7 words detected\n",
      "Processing img_07301.png: 1 words detected\n",
      "Processing img_08201.png: 11 words detected\n"
     ]
    },
    {
     "name": "stderr",
     "output_type": "stream",
     "text": [
      "\r",
      "Processing batches:  83%|██████████████████████████████████████████▎        | 270/325 [32:37<06:47,  7.41s/it]"
     ]
    },
    {
     "name": "stdout",
     "output_type": "stream",
     "text": [
      "Processed 2700/3244 samples. GPU memory: 0.57GB\n",
      "💾 Saved chunk 269 with 10 samples\n",
      "Processing srb_passport_23.jpg: 25 words detected\n",
      "Processing img_08452.png: 8 words detected\n",
      "Processing img_08295.png: 1 words detected\n",
      "Processing img_07289.png: 5 words detected\n",
      "Processing img_07183.png: 4 words detected\n",
      "Processing svk_id_24.jpg: 30 words detected\n",
      "Processing fin_id_51.jpg: 14 words detected\n",
      "Processing img_06640.png: 5 words detected\n",
      "Processing img_07867.png: 9 words detected\n",
      "Processing img_06648.png: 8 words detected\n"
     ]
    },
    {
     "name": "stderr",
     "output_type": "stream",
     "text": [
      "\r",
      "Processing batches:  83%|██████████████████████████████████████████▌        | 271/325 [32:44<06:36,  7.34s/it]"
     ]
    },
    {
     "name": "stdout",
     "output_type": "stream",
     "text": [
      "💾 Saved chunk 270 with 10 samples\n",
      "Processing img_08746.png: 9 words detected\n",
      "Processing img_08026.png: 11 words detected\n",
      "Processing srb_passport_45.jpg: 27 words detected\n",
      "Processing svk_id_45.jpg: 33 words detected\n",
      "Processing img_07976.png: 6 words detected\n",
      "Processing rus_internalpassport_71.jpg: 8 words detected\n",
      "Processing img_07630.png: 1 words detected\n",
      "Processing img_08834.png: 13 words detected\n",
      "Processing img_08530.png: 17 words detected\n",
      "Processing img_06941.png: 9 words detected\n"
     ]
    },
    {
     "name": "stderr",
     "output_type": "stream",
     "text": [
      "\r",
      "Processing batches:  84%|██████████████████████████████████████████▋        | 272/325 [32:52<06:30,  7.36s/it]"
     ]
    },
    {
     "name": "stdout",
     "output_type": "stream",
     "text": [
      "💾 Saved chunk 271 with 10 samples\n",
      "Processing img_08091.png: 5 words detected\n",
      "Processing est_id_70.jpg: 1 words detected\n",
      "Processing img_06875.png: 10 words detected\n",
      "Processing grc_passport_20.jpg: 32 words detected\n",
      "Processing img_08777.png: 15 words detected\n",
      "Processing img_07300.png: 10 words detected\n",
      "Processing img_08635.png: 15 words detected\n",
      "Processing img_06497.png: 7 words detected\n",
      "Processing grc_passport_40.jpg: 31 words detected\n",
      "Processing img_06651.png: 4 words detected\n",
      "💾 Saved chunk 272 with 10 samples\n"
     ]
    },
    {
     "name": "stderr",
     "output_type": "stream",
     "text": [
      "\r",
      "Processing batches:  84%|██████████████████████████████████████████▊        | 273/325 [33:00<06:32,  7.56s/it]"
     ]
    },
    {
     "name": "stdout",
     "output_type": "stream",
     "text": [
      "Processing img_07314.png: 12 words detected\n",
      "Processing img_08807.png: 9 words detected\n",
      "Processing img_08810.png: 10 words detected\n",
      "Processing grc_passport_08.jpg: 18 words detected\n",
      "Processing img_07594.png: 13 words detected\n",
      "Processing est_id_75.jpg: 17 words detected\n",
      "Processing img_08760.png: 10 words detected\n",
      "Processing img_06926.png: 12 words detected\n",
      "Processing img_08356.png: 18 words detected\n",
      "Processing img_06775.png: 14 words detected\n",
      "💾 Saved chunk 273 with 10 samples\n"
     ]
    },
    {
     "name": "stderr",
     "output_type": "stream",
     "text": [
      "\r",
      "Processing batches:  84%|██████████████████████████████████████████▉        | 274/325 [33:07<06:24,  7.55s/it]"
     ]
    },
    {
     "name": "stdout",
     "output_type": "stream",
     "text": [
      "Processing img_08435.png: 5 words detected\n",
      "Processing img_07633.png: 8 words detected\n",
      "Processing img_08404.png: 14 words detected\n",
      "Processing img_07542.png: 9 words detected\n",
      "Processing img_06702.png: 7 words detected\n",
      "Processing img_07673.png: 2 words detected\n",
      "Processing img_07282.png: 15 words detected\n",
      "Processing img_08365.png: 6 words detected\n",
      "Processing img_08987.png: 11 words detected\n",
      "Processing img_07159.png: 8 words detected\n",
      "Processed 2750/3244 samples. GPU memory: 0.57GB\n"
     ]
    },
    {
     "name": "stderr",
     "output_type": "stream",
     "text": [
      "\r",
      "Processing batches:  85%|███████████████████████████████████████████▏       | 275/325 [33:13<05:54,  7.10s/it]"
     ]
    },
    {
     "name": "stdout",
     "output_type": "stream",
     "text": [
      "💾 Saved chunk 274 with 10 samples\n",
      "Processing svk_id_00.jpg: 11 words detected\n",
      "Processing img_06795.png: 9 words detected\n",
      "Processing svk_id_63.jpg: 13 words detected\n",
      "Processing img_06999.png: 9 words detected\n",
      "Processing img_07933.png: 10 words detected\n",
      "Processing img_07969.png: 3 words detected\n",
      "Processing img_08839.png: 6 words detected\n",
      "Processing fin_id_73.jpg: 13 words detected\n",
      "Processing img_07363.png: 4 words detected\n",
      "Processing lva_passport_41.jpg: 44 words detected\n"
     ]
    },
    {
     "name": "stderr",
     "output_type": "stream",
     "text": [
      "\r",
      "Processing batches:  85%|███████████████████████████████████████████▎       | 276/325 [33:21<06:02,  7.40s/it]"
     ]
    },
    {
     "name": "stdout",
     "output_type": "stream",
     "text": [
      "💾 Saved chunk 275 with 10 samples\n",
      "Processing rus_internalpassport_31.jpg: 10 words detected\n",
      "Processing img_07583.png: 4 words detected\n",
      "Processing srb_passport_47.jpg: 31 words detected\n",
      "Processing rus_internalpassport_58.jpg: 10 words detected\n",
      "Processing img_08950.png: 5 words detected\n",
      "Processing img_07174.png: 6 words detected\n",
      "Processing lva_passport_09.jpg: 38 words detected\n",
      "Processing img_08905.png: 15 words detected\n",
      "Processing img_08263.png: 12 words detected\n",
      "Processing img_07958.png: 6 words detected\n"
     ]
    },
    {
     "name": "stderr",
     "output_type": "stream",
     "text": [
      "\r",
      "Processing batches:  85%|███████████████████████████████████████████▍       | 277/325 [33:29<05:54,  7.39s/it]"
     ]
    },
    {
     "name": "stdout",
     "output_type": "stream",
     "text": [
      "💾 Saved chunk 276 with 10 samples\n",
      "Processing img_08042.png: 10 words detected\n",
      "Processing img_08217.png: 8 words detected\n",
      "Processing img_06981.png: 15 words detected\n",
      "Processing img_06520.png: 9 words detected\n",
      "Processing img_08770.png: 9 words detected\n",
      "Processing img_08192.png: 17 words detected\n",
      "Processing img_08867.png: 5 words detected\n",
      "Processing img_08903.png: 13 words detected\n",
      "Processing img_07066.png: 12 words detected\n",
      "Processing img_07404.png: 5 words detected\n"
     ]
    },
    {
     "name": "stderr",
     "output_type": "stream",
     "text": [
      "\r",
      "Processing batches:  86%|███████████████████████████████████████████▌       | 278/325 [33:36<05:42,  7.28s/it]"
     ]
    },
    {
     "name": "stdout",
     "output_type": "stream",
     "text": [
      "💾 Saved chunk 277 with 10 samples\n",
      "Processing img_07675.png: 9 words detected\n",
      "Processing img_07902.png: 11 words detected\n",
      "Processing img_06846.png: 27 words detected\n",
      "Processing img_07252.png: 1 words detected\n",
      "Processing img_08872.png: 11 words detected\n",
      "Processing img_07932.png: 3 words detected\n",
      "Processing img_08106.png: 6 words detected\n",
      "Processing img_08296.png: 7 words detected\n",
      "Processing img_07747.png: 1 words detected\n",
      "Processing img_06599.png: 19 words detected\n"
     ]
    },
    {
     "name": "stderr",
     "output_type": "stream",
     "text": [
      "\r",
      "Processing batches:  86%|███████████████████████████████████████████▊       | 279/325 [33:42<05:21,  6.98s/it]"
     ]
    },
    {
     "name": "stdout",
     "output_type": "stream",
     "text": [
      "💾 Saved chunk 278 with 10 samples\n",
      "Processing img_08368.png: 1 words detected\n",
      "Processing srb_passport_96.jpg: 30 words detected\n",
      "Processing img_08812.png: 8 words detected\n",
      "Processing img_08390.png: 8 words detected\n",
      "Processing img_07073.png: 8 words detected\n",
      "Processing img_07676.png: 3 words detected\n",
      "Processing img_06892.png: 2 words detected\n",
      "Processing img_08696.png: 12 words detected\n",
      "Processing img_08605.png: 22 words detected\n",
      "Processing img_08659.png: 5 words detected\n",
      "Processed 2800/3244 samples. GPU memory: 0.57GB\n",
      "💾 Saved chunk 279 with 10 samples\n"
     ]
    },
    {
     "name": "stderr",
     "output_type": "stream",
     "text": [
      "\r",
      "Processing batches:  86%|███████████████████████████████████████████▉       | 280/325 [33:50<05:21,  7.14s/it]"
     ]
    },
    {
     "name": "stdout",
     "output_type": "stream",
     "text": [
      "Processing img_07927.png: 11 words detected\n",
      "Processing grc_passport_98.jpg: 28 words detected\n",
      "Processing img_07409.png: 4 words detected\n",
      "Processing img_08686.png: 8 words detected\n",
      "Processing img_07102.png: 6 words detected\n",
      "Processing img_08962.png: 13 words detected\n",
      "Processing img_07720.png: 16 words detected\n",
      "Processing grc_passport_22.jpg: 30 words detected\n",
      "Processing svk_id_55.jpg: 29 words detected\n",
      "Processing img_08051.png: 5 words detected\n"
     ]
    },
    {
     "name": "stderr",
     "output_type": "stream",
     "text": [
      "\r",
      "Processing batches:  86%|████████████████████████████████████████████       | 281/325 [33:57<05:19,  7.26s/it]"
     ]
    },
    {
     "name": "stdout",
     "output_type": "stream",
     "text": [
      "💾 Saved chunk 280 with 10 samples\n",
      "Processing srb_passport_60.jpg: 22 words detected\n",
      "Processing img_07790.png: 29 words detected\n",
      "Processing rus_internalpassport_61.jpg: 10 words detected\n",
      "Processing fin_id_43.jpg: 7 words detected\n",
      "Processing est_id_66.jpg: 10 words detected\n",
      "Processing img_07756.png: 21 words detected\n",
      "Processing img_06573.png: 11 words detected\n",
      "Processing img_06966.png: 1 words detected\n",
      "Processing rus_internalpassport_25.jpg: 3 words detected\n",
      "Processing img_08857.png: 10 words detected\n",
      "💾 Saved chunk 281 with 10 samples\n"
     ]
    },
    {
     "name": "stderr",
     "output_type": "stream",
     "text": [
      "\r",
      "Processing batches:  87%|████████████████████████████████████████████▎      | 282/325 [34:06<05:26,  7.59s/it]"
     ]
    },
    {
     "name": "stdout",
     "output_type": "stream",
     "text": [
      "Processing img_06986.png: 5 words detected\n",
      "Processing img_06867.png: 7 words detected\n",
      "Processing img_07266.png: 17 words detected\n",
      "Processing img_08904.png: 10 words detected\n",
      "Processing img_06931.png: 5 words detected\n",
      "Processing img_06670.png: 5 words detected\n",
      "Processing img_08418.png: 1 words detected\n",
      "Processing img_06721.png: 6 words detected\n",
      "Processing img_07556.png: 3 words detected\n",
      "Processing lva_passport_58.jpg: 41 words detected\n",
      "💾 Saved chunk 282 with 10 samples\n"
     ]
    },
    {
     "name": "stderr",
     "output_type": "stream",
     "text": [
      "\r",
      "Processing batches:  87%|████████████████████████████████████████████▍      | 283/325 [34:13<05:11,  7.41s/it]"
     ]
    },
    {
     "name": "stdout",
     "output_type": "stream",
     "text": [
      "Processing rus_internalpassport_69.jpg: 4 words detected\n",
      "Processing svk_id_94.jpg: 9 words detected\n",
      "Processing est_id_27.jpg: 11 words detected\n",
      "Processing img_07131.png: 11 words detected\n",
      "Processing img_08801.png: 7 words detected\n",
      "Processing img_06952.png: 10 words detected\n",
      "Processing img_08862.png: 7 words detected\n",
      "Processing img_08376.png: 4 words detected\n",
      "Processing rus_internalpassport_15.jpg: 8 words detected\n",
      "Processing img_06956.png: 10 words detected\n"
     ]
    },
    {
     "name": "stderr",
     "output_type": "stream",
     "text": [
      "\r",
      "Processing batches:  87%|████████████████████████████████████████████▌      | 284/325 [34:19<04:49,  7.05s/it]"
     ]
    },
    {
     "name": "stdout",
     "output_type": "stream",
     "text": [
      "💾 Saved chunk 283 with 10 samples\n",
      "Processing img_08639.png: 2 words detected\n",
      "Processing img_07427.png: 5 words detected\n",
      "Processing img_07581.png: 13 words detected\n",
      "Processing img_06871.png: 22 words detected\n",
      "Processing img_08927.png: 4 words detected\n",
      "Processing img_07426.png: 2 words detected\n",
      "Processing img_06548.png: 11 words detected\n",
      "Processing fin_id_27.jpg: 15 words detected\n",
      "Processing img_06927.png: 18 words detected\n",
      "Processing img_06596.png: 16 words detected\n",
      "Processed 2850/3244 samples. GPU memory: 0.57GB\n",
      "💾 Saved chunk 284 with 10 samples\n"
     ]
    },
    {
     "name": "stderr",
     "output_type": "stream",
     "text": [
      "\r",
      "Processing batches:  88%|████████████████████████████████████████████▋      | 285/325 [34:25<04:35,  6.89s/it]"
     ]
    },
    {
     "name": "stdout",
     "output_type": "stream",
     "text": [
      "Processing img_07629.png: 23 words detected\n",
      "Processing img_07653.png: 8 words detected\n",
      "Processing img_06881.png: 5 words detected\n",
      "Processing img_08379.png: 2 words detected\n",
      "Processing img_08599.png: 16 words detected\n",
      "Processing img_07878.png: 2 words detected\n",
      "Processing img_08811.png: 10 words detected\n",
      "Processing fin_id_77.jpg: 9 words detected\n",
      "Processing lva_passport_42.jpg: 35 words detected\n",
      "Processing img_07804.png: 8 words detected\n",
      "💾 Saved chunk 285 with 10 samples\n"
     ]
    },
    {
     "name": "stderr",
     "output_type": "stream",
     "text": [
      "\r",
      "Processing batches:  88%|████████████████████████████████████████████▉      | 286/325 [34:32<04:31,  6.95s/it]"
     ]
    },
    {
     "name": "stdout",
     "output_type": "stream",
     "text": [
      "Processing img_06830.png: 5 words detected\n",
      "Processing svk_id_03.jpg: 1 words detected\n",
      "Processing img_06504.png: 2 words detected\n",
      "Processing img_08472.png: 8 words detected\n",
      "Processing est_id_52.jpg: 4 words detected\n",
      "Processing img_07262.png: 7 words detected\n",
      "Processing img_08568.png: 10 words detected\n",
      "Processing img_07443.png: 15 words detected\n",
      "Processing img_07888.png: 12 words detected\n",
      "Processing img_09002.png: 24 words detected\n"
     ]
    },
    {
     "name": "stderr",
     "output_type": "stream",
     "text": [
      "\r",
      "Processing batches:  88%|█████████████████████████████████████████████      | 287/325 [34:40<04:33,  7.20s/it]"
     ]
    },
    {
     "name": "stdout",
     "output_type": "stream",
     "text": [
      "💾 Saved chunk 286 with 10 samples\n",
      "Processing srb_passport_61.jpg: 15 words detected\n",
      "Processing svk_id_07.jpg: 12 words detected\n",
      "Processing img_08580.png: 14 words detected\n",
      "Processing img_08039.png: 6 words detected\n",
      "Processing img_07329.png: 3 words detected\n",
      "Processing img_08606.png: 13 words detected\n",
      "Processing img_08207.png: 2 words detected\n",
      "Processing img_07279.png: 8 words detected\n",
      "Processing img_07381.png: 5 words detected\n",
      "Processing lva_passport_69.jpg: 37 words detected\n",
      "💾 Saved chunk 287 with 10 samples\n"
     ]
    },
    {
     "name": "stderr",
     "output_type": "stream",
     "text": [
      "\r",
      "Processing batches:  89%|█████████████████████████████████████████████▏     | 288/325 [34:47<04:27,  7.23s/it]"
     ]
    },
    {
     "name": "stdout",
     "output_type": "stream",
     "text": [
      "Processing lva_passport_86.jpg: 41 words detected\n",
      "Processing img_07464.png: 35 words detected\n",
      "Processing img_08846.png: 3 words detected\n",
      "Processing img_08006.png: 7 words detected\n",
      "Processing img_08654.png: 7 words detected\n",
      "Processing img_08399.png: 3 words detected\n",
      "Processing img_08917.png: 3 words detected\n",
      "Processing img_08911.png: 3 words detected\n",
      "Processing fin_id_96.jpg: 14 words detected\n",
      "Processing img_08707.png: 16 words detected\n"
     ]
    },
    {
     "name": "stderr",
     "output_type": "stream",
     "text": [
      "\r",
      "Processing batches:  89%|█████████████████████████████████████████████▎     | 289/325 [34:55<04:20,  7.23s/it]"
     ]
    },
    {
     "name": "stdout",
     "output_type": "stream",
     "text": [
      "💾 Saved chunk 288 with 10 samples\n",
      "Processing img_07038.png: 4 words detected\n",
      "Processing img_07149.png: 14 words detected\n",
      "Processing img_08970.png: 16 words detected\n",
      "Processing img_08098.png: 5 words detected\n",
      "Processing svk_id_92.jpg: 11 words detected\n",
      "Processing fin_id_14.jpg: 9 words detected\n",
      "Processing img_08012.png: 24 words detected\n",
      "Processing img_07059.png: 13 words detected\n",
      "Processing img_08955.png: 5 words detected\n",
      "Processing img_08035.png: 2 words detected\n",
      "Processed 2900/3244 samples. GPU memory: 0.57GB\n",
      "💾 Saved chunk 289 with 10 samples\n"
     ]
    },
    {
     "name": "stderr",
     "output_type": "stream",
     "text": [
      "\r",
      "Processing batches:  89%|█████████████████████████████████████████████▌     | 290/325 [35:02<04:10,  7.15s/it]"
     ]
    },
    {
     "name": "stdout",
     "output_type": "stream",
     "text": [
      "Processing img_08430.png: 8 words detected\n",
      "Processing img_06715.png: 10 words detected\n",
      "Processing img_06903.png: 3 words detected\n",
      "Processing img_08088.png: 10 words detected\n",
      "Processing img_08814.png: 5 words detected\n",
      "Processing img_07510.png: 2 words detected\n",
      "Processing img_08169.png: 7 words detected\n",
      "Processing img_07652.png: 4 words detected\n",
      "Processing grc_passport_83.jpg: 24 words detected\n",
      "Processing svk_id_82.jpg: 24 words detected\n",
      "💾 Saved chunk 290 with 10 samples\n"
     ]
    },
    {
     "name": "stderr",
     "output_type": "stream",
     "text": [
      "\r",
      "Processing batches:  90%|█████████████████████████████████████████████▋     | 291/325 [35:09<04:05,  7.21s/it]"
     ]
    },
    {
     "name": "stdout",
     "output_type": "stream",
     "text": [
      "Processing rus_internalpassport_68.jpg: 8 words detected\n",
      "Processing img_07847.png: 14 words detected\n",
      "Processing img_08256.png: 6 words detected\n",
      "Processing img_08723.png: 5 words detected\n",
      "Processing img_06485.png: 9 words detected\n",
      "Processing img_06994.png: 13 words detected\n",
      "Processing rus_internalpassport_23.jpg: 8 words detected\n",
      "Processing rus_internalpassport_30.jpg: 9 words detected\n",
      "Processing img_06681.png: 6 words detected\n",
      "Processing fin_id_09.jpg: 1 words detected\n",
      "💾 Saved chunk 291 with 10 samples\n"
     ]
    },
    {
     "name": "stderr",
     "output_type": "stream",
     "text": [
      "\r",
      "Processing batches:  90%|█████████████████████████████████████████████▊     | 292/325 [35:17<04:02,  7.35s/it]"
     ]
    },
    {
     "name": "stdout",
     "output_type": "stream",
     "text": [
      "Processing img_06884.png: 6 words detected\n",
      "Processing img_07792.png: 25 words detected\n",
      "Processing img_07423.png: 23 words detected\n",
      "Processing img_07561.png: 7 words detected\n",
      "Processing img_07478.png: 6 words detected\n",
      "Processing img_08496.png: 12 words detected\n",
      "Processing est_id_43.jpg: 9 words detected\n",
      "Processing rus_internalpassport_03.jpg: 10 words detected\n",
      "Processing img_08896.png: 10 words detected\n",
      "Processing img_08146.png: 8 words detected\n",
      "💾 Saved chunk 292 with 10 samples\n"
     ]
    },
    {
     "name": "stderr",
     "output_type": "stream",
     "text": [
      "\r",
      "Processing batches:  90%|█████████████████████████████████████████████▉     | 293/325 [35:23<03:47,  7.10s/it]"
     ]
    },
    {
     "name": "stdout",
     "output_type": "stream",
     "text": [
      "Processing img_08347.png: 15 words detected\n",
      "Processing img_07337.png: 18 words detected\n",
      "Processing svk_id_42.jpg: 20 words detected\n",
      "Processing img_07379.png: 1 words detected\n",
      "Processing img_06909.png: 12 words detected\n",
      "Processing fin_id_20.jpg: 12 words detected\n",
      "Processing srb_passport_83.jpg: 38 words detected\n",
      "Processing img_08231.png: 5 words detected\n",
      "Processing img_08616.png: 8 words detected\n",
      "Processing img_06943.png: 9 words detected\n",
      "💾 Saved chunk 293 with 10 samples\n"
     ]
    },
    {
     "name": "stderr",
     "output_type": "stream",
     "text": [
      "\r",
      "Processing batches:  90%|██████████████████████████████████████████████▏    | 294/325 [35:31<03:48,  7.36s/it]"
     ]
    },
    {
     "name": "stdout",
     "output_type": "stream",
     "text": [
      "Processing img_08333.png: 20 words detected\n",
      "Processing rus_internalpassport_35.jpg: 3 words detected\n",
      "Processing img_06989.png: 6 words detected\n",
      "Processing img_07845.png: 11 words detected\n",
      "Processing img_06535.png: 5 words detected\n",
      "Processing fin_id_28.jpg: 8 words detected\n",
      "Processing rus_internalpassport_70.jpg: 5 words detected\n",
      "Processing img_08893.png: 9 words detected\n",
      "Processing img_08209.png: 4 words detected\n",
      "Processing rus_internalpassport_33.jpg: 10 words detected\n",
      "Processed 2950/3244 samples. GPU memory: 0.57GB\n"
     ]
    },
    {
     "name": "stderr",
     "output_type": "stream",
     "text": [
      "\r",
      "Processing batches:  91%|██████████████████████████████████████████████▎    | 295/325 [35:38<03:35,  7.17s/it]"
     ]
    },
    {
     "name": "stdout",
     "output_type": "stream",
     "text": [
      "💾 Saved chunk 294 with 10 samples\n",
      "Processing img_06787.png: 6 words detected\n",
      "Processing img_06622.png: 3 words detected\n",
      "Processing img_08805.png: 10 words detected\n",
      "Processing lva_passport_15.jpg: 42 words detected\n",
      "Processing img_07500.png: 8 words detected\n",
      "Processing img_06660.png: 9 words detected\n",
      "Processing img_08713.png: 21 words detected\n",
      "Processing svk_id_23.jpg: 18 words detected\n",
      "Processing img_08901.png: 3 words detected\n",
      "Processing img_08999.png: 17 words detected\n"
     ]
    },
    {
     "name": "stderr",
     "output_type": "stream",
     "text": [
      "\r",
      "Processing batches:  91%|██████████████████████████████████████████████▍    | 296/325 [35:46<03:39,  7.57s/it]"
     ]
    },
    {
     "name": "stdout",
     "output_type": "stream",
     "text": [
      "💾 Saved chunk 295 with 10 samples\n",
      "Processing img_06664.png: 8 words detected\n",
      "Processing img_07725.png: 3 words detected\n",
      "Processing img_07997.png: 29 words detected\n",
      "Processing img_07898.png: 13 words detected\n",
      "Processing lva_passport_73.jpg: 40 words detected\n",
      "Processing img_08685.png: 5 words detected\n",
      "Processing img_06583.png: 10 words detected\n",
      "Processing img_06546.png: 6 words detected\n",
      "Processing img_07548.png: 15 words detected\n",
      "Processing img_09020.png: 6 words detected\n"
     ]
    },
    {
     "name": "stderr",
     "output_type": "stream",
     "text": [
      "\r",
      "Processing batches:  91%|██████████████████████████████████████████████▌    | 297/325 [35:54<03:28,  7.45s/it]"
     ]
    },
    {
     "name": "stdout",
     "output_type": "stream",
     "text": [
      "💾 Saved chunk 296 with 10 samples\n",
      "Processing img_07864.png: 3 words detected\n",
      "Processing img_07595.png: 16 words detected\n",
      "Processing svk_id_26.jpg: 33 words detected\n",
      "Processing img_08613.png: 10 words detected\n",
      "Processing img_06474.png: 12 words detected\n",
      "Processing img_06934.png: 7 words detected\n",
      "Processing img_06511.png: 7 words detected\n",
      "Processing img_08357.png: 19 words detected\n",
      "Processing rus_internalpassport_46.jpg: 5 words detected\n",
      "Processing img_07378.png: 2 words detected\n",
      "💾 Saved chunk 297 with 10 samples\n"
     ]
    },
    {
     "name": "stderr",
     "output_type": "stream",
     "text": [
      "\r",
      "Processing batches:  92%|██████████████████████████████████████████████▊    | 298/325 [36:00<03:16,  7.26s/it]"
     ]
    },
    {
     "name": "stdout",
     "output_type": "stream",
     "text": [
      "Processing img_07092.png: 9 words detected\n",
      "Processing est_id_77.jpg: 7 words detected\n",
      "Processing img_08576.png: 6 words detected\n",
      "Processing img_07615.png: 5 words detected\n",
      "Processing img_06516.png: 15 words detected\n",
      "Processing img_08236.png: 4 words detected\n",
      "Processing img_07475.png: 6 words detected\n",
      "Processing img_06473.png: 2 words detected\n",
      "Processing img_07978.png: 7 words detected\n",
      "Processing img_07327.png: 4 words detected\n",
      "💾 Saved chunk 298 with 10 samples\n"
     ]
    },
    {
     "name": "stderr",
     "output_type": "stream",
     "text": [
      "\r",
      "Processing batches:  92%|██████████████████████████████████████████████▉    | 299/325 [36:07<02:59,  6.92s/it]"
     ]
    },
    {
     "name": "stdout",
     "output_type": "stream",
     "text": [
      "Processing img_07382.png: 13 words detected\n",
      "Processing img_08645.png: 4 words detected\n",
      "Processing img_06572.png: 11 words detected\n",
      "Processing img_06723.png: 10 words detected\n",
      "Processing img_08163.png: 18 words detected\n",
      "Processing img_08408.png: 11 words detected\n",
      "Processing img_08072.png: 16 words detected\n",
      "Processing img_07275.png: 15 words detected\n",
      "Processing img_08138.png: 3 words detected\n",
      "Processing img_07623.png: 5 words detected\n",
      "Processed 3000/3244 samples. GPU memory: 0.57GB\n",
      "💾 Saved chunk 299 with 10 samples\n"
     ]
    },
    {
     "name": "stderr",
     "output_type": "stream",
     "text": [
      "\r",
      "Processing batches:  92%|███████████████████████████████████████████████    | 300/325 [36:14<02:55,  7.01s/it]"
     ]
    },
    {
     "name": "stdout",
     "output_type": "stream",
     "text": [
      "Processing rus_internalpassport_78.jpg: 9 words detected\n",
      "Processing img_07767.png: 12 words detected\n",
      "Processing img_08083.png: 9 words detected\n",
      "Processing img_07550.png: 13 words detected\n",
      "Processing lva_passport_08.jpg: 15 words detected\n",
      "Processing img_06719.png: 10 words detected\n",
      "Processing img_07332.png: 7 words detected\n",
      "Processing img_07586.png: 1 words detected\n",
      "Processing est_id_15.jpg: 7 words detected\n",
      "Processing img_07448.png: 3 words detected\n",
      "💾 Saved chunk 300 with 10 samples\n"
     ]
    },
    {
     "name": "stderr",
     "output_type": "stream",
     "text": [
      "\r",
      "Processing batches:  93%|███████████████████████████████████████████████▏   | 301/325 [36:22<02:57,  7.38s/it]"
     ]
    },
    {
     "name": "stdout",
     "output_type": "stream",
     "text": [
      "Processing img_08302.png: 7 words detected\n",
      "Processing est_id_20.jpg: 9 words detected\n",
      "Processing img_07119.png: 4 words detected\n",
      "Processing img_08833.png: 1 words detected\n",
      "Processing img_07081.png: 5 words detected\n",
      "Processing lva_passport_33.jpg: 37 words detected\n",
      "Processing img_07700.png: 4 words detected\n",
      "Processing img_08852.png: 6 words detected\n",
      "Processing img_07943.png: 5 words detected\n",
      "Processing img_07903.png: 5 words detected\n",
      "💾 Saved chunk 301 with 10 samples\n"
     ]
    },
    {
     "name": "stderr",
     "output_type": "stream",
     "text": [
      "\r",
      "Processing batches:  93%|███████████████████████████████████████████████▍   | 302/325 [36:29<02:47,  7.29s/it]"
     ]
    },
    {
     "name": "stdout",
     "output_type": "stream",
     "text": [
      "Processing srb_passport_12.jpg: 35 words detected\n",
      "Processing img_07624.png: 10 words detected\n",
      "Processing img_08489.png: 1 words detected\n",
      "Processing img_06642.png: 5 words detected\n",
      "Processing svk_id_46.jpg: 27 words detected\n",
      "Processing svk_id_36.jpg: 35 words detected\n",
      "Processing img_06748.png: 3 words detected\n",
      "Processing img_07010.png: 5 words detected\n",
      "Processing img_07135.png: 6 words detected\n",
      "Processing rus_internalpassport_73.jpg: 6 words detected\n",
      "💾 Saved chunk 302 with 10 samples\n"
     ]
    },
    {
     "name": "stderr",
     "output_type": "stream",
     "text": [
      "\r",
      "Processing batches:  93%|███████████████████████████████████████████████▌   | 303/325 [36:37<02:41,  7.34s/it]"
     ]
    },
    {
     "name": "stdout",
     "output_type": "stream",
     "text": [
      "Processing img_08117.png: 7 words detected\n",
      "Processing rus_internalpassport_47.jpg: 8 words detected\n",
      "Processing est_id_65.jpg: 12 words detected\n",
      "Processing img_07662.png: 11 words detected\n",
      "Processing est_id_97.jpg: 1 words detected\n",
      "Processing img_07695.png: 5 words detected\n",
      "Processing img_07425.png: 14 words detected\n",
      "Processing fin_id_17.jpg: 2 words detected\n",
      "Processing img_06798.png: 9 words detected\n",
      "Processing rus_internalpassport_95.jpg: 9 words detected\n",
      "💾 Saved chunk 303 with 10 samples\n"
     ]
    },
    {
     "name": "stderr",
     "output_type": "stream",
     "text": [
      "\r",
      "Processing batches:  94%|███████████████████████████████████████████████▋   | 304/325 [36:43<02:29,  7.11s/it]"
     ]
    },
    {
     "name": "stdout",
     "output_type": "stream",
     "text": [
      "Processing fin_id_39.jpg: 17 words detected\n",
      "Processing img_08749.png: 11 words detected\n",
      "Processing img_07078.png: 7 words detected\n",
      "Processing img_08948.png: 6 words detected\n",
      "Processing fin_id_40.jpg: 13 words detected\n",
      "Processing img_06654.png: 15 words detected\n",
      "Processing img_07097.png: 9 words detected\n",
      "Processing img_07944.png: 9 words detected\n",
      "Processing img_06955.png: 2 words detected\n",
      "Processing img_07973.png: 6 words detected\n",
      "Processed 3050/3244 samples. GPU memory: 0.57GB\n"
     ]
    },
    {
     "name": "stderr",
     "output_type": "stream",
     "text": [
      "\r",
      "Processing batches:  94%|███████████████████████████████████████████████▊   | 305/325 [36:51<02:26,  7.34s/it]"
     ]
    },
    {
     "name": "stdout",
     "output_type": "stream",
     "text": [
      "💾 Saved chunk 304 with 10 samples\n",
      "Processing img_08934.png: 27 words detected\n",
      "Processing img_07267.png: 4 words detected\n",
      "Processing img_08020.png: 20 words detected\n",
      "Processing img_07874.png: 20 words detected\n",
      "Processing img_08200.png: 4 words detected\n",
      "Processing img_07573.png: 12 words detected\n",
      "Processing fin_id_15.jpg: 19 words detected\n",
      "Processing img_07777.png: 7 words detected\n",
      "Processing img_07126.png: 3 words detected\n",
      "Processing img_07862.png: 2 words detected\n",
      "💾 Saved chunk 305 with 10 samples\n"
     ]
    },
    {
     "name": "stderr",
     "output_type": "stream",
     "text": [
      "\r",
      "Processing batches:  94%|████████████████████████████████████████████████   | 306/325 [36:58<02:17,  7.21s/it]"
     ]
    },
    {
     "name": "stdout",
     "output_type": "stream",
     "text": [
      "Processing img_07854.png: 12 words detected\n",
      "Processing img_08299.png: 9 words detected\n",
      "Processing est_id_71.jpg: 10 words detected\n",
      "Processing img_08278.png: 7 words detected\n",
      "Processing svk_id_91.jpg: 22 words detected\n",
      "Processing img_06490.png: 4 words detected\n",
      "Processing img_08973.png: 5 words detected\n",
      "Processing img_08600.png: 1 words detected\n",
      "Processing img_07317.png: 8 words detected\n",
      "Processing img_07783.png: 5 words detected\n",
      "💾 Saved chunk 306 with 10 samples\n"
     ]
    },
    {
     "name": "stderr",
     "output_type": "stream",
     "text": [
      "\r",
      "Processing batches:  94%|████████████████████████████████████████████████▏  | 307/325 [37:05<02:08,  7.13s/it]"
     ]
    },
    {
     "name": "stdout",
     "output_type": "stream",
     "text": [
      "Processing img_08649.png: 5 words detected\n",
      "Processing img_07509.png: 19 words detected\n",
      "Processing img_08798.png: 6 words detected\n",
      "Processing img_07568.png: 8 words detected\n",
      "Processing img_06796.png: 8 words detected\n",
      "Processing img_06924.png: 2 words detected\n",
      "Processing img_07142.png: 6 words detected\n",
      "Processing img_08887.png: 13 words detected\n",
      "Processing img_06850.png: 17 words detected\n",
      "Processing img_08825.png: 2 words detected\n",
      "💾 Saved chunk 307 with 10 samples\n"
     ]
    },
    {
     "name": "stderr",
     "output_type": "stream",
     "text": [
      "\r",
      "Processing batches:  95%|████████████████████████████████████████████████▎  | 308/325 [37:11<01:56,  6.84s/it]"
     ]
    },
    {
     "name": "stdout",
     "output_type": "stream",
     "text": [
      "Processing fin_id_81.jpg: 13 words detected\n",
      "Processing img_08329.png: 6 words detected\n",
      "Processing img_06695.png: 8 words detected\n",
      "Processing grc_passport_74.jpg: 1 words detected\n",
      "Processing img_07657.png: 9 words detected\n",
      "Processing img_06620.png: 9 words detected\n",
      "Processing img_06592.png: 9 words detected\n",
      "Processing img_07032.png: 7 words detected\n",
      "Processing img_07170.png: 1 words detected\n",
      "Processing img_07342.png: 13 words detected\n"
     ]
    },
    {
     "name": "stderr",
     "output_type": "stream",
     "text": [
      "\r",
      "Processing batches:  95%|████████████████████████████████████████████████▍  | 309/325 [37:18<01:50,  6.94s/it]"
     ]
    },
    {
     "name": "stdout",
     "output_type": "stream",
     "text": [
      "💾 Saved chunk 308 with 10 samples\n",
      "Processing img_07383.png: 5 words detected\n",
      "Processing fin_id_67.jpg: 13 words detected\n",
      "Processing img_08065.png: 9 words detected\n",
      "Processing img_08789.png: 18 words detected\n",
      "Processing img_06739.png: 10 words detected\n",
      "Processing svk_id_93.jpg: 30 words detected\n",
      "Processing img_08533.png: 16 words detected\n",
      "Processing est_id_24.jpg: 9 words detected\n",
      "Processing img_06672.png: 10 words detected\n",
      "Processing srb_passport_46.jpg: 17 words detected\n",
      "Processed 3100/3244 samples. GPU memory: 0.57GB\n"
     ]
    },
    {
     "name": "stderr",
     "output_type": "stream",
     "text": [
      "\r",
      "Processing batches:  95%|████████████████████████████████████████████████▋  | 310/325 [37:27<01:52,  7.48s/it]"
     ]
    },
    {
     "name": "stdout",
     "output_type": "stream",
     "text": [
      "💾 Saved chunk 309 with 10 samples\n",
      "Processing img_09010.png: 33 words detected\n",
      "Processing img_06632.png: 12 words detected\n",
      "Processing img_08860.png: 9 words detected\n",
      "Processing img_08540.png: 6 words detected\n",
      "Processing img_06543.png: 8 words detected\n",
      "Processing img_07669.png: 11 words detected\n",
      "Processing img_08309.png: 4 words detected\n",
      "Processing img_08963.png: 24 words detected\n",
      "Processing img_07265.png: 6 words detected\n",
      "Processing img_06771.png: 4 words detected\n"
     ]
    },
    {
     "name": "stderr",
     "output_type": "stream",
     "text": [
      "\r",
      "Processing batches:  96%|████████████████████████████████████████████████▊  | 311/325 [37:33<01:40,  7.15s/it]"
     ]
    },
    {
     "name": "stdout",
     "output_type": "stream",
     "text": [
      "💾 Saved chunk 310 with 10 samples\n",
      "Processing img_07263.png: 14 words detected\n",
      "Processing img_08179.png: 20 words detected\n",
      "Processing img_06891.png: 13 words detected\n",
      "Processing img_08473.png: 11 words detected\n",
      "Processing img_08615.png: 1 words detected\n",
      "Processing img_08079.png: 3 words detected\n",
      "Processing svk_id_29.jpg: 11 words detected\n",
      "Processing img_07665.png: 17 words detected\n",
      "Processing img_08552.png: 6 words detected\n",
      "Processing img_08498.png: 21 words detected\n",
      "💾 Saved chunk 311 with 10 samples\n"
     ]
    },
    {
     "name": "stderr",
     "output_type": "stream",
     "text": [
      "\r",
      "Processing batches:  96%|████████████████████████████████████████████████▉  | 312/325 [37:40<01:31,  7.01s/it]"
     ]
    },
    {
     "name": "stdout",
     "output_type": "stream",
     "text": [
      "Processing img_07745.png: 1 words detected\n",
      "Processing img_06838.png: 8 words detected\n",
      "Processing img_07831.png: 11 words detected\n",
      "Processing img_07269.png: 8 words detected\n",
      "Processing img_07455.png: 1 words detected\n",
      "Processing img_07588.png: 7 words detected\n",
      "Processing img_06710.png: 9 words detected\n",
      "Processing img_08752.png: 5 words detected\n",
      "Processing img_07489.png: 8 words detected\n",
      "Processing srb_passport_14.jpg: 32 words detected\n",
      "💾 Saved chunk 312 with 10 samples\n"
     ]
    },
    {
     "name": "stderr",
     "output_type": "stream",
     "text": [
      "\r",
      "Processing batches:  96%|█████████████████████████████████████████████████  | 313/325 [37:47<01:23,  6.97s/it]"
     ]
    },
    {
     "name": "stdout",
     "output_type": "stream",
     "text": [
      "Processing img_08786.png: 12 words detected\n",
      "Processing img_08195.png: 6 words detected\n",
      "Processing img_07559.png: 15 words detected\n",
      "Processing img_07072.png: 27 words detected\n",
      "Processing img_06526.png: 5 words detected\n",
      "Processing rus_internalpassport_34.jpg: 8 words detected\n",
      "Processing img_08890.png: 5 words detected\n",
      "Processing svk_id_31.jpg: 23 words detected\n",
      "Processing img_08992.png: 10 words detected\n",
      "Processing est_id_84.jpg: 9 words detected\n",
      "💾 Saved chunk 313 with 10 samples\n"
     ]
    },
    {
     "name": "stderr",
     "output_type": "stream",
     "text": [
      "\r",
      "Processing batches:  97%|█████████████████████████████████████████████████▎ | 314/325 [37:54<01:16,  7.00s/it]"
     ]
    },
    {
     "name": "stdout",
     "output_type": "stream",
     "text": [
      "Processing img_07733.png: 6 words detected\n",
      "Processing img_07596.png: 7 words detected\n",
      "Processing svk_id_72.jpg: 6 words detected\n",
      "Processing img_08037.png: 4 words detected\n",
      "Processing img_07019.png: 11 words detected\n",
      "Processing img_08646.png: 8 words detected\n",
      "Processing img_07732.png: 8 words detected\n",
      "Processing svk_id_34.jpg: 1 words detected\n",
      "Processing img_06879.png: 8 words detected\n",
      "Processing img_07920.png: 13 words detected\n",
      "Processed 3150/3244 samples. GPU memory: 0.57GB\n",
      "💾 Saved chunk 314 with 10 samples\n"
     ]
    },
    {
     "name": "stderr",
     "output_type": "stream",
     "text": [
      "\r",
      "Processing batches:  97%|█████████████████████████████████████████████████▍ | 315/325 [38:02<01:12,  7.26s/it]"
     ]
    },
    {
     "name": "stdout",
     "output_type": "stream",
     "text": [
      "Processing img_08184.png: 2 words detected\n",
      "Processing img_06587.png: 1 words detected\n",
      "Processing img_06823.png: 3 words detected\n",
      "Processing img_06860.png: 8 words detected\n",
      "Processing img_07674.png: 2 words detected\n",
      "Processing img_08661.png: 6 words detected\n",
      "Processing img_07280.png: 7 words detected\n",
      "Processing img_07208.png: 14 words detected\n",
      "Processing img_06577.png: 13 words detected\n",
      "Processing rus_internalpassport_24.jpg: 6 words detected\n",
      "💾 Saved chunk 315 with 10 samples\n"
     ]
    },
    {
     "name": "stderr",
     "output_type": "stream",
     "text": [
      "\r",
      "Processing batches:  97%|█████████████████████████████████████████████████▌ | 316/325 [38:08<01:02,  6.94s/it]"
     ]
    },
    {
     "name": "stdout",
     "output_type": "stream",
     "text": [
      "Processing img_06753.png: 14 words detected\n",
      "Processing img_07123.png: 20 words detected\n",
      "Processing img_07719.png: 13 words detected\n",
      "Processing srb_passport_07.jpg: 5 words detected\n",
      "Processing img_08558.png: 10 words detected\n",
      "Processing img_07251.png: 9 words detected\n",
      "Processing img_08851.png: 13 words detected\n",
      "Processing img_08806.png: 4 words detected\n",
      "Processing fin_id_21.jpg: 7 words detected\n",
      "Processing fin_id_32.jpg: 10 words detected\n"
     ]
    },
    {
     "name": "stderr",
     "output_type": "stream",
     "text": [
      "\r",
      "Processing batches:  98%|█████████████████████████████████████████████████▋ | 317/325 [38:16<00:57,  7.13s/it]"
     ]
    },
    {
     "name": "stdout",
     "output_type": "stream",
     "text": [
      "💾 Saved chunk 316 with 10 samples\n",
      "Processing img_08868.png: 12 words detected\n",
      "Processing img_08758.png: 7 words detected\n",
      "Processing img_07880.png: 7 words detected\n",
      "Processing img_08155.png: 1 words detected\n",
      "Processing grc_passport_02.jpg: 36 words detected\n",
      "Processing img_07021.png: 8 words detected\n",
      "Processing grc_passport_41.jpg: 2 words detected\n",
      "Processing img_07904.png: 7 words detected\n",
      "Processing img_08521.png: 22 words detected\n",
      "Processing img_08937.png: 10 words detected\n",
      "💾 Saved chunk 317 with 10 samples\n"
     ]
    },
    {
     "name": "stderr",
     "output_type": "stream",
     "text": [
      "\r",
      "Processing batches:  98%|█████████████████████████████████████████████████▉ | 318/325 [38:23<00:50,  7.27s/it]"
     ]
    },
    {
     "name": "stdout",
     "output_type": "stream",
     "text": [
      "Processing grc_passport_09.jpg: 3 words detected\n",
      "Processing img_06865.png: 3 words detected\n",
      "Processing img_08029.png: 4 words detected\n",
      "Processing img_07996.png: 4 words detected\n",
      "Processing img_06980.png: 8 words detected\n",
      "Processing img_06993.png: 9 words detected\n",
      "Processing img_06656.png: 8 words detected\n",
      "Processing img_08017.png: 6 words detected\n",
      "Processing img_08783.png: 19 words detected\n",
      "Processing img_07641.png: 2 words detected\n",
      "💾 Saved chunk 318 with 10 samples\n"
     ]
    },
    {
     "name": "stderr",
     "output_type": "stream",
     "text": [
      "\r",
      "Processing batches:  98%|██████████████████████████████████████████████████ | 319/325 [38:31<00:44,  7.50s/it]"
     ]
    },
    {
     "name": "stdout",
     "output_type": "stream",
     "text": [
      "Processing img_07334.png: 11 words detected\n",
      "Processing img_08727.png: 4 words detected\n",
      "Processing img_06801.png: 10 words detected\n",
      "Processing img_07140.png: 8 words detected\n",
      "Processing img_06785.png: 13 words detected\n",
      "Processing img_07809.png: 2 words detected\n",
      "Processing img_07156.png: 3 words detected\n",
      "Processing img_07728.png: 6 words detected\n",
      "Processing img_08315.png: 9 words detected\n",
      "Processing est_id_25.jpg: 7 words detected\n",
      "Processed 3200/3244 samples. GPU memory: 0.57GB\n",
      "💾 Saved chunk 319 with 10 samples\n"
     ]
    },
    {
     "name": "stderr",
     "output_type": "stream",
     "text": [
      "\r",
      "Processing batches:  98%|██████████████████████████████████████████████████▏| 320/325 [38:38<00:36,  7.27s/it]"
     ]
    },
    {
     "name": "stdout",
     "output_type": "stream",
     "text": [
      "Processing img_07527.png: 6 words detected\n",
      "Processing fin_id_03.jpg: 13 words detected\n",
      "Processing img_07353.png: 18 words detected\n",
      "Processing grc_passport_69.jpg: 2 words detected\n",
      "Processing est_id_51.jpg: 14 words detected\n",
      "Processing img_08450.png: 15 words detected\n",
      "Processing img_07660.png: 18 words detected\n",
      "Processing img_07882.png: 13 words detected\n",
      "Processing img_07824.png: 11 words detected\n",
      "Processing fin_id_33.jpg: 3 words detected\n",
      "💾 Saved chunk 320 with 10 samples\n"
     ]
    },
    {
     "name": "stderr",
     "output_type": "stream",
     "text": [
      "\r",
      "Processing batches:  99%|██████████████████████████████████████████████████▎| 321/325 [38:46<00:29,  7.46s/it]"
     ]
    },
    {
     "name": "stdout",
     "output_type": "stream",
     "text": [
      "Processing img_07789.png: 9 words detected\n",
      "Processing img_07202.png: 11 words detected\n",
      "Processing img_06734.png: 5 words detected\n",
      "Processing img_09019.png: 9 words detected\n",
      "Processing img_07213.png: 6 words detected\n",
      "Processing img_07496.png: 7 words detected\n",
      "Processing img_07861.png: 4 words detected\n",
      "Processing img_06889.png: 3 words detected\n",
      "Processing img_08375.png: 4 words detected\n",
      "Processing img_08441.png: 11 words detected\n",
      "💾 Saved chunk 321 with 10 samples\n"
     ]
    },
    {
     "name": "stderr",
     "output_type": "stream",
     "text": [
      "\r",
      "Processing batches:  99%|██████████████████████████████████████████████████▌| 322/325 [38:52<00:21,  7.09s/it]"
     ]
    },
    {
     "name": "stdout",
     "output_type": "stream",
     "text": [
      "Processing img_08342.png: 7 words detected\n",
      "Processing img_08658.png: 17 words detected\n",
      "Processing img_07134.png: 5 words detected\n",
      "Processing img_07642.png: 2 words detected\n",
      "Processing est_id_87.jpg: 3 words detected\n",
      "Processing img_06961.png: 8 words detected\n",
      "Processing svk_id_11.jpg: 3 words detected\n",
      "Processing img_08993.png: 15 words detected\n",
      "Processing img_07377.png: 11 words detected\n",
      "Processing rus_internalpassport_89.jpg: 12 words detected\n",
      "💾 Saved chunk 322 with 10 samples\n"
     ]
    },
    {
     "name": "stderr",
     "output_type": "stream",
     "text": [
      "\r",
      "Processing batches:  99%|██████████████████████████████████████████████████▋| 323/325 [38:59<00:14,  7.08s/it]"
     ]
    },
    {
     "name": "stdout",
     "output_type": "stream",
     "text": [
      "Processing rus_internalpassport_51.jpg: 4 words detected\n",
      "Processing img_06549.png: 9 words detected\n",
      "Processing lva_passport_32.jpg: 41 words detected\n",
      "Processing img_08756.png: 5 words detected\n",
      "Processing img_06586.png: 12 words detected\n",
      "Processing img_07002.png: 6 words detected\n",
      "Processing img_08831.png: 2 words detected\n",
      "Processing img_07597.png: 9 words detected\n",
      "Processing img_07326.png: 8 words detected\n",
      "Processing img_06893.png: 8 words detected\n"
     ]
    },
    {
     "name": "stderr",
     "output_type": "stream",
     "text": [
      "\r",
      "Processing batches: 100%|██████████████████████████████████████████████████▊| 324/325 [39:07<00:07,  7.24s/it]"
     ]
    },
    {
     "name": "stdout",
     "output_type": "stream",
     "text": [
      "💾 Saved chunk 323 with 10 samples\n",
      "Processing img_07466.png: 15 words detected\n",
      "Processing img_07416.png: 10 words detected\n",
      "Processing fin_id_05.jpg: 2 words detected\n",
      "Processing img_07598.png: 11 words detected\n"
     ]
    },
    {
     "name": "stderr",
     "output_type": "stream",
     "text": [
      "Processing batches: 100%|███████████████████████████████████████████████████| 325/325 [39:10<00:00,  7.23s/it]"
     ]
    },
    {
     "name": "stdout",
     "output_type": "stream",
     "text": [
      "💾 Saved chunk 324 with 4 samples\n",
      "✅ Successfully processed 3244 samples\n",
      "\n",
      "🔧 Creating datasets and dataloaders...\n",
      "Dataset initialized with 2595 valid samples\n",
      "Dataset initialized with 324 valid samples\n",
      "Dataset initialized with 325 valid samples\n",
      "📊 DataLoader Summary:\n",
      "   Training batches: 649\n",
      "   Validation batches: 162\n",
      "   Test batches: 163\n",
      "\n",
      "🧠 Initializing model...\n"
     ]
    },
    {
     "name": "stderr",
     "output_type": "stream",
     "text": [
      "\n",
      "Some weights of LayoutLMv3ForSequenceClassification were not initialized from the model checkpoint at microsoft/layoutlmv3-base and are newly initialized: ['classifier.dense.bias', 'classifier.dense.weight', 'classifier.out_proj.bias', 'classifier.out_proj.weight']\n",
      "You should probably TRAIN this model on a down-stream task to be able to use it for predictions and inference.\n"
     ]
    },
    {
     "name": "stdout",
     "output_type": "stream",
     "text": [
      "🎯 Model Summary:\n",
      "   Model class: LayoutLMv3ForSequenceClassification\n",
      "   Number of labels: 18\n",
      "   Parameters: 125,931,410\n",
      "   Trainable parameters: 125,931,410\n",
      "\n",
      "🏋️ Starting training for 15 epochs...\n",
      "\n",
      "==================================================\n",
      "EPOCH 1/15\n",
      "==================================================\n"
     ]
    },
    {
     "name": "stderr",
     "output_type": "stream",
     "text": [
      "Training Epoch 1:  20%|███████▌                              | 129/649 [27:47<2:02:48, 14.17s/it, loss=0.0111]"
     ]
    }
   ],
   "source": [
    "def main(data_dir=None, epochs=None, batch_size=None, learning_rate=None, no_cache=False):\n",
    "    data_dir = data_dir or DATA_DIR\n",
    "    epochs = epochs or EPOCHS\n",
    "    batch_size = batch_size or BATCH_SIZE\n",
    "    learning_rate = learning_rate or LEARNING_RATE\n",
    "    \n",
    "    print(f\"🚀 Starting LayoutLM Document Classification Training\")\n",
    "    print(f\"   Data directory: {data_dir}\")\n",
    "    print(f\"   Epochs: {epochs}\")\n",
    "    print(f\"   Batch size: {batch_size}\")\n",
    "    print(f\"   Learning rate: {learning_rate}\")\n",
    "    \n",
    "    timestamp = datetime.now().strftime(\"%Y%m%d_%H%M%S\")\n",
    "    \n",
    "    print(\"\\n📂 Loading dataset...\")\n",
    "    samples, label_map = load_data(data_dir)\n",
    "    \n",
    "    train_samples, val_samples, test_samples = split_data(samples)\n",
    "    \n",
    "    if no_cache:\n",
    "        print(\"🗑️  Clearing cache as requested...\")\n",
    "        import glob\n",
    "        cache_files = glob.glob(os.path.join(CACHE_DIR, \"chunk_*.pkl\"))\n",
    "        for cache_file in cache_files:\n",
    "            try:\n",
    "                os.unlink(cache_file)\n",
    "            except:\n",
    "                pass\n",
    "    \n",
    "    print(\"🔄 Processing samples with enhanced validation...\")\n",
    "    all_processed = process_samples_in_batches(samples)\n",
    "    \n",
    "    if len(all_processed) == 0:\n",
    "        raise ValueError(\"No samples were processed successfully! Check your data and configuration.\")\n",
    "        \n",
    "    if len(all_processed) != len(samples):\n",
    "        print(f\"⚠️  Warning: Only {len(all_processed)}/{len(samples)} samples processed successfully\")\n",
    "    \n",
    "    train_processed = all_processed[:len(train_samples)]\n",
    "    val_processed = all_processed[len(train_samples):len(train_samples)+len(val_samples)]\n",
    "    test_processed = all_processed[len(train_samples)+len(val_samples):]\n",
    "    \n",
    "    print(\"\\n🔧 Creating datasets and dataloaders...\")\n",
    "    train_dataset = MemoryEfficientDataset(train_processed)\n",
    "    val_dataset = MemoryEfficientDataset(val_processed)\n",
    "    test_dataset = MemoryEfficientDataset(test_processed)\n",
    "    num_work=os.cpu_count() //2\n",
    "    train_loader = DataLoader(\n",
    "        train_dataset,\n",
    "        batch_size=4,\n",
    "        shuffle=True,\n",
    "        num_workers=6,\n",
    "        pin_memory=True,\n",
    "        persistent_workers=True\n",
    "    )\n",
    "    \n",
    "    val_loader = DataLoader(\n",
    "        val_dataset, batch_size=2,\n",
    "        shuffle=False, num_workers=4, pin_memory=True, persistent_workers=True\n",
    "    )\n",
    "    \n",
    "    test_loader = DataLoader(\n",
    "        test_dataset,\n",
    "        batch_size=2,\n",
    "        shuffle=False,\n",
    "        num_workers=4,\n",
    "        pin_memory=True\n",
    "    )\n",
    "    \n",
    "    print(f\"📊 DataLoader Summary:\")\n",
    "    print(f\"   Training batches: {len(train_loader)}\")\n",
    "    print(f\"   Validation batches: {len(val_loader)}\")\n",
    "    print(f\"   Test batches: {len(test_loader)}\")\n",
    "    \n",
    "    print(\"\\n🧠 Initializing model...\")\n",
    "    num_labels = len(label_map)\n",
    "    model = MODEL_CLASS.from_pretrained(MODEL_NAME, num_labels=num_labels)\n",
    "    model.to(DEVICE)\n",
    "    \n",
    "    optimizer = torch.optim.AdamW(model.parameters(), lr=learning_rate, weight_decay=0.01)\n",
    "    scheduler = torch.optim.lr_scheduler.LinearLR(\n",
    "        optimizer, \n",
    "        start_factor=1.0, \n",
    "        end_factor=0.1, \n",
    "        total_iters=epochs * len(train_loader)\n",
    "    )\n",
    "    \n",
    "    print(f\"🎯 Model Summary:\")\n",
    "    print(f\"   Model class: {MODEL_CLASS.__name__}\")\n",
    "    print(f\"   Number of labels: {num_labels}\")\n",
    "    print(f\"   Parameters: {sum(p.numel() for p in model.parameters()):,}\")\n",
    "    print(f\"   Trainable parameters: {sum(p.numel() for p in model.parameters() if p.requires_grad):,}\")\n",
    "    \n",
    "    results = {\n",
    "        'train_losses': [],\n",
    "        'val_accuracies': [],\n",
    "        'val_f1_scores': [],\n",
    "        'best_val_accuracy': 0.0,\n",
    "        'best_val_f1': 0.0\n",
    "    }\n",
    "    \n",
    "    print(f\"\\n🏋️ Starting training for {epochs} epochs...\")\n",
    "    best_val_f1 = 0.0\n",
    "    \n",
    "    for epoch in range(1, epochs + 1):\n",
    "        print(f\"\\n{'='*50}\")\n",
    "        print(f\"EPOCH {epoch}/{epochs}\")\n",
    "        print(f\"{'='*50}\")\n",
    "        \n",
    "        train_loss = train_epoch(model, train_loader, optimizer, epoch)\n",
    "        results['train_losses'].append(train_loss)\n",
    "        \n",
    "        val_accuracy, val_f1 = evaluate_model(model, val_loader, label_map, \"Validation\")\n",
    "        results['val_accuracies'].append(val_accuracy)\n",
    "        results['val_f1_scores'].append(val_f1)\n",
    "        \n",
    "        if val_f1 > best_val_f1:\n",
    "            best_val_f1 = val_f1\n",
    "            results['best_val_accuracy'] = val_accuracy\n",
    "            results['best_val_f1'] = val_f1\n",
    "            \n",
    "            print(f\"🏆 New best validation F1: {val_f1:.4f}\")\n",
    "            \n",
    "            best_model_path = os.path.join(SAVE_DIR, f\"best_model_{timestamp}\")\n",
    "            try:\n",
    "                model.save_pretrained(best_model_path)\n",
    "                processor.save_pretrained(best_model_path)\n",
    "                print(f\"💾 Best model saved to: {best_model_path}\")\n",
    "            except Exception as e:\n",
    "                print(f\"❌ Failed to save best model: {e}\")\n",
    "        \n",
    "        scheduler.step()\n",
    "        clear_memory()\n",
    "        \n",
    "        print(f\"📈 Epoch {epoch} Summary:\")\n",
    "        print(f\"   Train Loss: {train_loss:.4f}\")\n",
    "        print(f\"   Val Accuracy: {val_accuracy:.4f}\")\n",
    "        print(f\"   Val F1: {val_f1:.4f}\")\n",
    "        print(f\"   Best Val F1: {best_val_f1:.4f}\")\n",
    "    \n",
    "    print(\"\\n🧪 Running final test evaluation...\")\n",
    "    test_accuracy, test_f1 = evaluate_model(model, test_loader, label_map, \"Test\")\n",
    "    results['test_accuracy'] = test_accuracy\n",
    "    results['test_f1'] = test_f1\n",
    "    \n",
    "    print(\"\\n📊 Final Training Summary:\")\n",
    "    print(f\"   Best Validation Accuracy: {results['best_val_accuracy']:.4f}\")\n",
    "    print(f\"   Best Validation F1: {results['best_val_f1']:.4f}\")\n",
    "    print(f\"   Final Test Accuracy: {test_accuracy:.4f}\")\n",
    "    print(f\"   Final Test F1: {test_f1:.4f}\")\n",
    "    \n",
    "    # Save final model and results\n",
    "    save_model_and_results(model, label_map, results, timestamp)\n",
    "    \n",
    "    # Plot training curves\n",
    "    plt.figure(figsize=(15, 5))\n",
    "    \n",
    "    # Plot training loss\n",
    "    plt.subplot(1, 3, 1)\n",
    "    plt.plot(range(1, epochs + 1), results['train_losses'], 'b-', marker='o')\n",
    "    plt.title('Training Loss')\n",
    "    plt.xlabel('Epoch')\n",
    "    plt.ylabel('Loss')\n",
    "    plt.grid(True)\n",
    "    \n",
    "    # Plot validation accuracy\n",
    "    plt.subplot(1, 3, 2)\n",
    "    plt.plot(range(1, epochs + 1), results['val_accuracies'], 'g-', marker='o')\n",
    "    plt.title('Validation Accuracy')\n",
    "    plt.xlabel('Epoch')\n",
    "    plt.ylabel('Accuracy')\n",
    "    plt.grid(True)\n",
    "    \n",
    "    # Plot validation F1\n",
    "    plt.subplot(1, 3, 3)\n",
    "    plt.plot(range(1, epochs + 1), results['val_f1_scores'], 'r-', marker='o')\n",
    "    plt.title('Validation F1 Score')\n",
    "    plt.xlabel('Epoch')\n",
    "    plt.ylabel('F1 Score')\n",
    "    plt.grid(True)\n",
    "    \n",
    "    plt.tight_layout()\n",
    "    plt.savefig(f\"training_curves_{timestamp}.png\", dpi=300, bbox_inches='tight')\n",
    "    plt.show()\n",
    "    plt.close()\n",
    "    \n",
    "    print(f\"\\n✅ Training completed successfully!\")\n",
    "    print(f\"📁 All outputs saved with timestamp: {timestamp}\")\n",
    "    \n",
    "    return {\n",
    "        'model': model,\n",
    "        'processor': processor,\n",
    "        'label_map': label_map,\n",
    "        'results': results,\n",
    "        'timestamp': timestamp\n",
    "    }\n",
    "\n",
    "\n",
    "if __name__ == \"__main__\":\n",
    "    try:\n",
    "        main(\n",
    "            data_dir=\"/home/hasan/datasets/classify/test\",\n",
    "            epochs=15,\n",
    "            batch_size=32,\n",
    "            learning_rate=2e-5,\n",
    "            no_cache=True\n",
    "        )\n",
    "        print(\"🎉 Training pipeline completed successfully!\")\n",
    "        \n",
    "    except KeyboardInterrupt:\n",
    "        print(\"\\n⏹️  Training interrupted by user\")\n",
    "    except Exception as e:\n",
    "        print(f\"\\n❌ Training failed with error: {e}\")\n",
    "        import traceback\n",
    "        traceback.print_exc()\n",
    "    finally:\n",
    "        clear_memory()\n",
    "        print(\"🧹 Memory cleanup completed\")"
   ]
  },
  {
   "cell_type": "code",
   "execution_count": null,
   "id": "04cbde6d",
   "metadata": {},
   "outputs": [],
   "source": []
  }
 ],
 "metadata": {
  "kernelspec": {
   "display_name": "Python (gpu_ml)",
   "language": "python",
   "name": "gpu_ml"
  },
  "language_info": {
   "codemirror_mode": {
    "name": "ipython",
    "version": 3
   },
   "file_extension": ".py",
   "mimetype": "text/x-python",
   "name": "python",
   "nbconvert_exporter": "python",
   "pygments_lexer": "ipython3",
   "version": "3.10.16"
  }
 },
 "nbformat": 4,
 "nbformat_minor": 5
}
